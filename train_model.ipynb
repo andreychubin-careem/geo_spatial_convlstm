{
 "cells": [
  {
   "cell_type": "markdown",
   "id": "b9e53237-67b9-4fc5-ab08-0050c7527a49",
   "metadata": {
    "tags": []
   },
   "source": [
    "#### TODO:\n",
    "- pct change instead of real values\n",
    "- decomposition\n",
    "- features"
   ]
  },
  {
   "cell_type": "code",
   "execution_count": 1,
   "id": "29809555-eb64-4bf9-8a73-88e9950d9d11",
   "metadata": {},
   "outputs": [],
   "source": [
    "import os\n",
    "import warnings\n",
    "import multiprocessing\n",
    "\n",
    "import torch\n",
    "import numpy as np\n",
    "import pandas as pd\n",
    "import geopandas as gpd\n",
    "import lightning as pl\n",
    "import matplotlib.pyplot as plt\n",
    "import seaborn as sns\n",
    "\n",
    "from tqdm import tqdm"
   ]
  },
  {
   "cell_type": "code",
   "execution_count": 2,
   "id": "92d88f2a-3bc2-4e72-8efb-ecf4c1a26b51",
   "metadata": {},
   "outputs": [
    {
     "data": {
      "text/plain": [
       "'2.0.1'"
      ]
     },
     "execution_count": 2,
     "metadata": {},
     "output_type": "execute_result"
    }
   ],
   "source": [
    "torch.__version__"
   ]
  },
  {
   "cell_type": "code",
   "execution_count": 3,
   "id": "a4022d1d-54c7-4bc1-900a-5d40013464bf",
   "metadata": {},
   "outputs": [],
   "source": [
    "warnings.filterwarnings('ignore')"
   ]
  },
  {
   "cell_type": "code",
   "execution_count": 4,
   "id": "45235264-db04-4762-a70c-fcf4a400c79c",
   "metadata": {},
   "outputs": [],
   "source": [
    "CPUS = (multiprocessing.cpu_count()//2) - 1\n",
    "BATCH_SIZE = 64\n",
    "N_STEPS_PAST = 7*24\n",
    "HORIZON = 1*24"
   ]
  },
  {
   "cell_type": "code",
   "execution_count": 5,
   "id": "1d7a16b6-c61b-445f-b76c-6c7b3fd7a52b",
   "metadata": {},
   "outputs": [
    {
     "name": "stdout",
     "output_type": "stream",
     "text": [
      "4\n"
     ]
    }
   ],
   "source": [
    "print(CPUS)"
   ]
  },
  {
   "cell_type": "markdown",
   "id": "4e96b19e-a09e-4e42-b657-f3c63ee129ac",
   "metadata": {},
   "source": [
    "### Preparing Data"
   ]
  },
  {
   "cell_type": "code",
   "execution_count": 6,
   "id": "d79cf5ba-6ac3-4468-bed2-2ce3e2f78ddf",
   "metadata": {},
   "outputs": [],
   "source": [
    "from st_forecasting.utils.functions import to_df, to_stream, denoise_by_square"
   ]
  },
  {
   "cell_type": "code",
   "execution_count": 7,
   "id": "ae182755-dab4-4703-a572-0ac091c1f0d4",
   "metadata": {},
   "outputs": [],
   "source": [
    "data = pd.read_parquet('data/amman_data.pq').sort_values(['square_id', 'ts'])\n",
    "pd_squares = pd.read_parquet('data/amman_squares.pq').assign(key=1)\n",
    "ids = np.load('data/amman_squares.npy')"
   ]
  },
  {
   "cell_type": "code",
   "execution_count": 8,
   "id": "e13e4e96-9550-466c-8f0c-0e4688c9698e",
   "metadata": {},
   "outputs": [],
   "source": [
    "time = pd.DataFrame({'ts': pd.date_range(start=data['ts'].min(), end=data['ts'].max(), freq='1H')}).assign(key=1)\n",
    "time['ts'] = time['ts'].astype(str)\n",
    "time_squares = pd_squares.merge(time, on='key', how='outer').drop('key', axis=1).sort_values(['ts', 'square_id'])\n",
    "data = time_squares.merge(data, on=['square_id', 'ts'], how='left')\n",
    "data['intents'] = data['intents'].fillna(0)"
   ]
  },
  {
   "cell_type": "raw",
   "id": "883a0e5c-f63c-4609-b9be-e14480857a77",
   "metadata": {},
   "source": [
    "sns.lineplot(data[data.square_id == 207].sort_values('ts').iloc[-100:].intents.values)"
   ]
  },
  {
   "cell_type": "raw",
   "id": "abe999e8-d268-4b96-8971-439572c0ffa5",
   "metadata": {},
   "source": [
    "sns.lineplot(\n",
    "    signal.savgol_filter(\n",
    "        data[data.square_id == 207].sort_values('ts').iloc[-100:].intents.values, window_length=4, polyorder=1\n",
    "    )\n",
    ")"
   ]
  },
  {
   "cell_type": "code",
   "execution_count": 9,
   "id": "e2137af7-35a6-42a2-a53e-aaca58609700",
   "metadata": {},
   "outputs": [
    {
     "name": "stderr",
     "output_type": "stream",
     "text": [
      "Denoising...: 100%|██████████████████████████| 100/100 [00:00<00:00, 466.32it/s]\n"
     ]
    }
   ],
   "source": [
    "denoised_df = denoise_by_square(data)"
   ]
  },
  {
   "cell_type": "code",
   "execution_count": 10,
   "id": "26e58480-6e7d-4e67-94f3-b3fc9ad668ba",
   "metadata": {},
   "outputs": [
    {
     "name": "stderr",
     "output_type": "stream",
     "text": [
      "Converting to stream...: 100%|████████████| 5328/5328 [00:02<00:00, 1952.43it/s]\n",
      "Converting to stream...: 100%|████████████| 5328/5328 [00:02<00:00, 2098.71it/s]\n"
     ]
    }
   ],
   "source": [
    "stream = to_stream(data, pd_squares)\n",
    "denoised_stream = to_stream(denoised_df, pd_squares)"
   ]
  },
  {
   "cell_type": "markdown",
   "id": "15b36c0a-d331-465a-8acf-edb9006c0c71",
   "metadata": {},
   "source": [
    "### Splitting Data"
   ]
  },
  {
   "cell_type": "code",
   "execution_count": 11,
   "id": "d0f36cc1-4e23-4803-bb64-ea196fa4573e",
   "metadata": {},
   "outputs": [
    {
     "name": "stdout",
     "output_type": "stream",
     "text": [
      "5136\n",
      " \n",
      "3595\n",
      "1027\n",
      "514\n"
     ]
    }
   ],
   "source": [
    "all_indexes = list(range(N_STEPS_PAST+HORIZON, stream.shape[0]))\n",
    "\n",
    "n = len(all_indexes)\n",
    "\n",
    "train_indexes = all_indexes[:int(n*0.7)]\n",
    "val_indexes = all_indexes[int(n*0.7):int(n*0.9)]\n",
    "test_indexes = all_indexes[int(n*0.9):]\n",
    "\n",
    "print(n)\n",
    "print(' ')\n",
    "print(len(train_indexes))\n",
    "print(len(val_indexes))\n",
    "print(len(test_indexes))"
   ]
  },
  {
   "cell_type": "markdown",
   "id": "b2262082-d415-4242-94b6-e31bbe401b4e",
   "metadata": {},
   "source": [
    "##### Random Downsampling of training data"
   ]
  },
  {
   "cell_type": "code",
   "execution_count": 12,
   "id": "bac53b22-2e75-4ae6-b2cf-817a8f7355ec",
   "metadata": {},
   "outputs": [
    {
     "name": "stdout",
     "output_type": "stream",
     "text": [
      "2876\n"
     ]
    }
   ],
   "source": [
    "train_indexes = np.sort(np.random.choice(train_indexes, size=int(len(train_indexes)*0.8), replace=False))\n",
    "print(len(train_indexes))"
   ]
  },
  {
   "cell_type": "markdown",
   "id": "78b30a85-2d8b-44cd-80a3-45d122ef665c",
   "metadata": {
    "tags": []
   },
   "source": [
    "### Scaler\n",
    "(should be used carefully, because applied in the most straightforward way)"
   ]
  },
  {
   "cell_type": "code",
   "execution_count": 13,
   "id": "75681e20-2416-4905-90f8-dce955b86b73",
   "metadata": {},
   "outputs": [],
   "source": [
    "from sklearn.preprocessing import StandardScaler"
   ]
  },
  {
   "cell_type": "code",
   "execution_count": 14,
   "id": "64151ba9-b770-4353-bfee-34ef0faeb134",
   "metadata": {},
   "outputs": [
    {
     "data": {
      "text/html": [
       "<style>#sk-container-id-1 {color: black;background-color: white;}#sk-container-id-1 pre{padding: 0;}#sk-container-id-1 div.sk-toggleable {background-color: white;}#sk-container-id-1 label.sk-toggleable__label {cursor: pointer;display: block;width: 100%;margin-bottom: 0;padding: 0.3em;box-sizing: border-box;text-align: center;}#sk-container-id-1 label.sk-toggleable__label-arrow:before {content: \"▸\";float: left;margin-right: 0.25em;color: #696969;}#sk-container-id-1 label.sk-toggleable__label-arrow:hover:before {color: black;}#sk-container-id-1 div.sk-estimator:hover label.sk-toggleable__label-arrow:before {color: black;}#sk-container-id-1 div.sk-toggleable__content {max-height: 0;max-width: 0;overflow: hidden;text-align: left;background-color: #f0f8ff;}#sk-container-id-1 div.sk-toggleable__content pre {margin: 0.2em;color: black;border-radius: 0.25em;background-color: #f0f8ff;}#sk-container-id-1 input.sk-toggleable__control:checked~div.sk-toggleable__content {max-height: 200px;max-width: 100%;overflow: auto;}#sk-container-id-1 input.sk-toggleable__control:checked~label.sk-toggleable__label-arrow:before {content: \"▾\";}#sk-container-id-1 div.sk-estimator input.sk-toggleable__control:checked~label.sk-toggleable__label {background-color: #d4ebff;}#sk-container-id-1 div.sk-label input.sk-toggleable__control:checked~label.sk-toggleable__label {background-color: #d4ebff;}#sk-container-id-1 input.sk-hidden--visually {border: 0;clip: rect(1px 1px 1px 1px);clip: rect(1px, 1px, 1px, 1px);height: 1px;margin: -1px;overflow: hidden;padding: 0;position: absolute;width: 1px;}#sk-container-id-1 div.sk-estimator {font-family: monospace;background-color: #f0f8ff;border: 1px dotted black;border-radius: 0.25em;box-sizing: border-box;margin-bottom: 0.5em;}#sk-container-id-1 div.sk-estimator:hover {background-color: #d4ebff;}#sk-container-id-1 div.sk-parallel-item::after {content: \"\";width: 100%;border-bottom: 1px solid gray;flex-grow: 1;}#sk-container-id-1 div.sk-label:hover label.sk-toggleable__label {background-color: #d4ebff;}#sk-container-id-1 div.sk-serial::before {content: \"\";position: absolute;border-left: 1px solid gray;box-sizing: border-box;top: 0;bottom: 0;left: 50%;z-index: 0;}#sk-container-id-1 div.sk-serial {display: flex;flex-direction: column;align-items: center;background-color: white;padding-right: 0.2em;padding-left: 0.2em;position: relative;}#sk-container-id-1 div.sk-item {position: relative;z-index: 1;}#sk-container-id-1 div.sk-parallel {display: flex;align-items: stretch;justify-content: center;background-color: white;position: relative;}#sk-container-id-1 div.sk-item::before, #sk-container-id-1 div.sk-parallel-item::before {content: \"\";position: absolute;border-left: 1px solid gray;box-sizing: border-box;top: 0;bottom: 0;left: 50%;z-index: -1;}#sk-container-id-1 div.sk-parallel-item {display: flex;flex-direction: column;z-index: 1;position: relative;background-color: white;}#sk-container-id-1 div.sk-parallel-item:first-child::after {align-self: flex-end;width: 50%;}#sk-container-id-1 div.sk-parallel-item:last-child::after {align-self: flex-start;width: 50%;}#sk-container-id-1 div.sk-parallel-item:only-child::after {width: 0;}#sk-container-id-1 div.sk-dashed-wrapped {border: 1px dashed gray;margin: 0 0.4em 0.5em 0.4em;box-sizing: border-box;padding-bottom: 0.4em;background-color: white;}#sk-container-id-1 div.sk-label label {font-family: monospace;font-weight: bold;display: inline-block;line-height: 1.2em;}#sk-container-id-1 div.sk-label-container {text-align: center;}#sk-container-id-1 div.sk-container {/* jupyter's `normalize.less` sets `[hidden] { display: none; }` but bootstrap.min.css set `[hidden] { display: none !important; }` so we also need the `!important` here to be able to override the default hidden behavior on the sphinx rendered scikit-learn.org. See: https://github.com/scikit-learn/scikit-learn/issues/21755 */display: inline-block !important;position: relative;}#sk-container-id-1 div.sk-text-repr-fallback {display: none;}</style><div id=\"sk-container-id-1\" class=\"sk-top-container\"><div class=\"sk-text-repr-fallback\"><pre>StandardScaler()</pre><b>In a Jupyter environment, please rerun this cell to show the HTML representation or trust the notebook. <br />On GitHub, the HTML representation is unable to render, please try loading this page with nbviewer.org.</b></div><div class=\"sk-container\" hidden><div class=\"sk-item\"><div class=\"sk-estimator sk-toggleable\"><input class=\"sk-toggleable__control sk-hidden--visually\" id=\"sk-estimator-id-1\" type=\"checkbox\" checked><label for=\"sk-estimator-id-1\" class=\"sk-toggleable__label sk-toggleable__label-arrow\">StandardScaler</label><div class=\"sk-toggleable__content\"><pre>StandardScaler()</pre></div></div></div></div></div>"
      ],
      "text/plain": [
       "StandardScaler()"
      ]
     },
     "execution_count": 14,
     "metadata": {},
     "output_type": "execute_result"
    }
   ],
   "source": [
    "scaler = StandardScaler()\n",
    "\n",
    "train_ds = denoised_df[denoised_df['ts'] > time['ts'].values[train_indexes[-1]]]['intents'].values.reshape(-1, 1)\n",
    "\n",
    "scaler.fit(train_ds)"
   ]
  },
  {
   "cell_type": "markdown",
   "id": "a61f8846-6394-4c5f-8af5-d52ee1d99717",
   "metadata": {},
   "source": [
    "### Training Data"
   ]
  },
  {
   "cell_type": "code",
   "execution_count": 15,
   "id": "9fa8c603-24c1-44ae-8223-4670e1af185f",
   "metadata": {},
   "outputs": [],
   "source": [
    "from torch.utils.data import DataLoader\n",
    "\n",
    "from st_forecasting.utils.dataset import GeoFramesDataset"
   ]
  },
  {
   "cell_type": "code",
   "execution_count": 16,
   "id": "fc307b48-e94c-47da-a47c-e07ee1d9c683",
   "metadata": {},
   "outputs": [],
   "source": [
    "train_dataset = GeoFramesDataset(\n",
    "    x=denoised_stream,\n",
    "    indexes=train_indexes,\n",
    "    n_steps_past=N_STEPS_PAST,\n",
    "    horizon=HORIZON,\n",
    "    half=False,\n",
    "    scaler=scaler\n",
    ")\n",
    "\n",
    "train_loader = DataLoader(\n",
    "    train_dataset,\n",
    "    batch_size=BATCH_SIZE,\n",
    "    shuffle=True,\n",
    "    num_workers=CPUS\n",
    ")"
   ]
  },
  {
   "cell_type": "code",
   "execution_count": 17,
   "id": "eea843de-3a40-4a77-8d87-8e74de6b219a",
   "metadata": {},
   "outputs": [],
   "source": [
    "val_dataset = GeoFramesDataset(\n",
    "    x=denoised_stream,\n",
    "    indexes=val_indexes,\n",
    "    n_steps_past=N_STEPS_PAST,\n",
    "    horizon=HORIZON,\n",
    "    half=False,\n",
    "    scaler=scaler\n",
    ")\n",
    "\n",
    "val_loader = DataLoader(\n",
    "    val_dataset,\n",
    "    batch_size=BATCH_SIZE,\n",
    "    shuffle=False,\n",
    "    num_workers=CPUS\n",
    ")"
   ]
  },
  {
   "cell_type": "code",
   "execution_count": 18,
   "id": "22f653cb-ca61-4254-9e7b-5729f97ad971",
   "metadata": {},
   "outputs": [
    {
     "data": {
      "text/plain": [
       "torch.float32"
      ]
     },
     "execution_count": 18,
     "metadata": {},
     "output_type": "execute_result"
    }
   ],
   "source": [
    "train_loader.dataset[0][0].dtype"
   ]
  },
  {
   "cell_type": "markdown",
   "id": "6eb424f4-3a91-49fe-88de-97f72d76644d",
   "metadata": {},
   "source": [
    "### Training"
   ]
  },
  {
   "cell_type": "code",
   "execution_count": 19,
   "id": "d5cc63f2-c5d9-457b-b8b8-4169c27fa544",
   "metadata": {},
   "outputs": [],
   "source": [
    "from torch.optim.lr_scheduler import ReduceLROnPlateau\n",
    "from torch.optim import Adam\n",
    "\n",
    "from st_forecasting.custom_callbacks import progress_bar, MetricsCallback, checkpoint_callback\n",
    "from st_forecasting.model import (\n",
    "    ConvLSTMCell,\n",
    "    ResNetLSTMCell,\n",
    "    ConvLSTMNet,\n",
    "    ConvGRUNet,\n",
    "    ConvTTLSTMNet,\n",
    "    ModelWrapper\n",
    ")"
   ]
  },
  {
   "cell_type": "raw",
   "id": "154bcf93-cd3b-4751-adac-22cbf3d86bfa",
   "metadata": {},
   "source": [
    "backbone = ConvGRUNet(\n",
    "    hidden_channels=4,\n",
    "    in_channels=1,\n",
    "    bias=False\n",
    ")"
   ]
  },
  {
   "cell_type": "raw",
   "id": "59a21282-7164-4f7e-bd29-7827eb95744d",
   "metadata": {},
   "source": [
    "backbone = ConvLSTMNet(\n",
    "    hidden_channels=16,\n",
    "    in_channels=1,\n",
    "    cell=ConvLSTMCell,\n",
    "    bias=True\n",
    ")"
   ]
  },
  {
   "cell_type": "code",
   "execution_count": 20,
   "id": "aadd78c1-20c6-44b2-a105-0f34f6752ba0",
   "metadata": {},
   "outputs": [],
   "source": [
    "cell_param = {'order': 3, 'steps': 8, 'ranks': 8}\n",
    "\n",
    "backbone = ConvTTLSTMNet(\n",
    "    input_channels=1,\n",
    "    layers_per_block=(1), \n",
    "    hidden_channels=(32),\n",
    "    cell_params=cell_param,\n",
    "    kernel_size=3,\n",
    "    bias=True\n",
    ")"
   ]
  },
  {
   "cell_type": "code",
   "execution_count": 21,
   "id": "f701a63e-961c-4796-9175-dee141836d28",
   "metadata": {},
   "outputs": [],
   "source": [
    "optimizer = Adam(backbone.parameters(), lr=3e-3, betas=(0.9, 0.999), eps=1e-08, weight_decay=0)\n",
    "scheduler = ReduceLROnPlateau(optimizer, factor=0.2, patience=3)\n",
    "\n",
    "pb = progress_bar()\n",
    "ck = checkpoint_callback()"
   ]
  },
  {
   "cell_type": "code",
   "execution_count": 22,
   "id": "5ed8e979-ab38-4110-a042-60bc75be9bf4",
   "metadata": {},
   "outputs": [],
   "source": [
    "model = ModelWrapper(\n",
    "    model=backbone,\n",
    "    optimizer=optimizer,\n",
    "    scheduler=scheduler,\n",
    "    horizon=HORIZON,\n",
    "    loss_fn_alias='mse',\n",
    "    loss_type='semi-masked',\n",
    "    include_masked_metrics=True,\n",
    "    masked_weight=0.3  # only for semi-masked loss\n",
    ")"
   ]
  },
  {
   "cell_type": "code",
   "execution_count": 23,
   "id": "242e7f07-f17e-4bf8-9838-abe36031d44e",
   "metadata": {},
   "outputs": [
    {
     "name": "stderr",
     "output_type": "stream",
     "text": [
      "GPU available: True (mps), used: True\n",
      "TPU available: False, using: 0 TPU cores\n",
      "IPU available: False, using: 0 IPUs\n",
      "HPU available: False, using: 0 HPUs\n"
     ]
    }
   ],
   "source": [
    "trainer = pl.Trainer(\n",
    "    default_root_dir='amman_1H_convttlstm_logs',\n",
    "    min_epochs=10,\n",
    "    max_epochs=40,\n",
    "    num_sanity_val_steps=0,\n",
    "    log_every_n_steps=1,\n",
    "    callbacks=[pb, MetricsCallback(), ck],\n",
    "    deterministic=True\n",
    ")"
   ]
  },
  {
   "cell_type": "code",
   "execution_count": 24,
   "id": "1ca67818-7969-4bce-a409-20f6c20f2fb5",
   "metadata": {
    "tags": []
   },
   "outputs": [
    {
     "name": "stderr",
     "output_type": "stream",
     "text": [
      "Missing logger folder: amman_1H_convttlstm_logs/lightning_logs\n"
     ]
    },
    {
     "data": {
      "text/html": [
       "<pre style=\"white-space:pre;overflow-x:auto;line-height:normal;font-family:Menlo,'DejaVu Sans Mono',consolas,'Courier New',monospace\">┏━━━┳━━━━━━━┳━━━━━━━━━━━━━━━┳━━━━━━━━┓\n",
       "┃<span style=\"color: #800080; text-decoration-color: #800080; font-weight: bold\">   </span>┃<span style=\"color: #800080; text-decoration-color: #800080; font-weight: bold\"> Name  </span>┃<span style=\"color: #800080; text-decoration-color: #800080; font-weight: bold\"> Type          </span>┃<span style=\"color: #800080; text-decoration-color: #800080; font-weight: bold\"> Params </span>┃\n",
       "┡━━━╇━━━━━━━╇━━━━━━━━━━━━━━━╇━━━━━━━━┩\n",
       "│<span style=\"color: #7f7f7f; text-decoration-color: #7f7f7f\"> 0 </span>│ model │ ConvTTLSTMNet │ 53.2 K │\n",
       "└───┴───────┴───────────────┴────────┘\n",
       "</pre>\n"
      ],
      "text/plain": [
       "┏━━━┳━━━━━━━┳━━━━━━━━━━━━━━━┳━━━━━━━━┓\n",
       "┃\u001b[1;35m \u001b[0m\u001b[1;35m \u001b[0m\u001b[1;35m \u001b[0m┃\u001b[1;35m \u001b[0m\u001b[1;35mName \u001b[0m\u001b[1;35m \u001b[0m┃\u001b[1;35m \u001b[0m\u001b[1;35mType         \u001b[0m\u001b[1;35m \u001b[0m┃\u001b[1;35m \u001b[0m\u001b[1;35mParams\u001b[0m\u001b[1;35m \u001b[0m┃\n",
       "┡━━━╇━━━━━━━╇━━━━━━━━━━━━━━━╇━━━━━━━━┩\n",
       "│\u001b[2m \u001b[0m\u001b[2m0\u001b[0m\u001b[2m \u001b[0m│ model │ ConvTTLSTMNet │ 53.2 K │\n",
       "└───┴───────┴───────────────┴────────┘\n"
      ]
     },
     "metadata": {},
     "output_type": "display_data"
    },
    {
     "data": {
      "text/html": [
       "<pre style=\"white-space:pre;overflow-x:auto;line-height:normal;font-family:Menlo,'DejaVu Sans Mono',consolas,'Courier New',monospace\"><span style=\"font-weight: bold\">Trainable params</span>: 53.2 K                                                                                           \n",
       "<span style=\"font-weight: bold\">Non-trainable params</span>: 0                                                                                            \n",
       "<span style=\"font-weight: bold\">Total params</span>: 53.2 K                                                                                               \n",
       "<span style=\"font-weight: bold\">Total estimated model params size (MB)</span>: 0                                                                          \n",
       "</pre>\n"
      ],
      "text/plain": [
       "\u001b[1mTrainable params\u001b[0m: 53.2 K                                                                                           \n",
       "\u001b[1mNon-trainable params\u001b[0m: 0                                                                                            \n",
       "\u001b[1mTotal params\u001b[0m: 53.2 K                                                                                               \n",
       "\u001b[1mTotal estimated model params size (MB)\u001b[0m: 0                                                                          \n"
      ]
     },
     "metadata": {},
     "output_type": "display_data"
    },
    {
     "data": {
      "application/vnd.jupyter.widget-view+json": {
       "model_id": "ad30a839611246daaab762f9e9fca61c",
       "version_major": 2,
       "version_minor": 0
      },
      "text/plain": [
       "Output()"
      ]
     },
     "metadata": {},
     "output_type": "display_data"
    },
    {
     "data": {
      "text/html": [
       "<pre style=\"white-space:pre;overflow-x:auto;line-height:normal;font-family:Menlo,'DejaVu Sans Mono',consolas,'Courier New',monospace\"></pre>\n"
      ],
      "text/plain": []
     },
     "metadata": {},
     "output_type": "display_data"
    },
    {
     "data": {
      "text/html": [
       "<pre style=\"white-space:pre;overflow-x:auto;line-height:normal;font-family:Menlo,'DejaVu Sans Mono',consolas,'Courier New',monospace\">\n",
       "</pre>\n"
      ],
      "text/plain": [
       "\n"
      ]
     },
     "metadata": {},
     "output_type": "display_data"
    },
    {
     "data": {
      "application/vnd.jupyter.widget-view+json": {
       "model_id": "24bbf9059e444a368cfc4d7741a34816",
       "version_major": 2,
       "version_minor": 0
      },
      "text/plain": [
       "Output()"
      ]
     },
     "metadata": {},
     "output_type": "display_data"
    },
    {
     "data": {
      "text/html": [
       "<pre style=\"white-space:pre;overflow-x:auto;line-height:normal;font-family:Menlo,'DejaVu Sans Mono',consolas,'Courier New',monospace\"></pre>\n"
      ],
      "text/plain": []
     },
     "metadata": {},
     "output_type": "display_data"
    },
    {
     "data": {
      "text/html": [
       "<pre style=\"white-space:pre;overflow-x:auto;line-height:normal;font-family:Menlo,'DejaVu Sans Mono',consolas,'Courier New',monospace\">\n",
       "</pre>\n"
      ],
      "text/plain": [
       "\n"
      ]
     },
     "metadata": {},
     "output_type": "display_data"
    },
    {
     "data": {
      "application/vnd.jupyter.widget-view+json": {
       "model_id": "b3fa9436762744e78f7a9dcce71ab637",
       "version_major": 2,
       "version_minor": 0
      },
      "text/plain": [
       "Output()"
      ]
     },
     "metadata": {},
     "output_type": "display_data"
    },
    {
     "data": {
      "text/html": [
       "<pre style=\"white-space:pre;overflow-x:auto;line-height:normal;font-family:Menlo,'DejaVu Sans Mono',consolas,'Courier New',monospace\"></pre>\n"
      ],
      "text/plain": []
     },
     "metadata": {},
     "output_type": "display_data"
    },
    {
     "data": {
      "text/html": [
       "<pre style=\"white-space:pre;overflow-x:auto;line-height:normal;font-family:Menlo,'DejaVu Sans Mono',consolas,'Courier New',monospace\">\n",
       "</pre>\n"
      ],
      "text/plain": [
       "\n"
      ]
     },
     "metadata": {},
     "output_type": "display_data"
    },
    {
     "data": {
      "application/vnd.jupyter.widget-view+json": {
       "model_id": "caf5e45ce9bc417daea9838f9fd8941d",
       "version_major": 2,
       "version_minor": 0
      },
      "text/plain": [
       "Output()"
      ]
     },
     "metadata": {},
     "output_type": "display_data"
    },
    {
     "data": {
      "text/html": [
       "<pre style=\"white-space:pre;overflow-x:auto;line-height:normal;font-family:Menlo,'DejaVu Sans Mono',consolas,'Courier New',monospace\"></pre>\n"
      ],
      "text/plain": []
     },
     "metadata": {},
     "output_type": "display_data"
    },
    {
     "data": {
      "text/html": [
       "<pre style=\"white-space:pre;overflow-x:auto;line-height:normal;font-family:Menlo,'DejaVu Sans Mono',consolas,'Courier New',monospace\">\n",
       "</pre>\n"
      ],
      "text/plain": [
       "\n"
      ]
     },
     "metadata": {},
     "output_type": "display_data"
    },
    {
     "data": {
      "application/vnd.jupyter.widget-view+json": {
       "model_id": "888c7edb310b415dba0a8a4884584291",
       "version_major": 2,
       "version_minor": 0
      },
      "text/plain": [
       "Output()"
      ]
     },
     "metadata": {},
     "output_type": "display_data"
    },
    {
     "data": {
      "text/html": [
       "<pre style=\"white-space:pre;overflow-x:auto;line-height:normal;font-family:Menlo,'DejaVu Sans Mono',consolas,'Courier New',monospace\"></pre>\n"
      ],
      "text/plain": []
     },
     "metadata": {},
     "output_type": "display_data"
    },
    {
     "data": {
      "text/html": [
       "<pre style=\"white-space:pre;overflow-x:auto;line-height:normal;font-family:Menlo,'DejaVu Sans Mono',consolas,'Courier New',monospace\">\n",
       "</pre>\n"
      ],
      "text/plain": [
       "\n"
      ]
     },
     "metadata": {},
     "output_type": "display_data"
    },
    {
     "data": {
      "application/vnd.jupyter.widget-view+json": {
       "model_id": "3fb25e30ed4d431f98b75ec740239ccc",
       "version_major": 2,
       "version_minor": 0
      },
      "text/plain": [
       "Output()"
      ]
     },
     "metadata": {},
     "output_type": "display_data"
    },
    {
     "data": {
      "text/html": [
       "<pre style=\"white-space:pre;overflow-x:auto;line-height:normal;font-family:Menlo,'DejaVu Sans Mono',consolas,'Courier New',monospace\"></pre>\n"
      ],
      "text/plain": []
     },
     "metadata": {},
     "output_type": "display_data"
    },
    {
     "data": {
      "text/html": [
       "<pre style=\"white-space:pre;overflow-x:auto;line-height:normal;font-family:Menlo,'DejaVu Sans Mono',consolas,'Courier New',monospace\">\n",
       "</pre>\n"
      ],
      "text/plain": [
       "\n"
      ]
     },
     "metadata": {},
     "output_type": "display_data"
    },
    {
     "data": {
      "application/vnd.jupyter.widget-view+json": {
       "model_id": "93e93c6387da4f3b929c62e353b1d70e",
       "version_major": 2,
       "version_minor": 0
      },
      "text/plain": [
       "Output()"
      ]
     },
     "metadata": {},
     "output_type": "display_data"
    },
    {
     "data": {
      "text/html": [
       "<pre style=\"white-space:pre;overflow-x:auto;line-height:normal;font-family:Menlo,'DejaVu Sans Mono',consolas,'Courier New',monospace\"></pre>\n"
      ],
      "text/plain": []
     },
     "metadata": {},
     "output_type": "display_data"
    },
    {
     "data": {
      "text/html": [
       "<pre style=\"white-space:pre;overflow-x:auto;line-height:normal;font-family:Menlo,'DejaVu Sans Mono',consolas,'Courier New',monospace\">\n",
       "</pre>\n"
      ],
      "text/plain": [
       "\n"
      ]
     },
     "metadata": {},
     "output_type": "display_data"
    },
    {
     "data": {
      "application/vnd.jupyter.widget-view+json": {
       "model_id": "c4c6c338b18d43648fbe775cce61eacb",
       "version_major": 2,
       "version_minor": 0
      },
      "text/plain": [
       "Output()"
      ]
     },
     "metadata": {},
     "output_type": "display_data"
    },
    {
     "data": {
      "text/html": [
       "<pre style=\"white-space:pre;overflow-x:auto;line-height:normal;font-family:Menlo,'DejaVu Sans Mono',consolas,'Courier New',monospace\"></pre>\n"
      ],
      "text/plain": []
     },
     "metadata": {},
     "output_type": "display_data"
    },
    {
     "data": {
      "text/html": [
       "<pre style=\"white-space:pre;overflow-x:auto;line-height:normal;font-family:Menlo,'DejaVu Sans Mono',consolas,'Courier New',monospace\">\n",
       "</pre>\n"
      ],
      "text/plain": [
       "\n"
      ]
     },
     "metadata": {},
     "output_type": "display_data"
    },
    {
     "data": {
      "application/vnd.jupyter.widget-view+json": {
       "model_id": "5942b435889a422e8a09b51720a15cb1",
       "version_major": 2,
       "version_minor": 0
      },
      "text/plain": [
       "Output()"
      ]
     },
     "metadata": {},
     "output_type": "display_data"
    },
    {
     "data": {
      "text/html": [
       "<pre style=\"white-space:pre;overflow-x:auto;line-height:normal;font-family:Menlo,'DejaVu Sans Mono',consolas,'Courier New',monospace\"></pre>\n"
      ],
      "text/plain": []
     },
     "metadata": {},
     "output_type": "display_data"
    },
    {
     "data": {
      "text/html": [
       "<pre style=\"white-space:pre;overflow-x:auto;line-height:normal;font-family:Menlo,'DejaVu Sans Mono',consolas,'Courier New',monospace\">\n",
       "</pre>\n"
      ],
      "text/plain": [
       "\n"
      ]
     },
     "metadata": {},
     "output_type": "display_data"
    },
    {
     "data": {
      "application/vnd.jupyter.widget-view+json": {
       "model_id": "1824993684e4437a8531df8ba627711f",
       "version_major": 2,
       "version_minor": 0
      },
      "text/plain": [
       "Output()"
      ]
     },
     "metadata": {},
     "output_type": "display_data"
    },
    {
     "data": {
      "text/html": [
       "<pre style=\"white-space:pre;overflow-x:auto;line-height:normal;font-family:Menlo,'DejaVu Sans Mono',consolas,'Courier New',monospace\"></pre>\n"
      ],
      "text/plain": []
     },
     "metadata": {},
     "output_type": "display_data"
    },
    {
     "data": {
      "text/html": [
       "<pre style=\"white-space:pre;overflow-x:auto;line-height:normal;font-family:Menlo,'DejaVu Sans Mono',consolas,'Courier New',monospace\">\n",
       "</pre>\n"
      ],
      "text/plain": [
       "\n"
      ]
     },
     "metadata": {},
     "output_type": "display_data"
    },
    {
     "data": {
      "application/vnd.jupyter.widget-view+json": {
       "model_id": "b17ef0bdfb004a50975ff90af1dcd103",
       "version_major": 2,
       "version_minor": 0
      },
      "text/plain": [
       "Output()"
      ]
     },
     "metadata": {},
     "output_type": "display_data"
    },
    {
     "data": {
      "text/html": [
       "<pre style=\"white-space:pre;overflow-x:auto;line-height:normal;font-family:Menlo,'DejaVu Sans Mono',consolas,'Courier New',monospace\"></pre>\n"
      ],
      "text/plain": []
     },
     "metadata": {},
     "output_type": "display_data"
    },
    {
     "data": {
      "text/html": [
       "<pre style=\"white-space:pre;overflow-x:auto;line-height:normal;font-family:Menlo,'DejaVu Sans Mono',consolas,'Courier New',monospace\">\n",
       "</pre>\n"
      ],
      "text/plain": [
       "\n"
      ]
     },
     "metadata": {},
     "output_type": "display_data"
    },
    {
     "data": {
      "application/vnd.jupyter.widget-view+json": {
       "model_id": "da417264c05948f0b96d957ad7eca2c5",
       "version_major": 2,
       "version_minor": 0
      },
      "text/plain": [
       "Output()"
      ]
     },
     "metadata": {},
     "output_type": "display_data"
    },
    {
     "data": {
      "text/html": [
       "<pre style=\"white-space:pre;overflow-x:auto;line-height:normal;font-family:Menlo,'DejaVu Sans Mono',consolas,'Courier New',monospace\"></pre>\n"
      ],
      "text/plain": []
     },
     "metadata": {},
     "output_type": "display_data"
    },
    {
     "data": {
      "text/html": [
       "<pre style=\"white-space:pre;overflow-x:auto;line-height:normal;font-family:Menlo,'DejaVu Sans Mono',consolas,'Courier New',monospace\">\n",
       "</pre>\n"
      ],
      "text/plain": [
       "\n"
      ]
     },
     "metadata": {},
     "output_type": "display_data"
    },
    {
     "data": {
      "application/vnd.jupyter.widget-view+json": {
       "model_id": "176dacd5968143429caaf2f8d6a0bb2d",
       "version_major": 2,
       "version_minor": 0
      },
      "text/plain": [
       "Output()"
      ]
     },
     "metadata": {},
     "output_type": "display_data"
    },
    {
     "data": {
      "text/html": [
       "<pre style=\"white-space:pre;overflow-x:auto;line-height:normal;font-family:Menlo,'DejaVu Sans Mono',consolas,'Courier New',monospace\"></pre>\n"
      ],
      "text/plain": []
     },
     "metadata": {},
     "output_type": "display_data"
    },
    {
     "data": {
      "text/html": [
       "<pre style=\"white-space:pre;overflow-x:auto;line-height:normal;font-family:Menlo,'DejaVu Sans Mono',consolas,'Courier New',monospace\">\n",
       "</pre>\n"
      ],
      "text/plain": [
       "\n"
      ]
     },
     "metadata": {},
     "output_type": "display_data"
    },
    {
     "data": {
      "application/vnd.jupyter.widget-view+json": {
       "model_id": "874a55e2673d4224b8736d9a2085fec7",
       "version_major": 2,
       "version_minor": 0
      },
      "text/plain": [
       "Output()"
      ]
     },
     "metadata": {},
     "output_type": "display_data"
    },
    {
     "data": {
      "text/html": [
       "<pre style=\"white-space:pre;overflow-x:auto;line-height:normal;font-family:Menlo,'DejaVu Sans Mono',consolas,'Courier New',monospace\"></pre>\n"
      ],
      "text/plain": []
     },
     "metadata": {},
     "output_type": "display_data"
    },
    {
     "data": {
      "text/html": [
       "<pre style=\"white-space:pre;overflow-x:auto;line-height:normal;font-family:Menlo,'DejaVu Sans Mono',consolas,'Courier New',monospace\">\n",
       "</pre>\n"
      ],
      "text/plain": [
       "\n"
      ]
     },
     "metadata": {},
     "output_type": "display_data"
    },
    {
     "data": {
      "application/vnd.jupyter.widget-view+json": {
       "model_id": "afbbacc9196645528aaa626605a8b96f",
       "version_major": 2,
       "version_minor": 0
      },
      "text/plain": [
       "Output()"
      ]
     },
     "metadata": {},
     "output_type": "display_data"
    },
    {
     "data": {
      "text/html": [
       "<pre style=\"white-space:pre;overflow-x:auto;line-height:normal;font-family:Menlo,'DejaVu Sans Mono',consolas,'Courier New',monospace\"></pre>\n"
      ],
      "text/plain": []
     },
     "metadata": {},
     "output_type": "display_data"
    },
    {
     "data": {
      "text/html": [
       "<pre style=\"white-space:pre;overflow-x:auto;line-height:normal;font-family:Menlo,'DejaVu Sans Mono',consolas,'Courier New',monospace\">\n",
       "</pre>\n"
      ],
      "text/plain": [
       "\n"
      ]
     },
     "metadata": {},
     "output_type": "display_data"
    },
    {
     "data": {
      "application/vnd.jupyter.widget-view+json": {
       "model_id": "05b44b5c8ff04be98799d0900e67979d",
       "version_major": 2,
       "version_minor": 0
      },
      "text/plain": [
       "Output()"
      ]
     },
     "metadata": {},
     "output_type": "display_data"
    },
    {
     "data": {
      "text/html": [
       "<pre style=\"white-space:pre;overflow-x:auto;line-height:normal;font-family:Menlo,'DejaVu Sans Mono',consolas,'Courier New',monospace\"></pre>\n"
      ],
      "text/plain": []
     },
     "metadata": {},
     "output_type": "display_data"
    },
    {
     "data": {
      "text/html": [
       "<pre style=\"white-space:pre;overflow-x:auto;line-height:normal;font-family:Menlo,'DejaVu Sans Mono',consolas,'Courier New',monospace\">\n",
       "</pre>\n"
      ],
      "text/plain": [
       "\n"
      ]
     },
     "metadata": {},
     "output_type": "display_data"
    },
    {
     "data": {
      "application/vnd.jupyter.widget-view+json": {
       "model_id": "0e7e0c1c9918439d8bbe514795a5088e",
       "version_major": 2,
       "version_minor": 0
      },
      "text/plain": [
       "Output()"
      ]
     },
     "metadata": {},
     "output_type": "display_data"
    },
    {
     "data": {
      "text/html": [
       "<pre style=\"white-space:pre;overflow-x:auto;line-height:normal;font-family:Menlo,'DejaVu Sans Mono',consolas,'Courier New',monospace\"></pre>\n"
      ],
      "text/plain": []
     },
     "metadata": {},
     "output_type": "display_data"
    },
    {
     "data": {
      "text/html": [
       "<pre style=\"white-space:pre;overflow-x:auto;line-height:normal;font-family:Menlo,'DejaVu Sans Mono',consolas,'Courier New',monospace\">\n",
       "</pre>\n"
      ],
      "text/plain": [
       "\n"
      ]
     },
     "metadata": {},
     "output_type": "display_data"
    },
    {
     "data": {
      "application/vnd.jupyter.widget-view+json": {
       "model_id": "07007f3e22cd42f4a58fe3035f0b5980",
       "version_major": 2,
       "version_minor": 0
      },
      "text/plain": [
       "Output()"
      ]
     },
     "metadata": {},
     "output_type": "display_data"
    },
    {
     "data": {
      "text/html": [
       "<pre style=\"white-space:pre;overflow-x:auto;line-height:normal;font-family:Menlo,'DejaVu Sans Mono',consolas,'Courier New',monospace\"></pre>\n"
      ],
      "text/plain": []
     },
     "metadata": {},
     "output_type": "display_data"
    },
    {
     "data": {
      "text/html": [
       "<pre style=\"white-space:pre;overflow-x:auto;line-height:normal;font-family:Menlo,'DejaVu Sans Mono',consolas,'Courier New',monospace\">\n",
       "</pre>\n"
      ],
      "text/plain": [
       "\n"
      ]
     },
     "metadata": {},
     "output_type": "display_data"
    },
    {
     "data": {
      "application/vnd.jupyter.widget-view+json": {
       "model_id": "796d173dab554f3f874ad81221c5135b",
       "version_major": 2,
       "version_minor": 0
      },
      "text/plain": [
       "Output()"
      ]
     },
     "metadata": {},
     "output_type": "display_data"
    },
    {
     "data": {
      "text/html": [
       "<pre style=\"white-space:pre;overflow-x:auto;line-height:normal;font-family:Menlo,'DejaVu Sans Mono',consolas,'Courier New',monospace\"></pre>\n"
      ],
      "text/plain": []
     },
     "metadata": {},
     "output_type": "display_data"
    },
    {
     "data": {
      "text/html": [
       "<pre style=\"white-space:pre;overflow-x:auto;line-height:normal;font-family:Menlo,'DejaVu Sans Mono',consolas,'Courier New',monospace\">\n",
       "</pre>\n"
      ],
      "text/plain": [
       "\n"
      ]
     },
     "metadata": {},
     "output_type": "display_data"
    },
    {
     "data": {
      "application/vnd.jupyter.widget-view+json": {
       "model_id": "9d81c0ee70ea4bfdae1d14c26e0c3448",
       "version_major": 2,
       "version_minor": 0
      },
      "text/plain": [
       "Output()"
      ]
     },
     "metadata": {},
     "output_type": "display_data"
    },
    {
     "data": {
      "text/html": [
       "<pre style=\"white-space:pre;overflow-x:auto;line-height:normal;font-family:Menlo,'DejaVu Sans Mono',consolas,'Courier New',monospace\"></pre>\n"
      ],
      "text/plain": []
     },
     "metadata": {},
     "output_type": "display_data"
    },
    {
     "data": {
      "text/html": [
       "<pre style=\"white-space:pre;overflow-x:auto;line-height:normal;font-family:Menlo,'DejaVu Sans Mono',consolas,'Courier New',monospace\">\n",
       "</pre>\n"
      ],
      "text/plain": [
       "\n"
      ]
     },
     "metadata": {},
     "output_type": "display_data"
    },
    {
     "data": {
      "application/vnd.jupyter.widget-view+json": {
       "model_id": "930637234bfe4e96b26e86d78dc65aba",
       "version_major": 2,
       "version_minor": 0
      },
      "text/plain": [
       "Output()"
      ]
     },
     "metadata": {},
     "output_type": "display_data"
    },
    {
     "data": {
      "text/html": [
       "<pre style=\"white-space:pre;overflow-x:auto;line-height:normal;font-family:Menlo,'DejaVu Sans Mono',consolas,'Courier New',monospace\"></pre>\n"
      ],
      "text/plain": []
     },
     "metadata": {},
     "output_type": "display_data"
    },
    {
     "data": {
      "text/html": [
       "<pre style=\"white-space:pre;overflow-x:auto;line-height:normal;font-family:Menlo,'DejaVu Sans Mono',consolas,'Courier New',monospace\">\n",
       "</pre>\n"
      ],
      "text/plain": [
       "\n"
      ]
     },
     "metadata": {},
     "output_type": "display_data"
    },
    {
     "data": {
      "application/vnd.jupyter.widget-view+json": {
       "model_id": "894a156141884256afc331dd7f7af612",
       "version_major": 2,
       "version_minor": 0
      },
      "text/plain": [
       "Output()"
      ]
     },
     "metadata": {},
     "output_type": "display_data"
    },
    {
     "data": {
      "text/html": [
       "<pre style=\"white-space:pre;overflow-x:auto;line-height:normal;font-family:Menlo,'DejaVu Sans Mono',consolas,'Courier New',monospace\"></pre>\n"
      ],
      "text/plain": []
     },
     "metadata": {},
     "output_type": "display_data"
    },
    {
     "data": {
      "text/html": [
       "<pre style=\"white-space:pre;overflow-x:auto;line-height:normal;font-family:Menlo,'DejaVu Sans Mono',consolas,'Courier New',monospace\">\n",
       "</pre>\n"
      ],
      "text/plain": [
       "\n"
      ]
     },
     "metadata": {},
     "output_type": "display_data"
    },
    {
     "data": {
      "application/vnd.jupyter.widget-view+json": {
       "model_id": "789f11d2756544b4a1a4120f416956e4",
       "version_major": 2,
       "version_minor": 0
      },
      "text/plain": [
       "Output()"
      ]
     },
     "metadata": {},
     "output_type": "display_data"
    },
    {
     "data": {
      "text/html": [
       "<pre style=\"white-space:pre;overflow-x:auto;line-height:normal;font-family:Menlo,'DejaVu Sans Mono',consolas,'Courier New',monospace\"></pre>\n"
      ],
      "text/plain": []
     },
     "metadata": {},
     "output_type": "display_data"
    },
    {
     "data": {
      "text/html": [
       "<pre style=\"white-space:pre;overflow-x:auto;line-height:normal;font-family:Menlo,'DejaVu Sans Mono',consolas,'Courier New',monospace\">\n",
       "</pre>\n"
      ],
      "text/plain": [
       "\n"
      ]
     },
     "metadata": {},
     "output_type": "display_data"
    },
    {
     "data": {
      "application/vnd.jupyter.widget-view+json": {
       "model_id": "9847256bb1d24aa3b2b45b01d52a5046",
       "version_major": 2,
       "version_minor": 0
      },
      "text/plain": [
       "Output()"
      ]
     },
     "metadata": {},
     "output_type": "display_data"
    },
    {
     "data": {
      "text/html": [
       "<pre style=\"white-space:pre;overflow-x:auto;line-height:normal;font-family:Menlo,'DejaVu Sans Mono',consolas,'Courier New',monospace\"></pre>\n"
      ],
      "text/plain": []
     },
     "metadata": {},
     "output_type": "display_data"
    },
    {
     "data": {
      "text/html": [
       "<pre style=\"white-space:pre;overflow-x:auto;line-height:normal;font-family:Menlo,'DejaVu Sans Mono',consolas,'Courier New',monospace\">\n",
       "</pre>\n"
      ],
      "text/plain": [
       "\n"
      ]
     },
     "metadata": {},
     "output_type": "display_data"
    },
    {
     "data": {
      "application/vnd.jupyter.widget-view+json": {
       "model_id": "0fbead9d620a4cb6b1e7818412e4be4a",
       "version_major": 2,
       "version_minor": 0
      },
      "text/plain": [
       "Output()"
      ]
     },
     "metadata": {},
     "output_type": "display_data"
    },
    {
     "data": {
      "text/html": [
       "<pre style=\"white-space:pre;overflow-x:auto;line-height:normal;font-family:Menlo,'DejaVu Sans Mono',consolas,'Courier New',monospace\"></pre>\n"
      ],
      "text/plain": []
     },
     "metadata": {},
     "output_type": "display_data"
    },
    {
     "data": {
      "text/html": [
       "<pre style=\"white-space:pre;overflow-x:auto;line-height:normal;font-family:Menlo,'DejaVu Sans Mono',consolas,'Courier New',monospace\">\n",
       "</pre>\n"
      ],
      "text/plain": [
       "\n"
      ]
     },
     "metadata": {},
     "output_type": "display_data"
    },
    {
     "data": {
      "application/vnd.jupyter.widget-view+json": {
       "model_id": "a448fd5159ca485da33e497d2d96f4f1",
       "version_major": 2,
       "version_minor": 0
      },
      "text/plain": [
       "Output()"
      ]
     },
     "metadata": {},
     "output_type": "display_data"
    },
    {
     "data": {
      "text/html": [
       "<pre style=\"white-space:pre;overflow-x:auto;line-height:normal;font-family:Menlo,'DejaVu Sans Mono',consolas,'Courier New',monospace\"></pre>\n"
      ],
      "text/plain": []
     },
     "metadata": {},
     "output_type": "display_data"
    },
    {
     "data": {
      "text/html": [
       "<pre style=\"white-space:pre;overflow-x:auto;line-height:normal;font-family:Menlo,'DejaVu Sans Mono',consolas,'Courier New',monospace\">\n",
       "</pre>\n"
      ],
      "text/plain": [
       "\n"
      ]
     },
     "metadata": {},
     "output_type": "display_data"
    },
    {
     "data": {
      "application/vnd.jupyter.widget-view+json": {
       "model_id": "1b084cc5f7d246c3853974a0cb907b3c",
       "version_major": 2,
       "version_minor": 0
      },
      "text/plain": [
       "Output()"
      ]
     },
     "metadata": {},
     "output_type": "display_data"
    },
    {
     "data": {
      "text/html": [
       "<pre style=\"white-space:pre;overflow-x:auto;line-height:normal;font-family:Menlo,'DejaVu Sans Mono',consolas,'Courier New',monospace\"></pre>\n"
      ],
      "text/plain": []
     },
     "metadata": {},
     "output_type": "display_data"
    },
    {
     "data": {
      "text/html": [
       "<pre style=\"white-space:pre;overflow-x:auto;line-height:normal;font-family:Menlo,'DejaVu Sans Mono',consolas,'Courier New',monospace\">\n",
       "</pre>\n"
      ],
      "text/plain": [
       "\n"
      ]
     },
     "metadata": {},
     "output_type": "display_data"
    },
    {
     "data": {
      "application/vnd.jupyter.widget-view+json": {
       "model_id": "85b52265ede94687bedf1e415b50409a",
       "version_major": 2,
       "version_minor": 0
      },
      "text/plain": [
       "Output()"
      ]
     },
     "metadata": {},
     "output_type": "display_data"
    },
    {
     "data": {
      "text/html": [
       "<pre style=\"white-space:pre;overflow-x:auto;line-height:normal;font-family:Menlo,'DejaVu Sans Mono',consolas,'Courier New',monospace\"></pre>\n"
      ],
      "text/plain": []
     },
     "metadata": {},
     "output_type": "display_data"
    },
    {
     "data": {
      "text/html": [
       "<pre style=\"white-space:pre;overflow-x:auto;line-height:normal;font-family:Menlo,'DejaVu Sans Mono',consolas,'Courier New',monospace\">\n",
       "</pre>\n"
      ],
      "text/plain": [
       "\n"
      ]
     },
     "metadata": {},
     "output_type": "display_data"
    },
    {
     "data": {
      "application/vnd.jupyter.widget-view+json": {
       "model_id": "ef4d21e4cdfd44acbfd5fa5441c76581",
       "version_major": 2,
       "version_minor": 0
      },
      "text/plain": [
       "Output()"
      ]
     },
     "metadata": {},
     "output_type": "display_data"
    },
    {
     "data": {
      "text/html": [
       "<pre style=\"white-space:pre;overflow-x:auto;line-height:normal;font-family:Menlo,'DejaVu Sans Mono',consolas,'Courier New',monospace\"></pre>\n"
      ],
      "text/plain": []
     },
     "metadata": {},
     "output_type": "display_data"
    },
    {
     "data": {
      "text/html": [
       "<pre style=\"white-space:pre;overflow-x:auto;line-height:normal;font-family:Menlo,'DejaVu Sans Mono',consolas,'Courier New',monospace\">\n",
       "</pre>\n"
      ],
      "text/plain": [
       "\n"
      ]
     },
     "metadata": {},
     "output_type": "display_data"
    },
    {
     "data": {
      "application/vnd.jupyter.widget-view+json": {
       "model_id": "e7b693a88dd04113868f31a28566b34f",
       "version_major": 2,
       "version_minor": 0
      },
      "text/plain": [
       "Output()"
      ]
     },
     "metadata": {},
     "output_type": "display_data"
    },
    {
     "data": {
      "text/html": [
       "<pre style=\"white-space:pre;overflow-x:auto;line-height:normal;font-family:Menlo,'DejaVu Sans Mono',consolas,'Courier New',monospace\"></pre>\n"
      ],
      "text/plain": []
     },
     "metadata": {},
     "output_type": "display_data"
    },
    {
     "data": {
      "text/html": [
       "<pre style=\"white-space:pre;overflow-x:auto;line-height:normal;font-family:Menlo,'DejaVu Sans Mono',consolas,'Courier New',monospace\">\n",
       "</pre>\n"
      ],
      "text/plain": [
       "\n"
      ]
     },
     "metadata": {},
     "output_type": "display_data"
    },
    {
     "data": {
      "application/vnd.jupyter.widget-view+json": {
       "model_id": "2835bed7ab054bfa99325be9aa7bc208",
       "version_major": 2,
       "version_minor": 0
      },
      "text/plain": [
       "Output()"
      ]
     },
     "metadata": {},
     "output_type": "display_data"
    },
    {
     "data": {
      "text/html": [
       "<pre style=\"white-space:pre;overflow-x:auto;line-height:normal;font-family:Menlo,'DejaVu Sans Mono',consolas,'Courier New',monospace\"></pre>\n"
      ],
      "text/plain": []
     },
     "metadata": {},
     "output_type": "display_data"
    },
    {
     "data": {
      "text/html": [
       "<pre style=\"white-space:pre;overflow-x:auto;line-height:normal;font-family:Menlo,'DejaVu Sans Mono',consolas,'Courier New',monospace\">\n",
       "</pre>\n"
      ],
      "text/plain": [
       "\n"
      ]
     },
     "metadata": {},
     "output_type": "display_data"
    },
    {
     "data": {
      "application/vnd.jupyter.widget-view+json": {
       "model_id": "98bfaa72518f4c18bc5da5da68872f86",
       "version_major": 2,
       "version_minor": 0
      },
      "text/plain": [
       "Output()"
      ]
     },
     "metadata": {},
     "output_type": "display_data"
    },
    {
     "data": {
      "text/html": [
       "<pre style=\"white-space:pre;overflow-x:auto;line-height:normal;font-family:Menlo,'DejaVu Sans Mono',consolas,'Courier New',monospace\"></pre>\n"
      ],
      "text/plain": []
     },
     "metadata": {},
     "output_type": "display_data"
    },
    {
     "data": {
      "text/html": [
       "<pre style=\"white-space:pre;overflow-x:auto;line-height:normal;font-family:Menlo,'DejaVu Sans Mono',consolas,'Courier New',monospace\">\n",
       "</pre>\n"
      ],
      "text/plain": [
       "\n"
      ]
     },
     "metadata": {},
     "output_type": "display_data"
    },
    {
     "data": {
      "application/vnd.jupyter.widget-view+json": {
       "model_id": "1e4d7fe4bbe74c28a91cdd870524420a",
       "version_major": 2,
       "version_minor": 0
      },
      "text/plain": [
       "Output()"
      ]
     },
     "metadata": {},
     "output_type": "display_data"
    },
    {
     "data": {
      "text/html": [
       "<pre style=\"white-space:pre;overflow-x:auto;line-height:normal;font-family:Menlo,'DejaVu Sans Mono',consolas,'Courier New',monospace\"></pre>\n"
      ],
      "text/plain": []
     },
     "metadata": {},
     "output_type": "display_data"
    },
    {
     "data": {
      "text/html": [
       "<pre style=\"white-space:pre;overflow-x:auto;line-height:normal;font-family:Menlo,'DejaVu Sans Mono',consolas,'Courier New',monospace\">\n",
       "</pre>\n"
      ],
      "text/plain": [
       "\n"
      ]
     },
     "metadata": {},
     "output_type": "display_data"
    },
    {
     "data": {
      "application/vnd.jupyter.widget-view+json": {
       "model_id": "b43187eaf7584145ae9d64f326662892",
       "version_major": 2,
       "version_minor": 0
      },
      "text/plain": [
       "Output()"
      ]
     },
     "metadata": {},
     "output_type": "display_data"
    },
    {
     "data": {
      "text/html": [
       "<pre style=\"white-space:pre;overflow-x:auto;line-height:normal;font-family:Menlo,'DejaVu Sans Mono',consolas,'Courier New',monospace\"></pre>\n"
      ],
      "text/plain": []
     },
     "metadata": {},
     "output_type": "display_data"
    },
    {
     "data": {
      "text/html": [
       "<pre style=\"white-space:pre;overflow-x:auto;line-height:normal;font-family:Menlo,'DejaVu Sans Mono',consolas,'Courier New',monospace\">\n",
       "</pre>\n"
      ],
      "text/plain": [
       "\n"
      ]
     },
     "metadata": {},
     "output_type": "display_data"
    },
    {
     "data": {
      "application/vnd.jupyter.widget-view+json": {
       "model_id": "dfa1da744850444daef24d45d55196cc",
       "version_major": 2,
       "version_minor": 0
      },
      "text/plain": [
       "Output()"
      ]
     },
     "metadata": {},
     "output_type": "display_data"
    },
    {
     "data": {
      "text/html": [
       "<pre style=\"white-space:pre;overflow-x:auto;line-height:normal;font-family:Menlo,'DejaVu Sans Mono',consolas,'Courier New',monospace\"></pre>\n"
      ],
      "text/plain": []
     },
     "metadata": {},
     "output_type": "display_data"
    },
    {
     "data": {
      "text/html": [
       "<pre style=\"white-space:pre;overflow-x:auto;line-height:normal;font-family:Menlo,'DejaVu Sans Mono',consolas,'Courier New',monospace\">\n",
       "</pre>\n"
      ],
      "text/plain": [
       "\n"
      ]
     },
     "metadata": {},
     "output_type": "display_data"
    },
    {
     "data": {
      "application/vnd.jupyter.widget-view+json": {
       "model_id": "1545c8912f4a42e3948f54cb9cc5e1e9",
       "version_major": 2,
       "version_minor": 0
      },
      "text/plain": [
       "Output()"
      ]
     },
     "metadata": {},
     "output_type": "display_data"
    },
    {
     "data": {
      "text/html": [
       "<pre style=\"white-space:pre;overflow-x:auto;line-height:normal;font-family:Menlo,'DejaVu Sans Mono',consolas,'Courier New',monospace\"></pre>\n"
      ],
      "text/plain": []
     },
     "metadata": {},
     "output_type": "display_data"
    },
    {
     "data": {
      "text/html": [
       "<pre style=\"white-space:pre;overflow-x:auto;line-height:normal;font-family:Menlo,'DejaVu Sans Mono',consolas,'Courier New',monospace\">\n",
       "</pre>\n"
      ],
      "text/plain": [
       "\n"
      ]
     },
     "metadata": {},
     "output_type": "display_data"
    },
    {
     "data": {
      "application/vnd.jupyter.widget-view+json": {
       "model_id": "a271a7fe9c7443a3bd5363e60dfe8d48",
       "version_major": 2,
       "version_minor": 0
      },
      "text/plain": [
       "Output()"
      ]
     },
     "metadata": {},
     "output_type": "display_data"
    },
    {
     "data": {
      "text/html": [
       "<pre style=\"white-space:pre;overflow-x:auto;line-height:normal;font-family:Menlo,'DejaVu Sans Mono',consolas,'Courier New',monospace\"></pre>\n"
      ],
      "text/plain": []
     },
     "metadata": {},
     "output_type": "display_data"
    },
    {
     "data": {
      "text/html": [
       "<pre style=\"white-space:pre;overflow-x:auto;line-height:normal;font-family:Menlo,'DejaVu Sans Mono',consolas,'Courier New',monospace\">\n",
       "</pre>\n"
      ],
      "text/plain": [
       "\n"
      ]
     },
     "metadata": {},
     "output_type": "display_data"
    },
    {
     "data": {
      "application/vnd.jupyter.widget-view+json": {
       "model_id": "d15efc376a5d4fc9afdc1c15f2a361ff",
       "version_major": 2,
       "version_minor": 0
      },
      "text/plain": [
       "Output()"
      ]
     },
     "metadata": {},
     "output_type": "display_data"
    },
    {
     "data": {
      "text/html": [
       "<pre style=\"white-space:pre;overflow-x:auto;line-height:normal;font-family:Menlo,'DejaVu Sans Mono',consolas,'Courier New',monospace\"></pre>\n"
      ],
      "text/plain": []
     },
     "metadata": {},
     "output_type": "display_data"
    },
    {
     "data": {
      "text/html": [
       "<pre style=\"white-space:pre;overflow-x:auto;line-height:normal;font-family:Menlo,'DejaVu Sans Mono',consolas,'Courier New',monospace\">\n",
       "</pre>\n"
      ],
      "text/plain": [
       "\n"
      ]
     },
     "metadata": {},
     "output_type": "display_data"
    },
    {
     "data": {
      "application/vnd.jupyter.widget-view+json": {
       "model_id": "3c459a716d2d4add930017363f05d588",
       "version_major": 2,
       "version_minor": 0
      },
      "text/plain": [
       "Output()"
      ]
     },
     "metadata": {},
     "output_type": "display_data"
    },
    {
     "data": {
      "text/html": [
       "<pre style=\"white-space:pre;overflow-x:auto;line-height:normal;font-family:Menlo,'DejaVu Sans Mono',consolas,'Courier New',monospace\"></pre>\n"
      ],
      "text/plain": []
     },
     "metadata": {},
     "output_type": "display_data"
    },
    {
     "data": {
      "text/html": [
       "<pre style=\"white-space:pre;overflow-x:auto;line-height:normal;font-family:Menlo,'DejaVu Sans Mono',consolas,'Courier New',monospace\">\n",
       "</pre>\n"
      ],
      "text/plain": [
       "\n"
      ]
     },
     "metadata": {},
     "output_type": "display_data"
    },
    {
     "data": {
      "application/vnd.jupyter.widget-view+json": {
       "model_id": "f87292b56f1c4599a7ac51cc1f82be64",
       "version_major": 2,
       "version_minor": 0
      },
      "text/plain": [
       "Output()"
      ]
     },
     "metadata": {},
     "output_type": "display_data"
    },
    {
     "name": "stderr",
     "output_type": "stream",
     "text": [
      "`Trainer.fit` stopped: `max_epochs=40` reached.\n"
     ]
    },
    {
     "data": {
      "text/html": [
       "<pre style=\"white-space:pre;overflow-x:auto;line-height:normal;font-family:Menlo,'DejaVu Sans Mono',consolas,'Courier New',monospace\"></pre>\n"
      ],
      "text/plain": []
     },
     "metadata": {},
     "output_type": "display_data"
    },
    {
     "data": {
      "text/html": [
       "<pre style=\"white-space:pre;overflow-x:auto;line-height:normal;font-family:Menlo,'DejaVu Sans Mono',consolas,'Courier New',monospace\">\n",
       "</pre>\n"
      ],
      "text/plain": [
       "\n"
      ]
     },
     "metadata": {},
     "output_type": "display_data"
    }
   ],
   "source": [
    "trainer.fit(\n",
    "    model,\n",
    "    train_loader,\n",
    "    val_loader,\n",
    "    # ckpt_path=''\n",
    ")"
   ]
  },
  {
   "cell_type": "markdown",
   "id": "2ec3989b-4c21-43c9-8f48-05c106cfc274",
   "metadata": {},
   "source": [
    "### Testing"
   ]
  },
  {
   "cell_type": "code",
   "execution_count": 25,
   "id": "ce5ee9eb-4da1-47e4-9b99-00e0012174c2",
   "metadata": {},
   "outputs": [],
   "source": [
    "test_dataset = GeoFramesDataset(\n",
    "    x=denoised_stream,\n",
    "    indexes=test_indexes,\n",
    "    n_steps_past=N_STEPS_PAST,\n",
    "    horizon=HORIZON,\n",
    "    train=False,\n",
    "    half=False,\n",
    "    scaler=scaler\n",
    ")\n",
    "\n",
    "test_loader = DataLoader(test_dataset, batch_size=BATCH_SIZE, shuffle=False, num_workers=4)"
   ]
  },
  {
   "cell_type": "code",
   "execution_count": 26,
   "id": "93bb31dc-2e30-4376-9583-a05b926f3cd3",
   "metadata": {},
   "outputs": [
    {
     "name": "stderr",
     "output_type": "stream",
     "text": [
      "Restoring states from the checkpoint path at amman_1H_convttlstm_logs/lightning_logs/version_0/checkpoints/epoch=26-step=1215.ckpt\n",
      "Loaded model weights from the checkpoint at amman_1H_convttlstm_logs/lightning_logs/version_0/checkpoints/epoch=26-step=1215.ckpt\n"
     ]
    },
    {
     "data": {
      "application/vnd.jupyter.widget-view+json": {
       "model_id": "6cfca5baddca48aa800e6dd248508a98",
       "version_major": 2,
       "version_minor": 0
      },
      "text/plain": [
       "Output()"
      ]
     },
     "metadata": {},
     "output_type": "display_data"
    },
    {
     "data": {
      "text/html": [
       "<pre style=\"white-space:pre;overflow-x:auto;line-height:normal;font-family:Menlo,'DejaVu Sans Mono',consolas,'Courier New',monospace\"></pre>\n"
      ],
      "text/plain": []
     },
     "metadata": {},
     "output_type": "display_data"
    },
    {
     "data": {
      "text/html": [
       "<pre style=\"white-space:pre;overflow-x:auto;line-height:normal;font-family:Menlo,'DejaVu Sans Mono',consolas,'Courier New',monospace\">\n",
       "</pre>\n"
      ],
      "text/plain": [
       "\n"
      ]
     },
     "metadata": {},
     "output_type": "display_data"
    }
   ],
   "source": [
    "preds = trainer.predict(model, test_loader, return_predictions=True, ckpt_path='best')"
   ]
  },
  {
   "cell_type": "code",
   "execution_count": 27,
   "id": "7c92bef8-f65e-424c-9849-fd2a860e4f92",
   "metadata": {},
   "outputs": [],
   "source": [
    "np_preds = np.squeeze(np.concatenate([x.numpy() for x in preds]))"
   ]
  },
  {
   "cell_type": "code",
   "execution_count": 28,
   "id": "067462dc-ab01-4e83-bbfc-c423c954738d",
   "metadata": {},
   "outputs": [
    {
     "data": {
      "text/plain": [
       "array([ 0.45201945, 34.344723  , 29.011292  , 30.862122  ,  5.828968  ,\n",
       "        8.846951  ,  0.13841462,  0.        ,  0.        ,  0.        ],\n",
       "      dtype=float32)"
      ]
     },
     "execution_count": 28,
     "metadata": {},
     "output_type": "execute_result"
    }
   ],
   "source": [
    "np_preds[0][3][5]"
   ]
  },
  {
   "cell_type": "markdown",
   "id": "004238be-4c15-4799-8a14-5bbab1f7ecf3",
   "metadata": {},
   "source": [
    "### Analysis"
   ]
  },
  {
   "cell_type": "code",
   "execution_count": 29,
   "id": "24b77d0b-85b1-4094-bb35-18025ff30ce3",
   "metadata": {},
   "outputs": [
    {
     "data": {
      "text/html": [
       "<div style=\"width:100%;\"><div style=\"position:relative;width:100%;height:0;padding-bottom:60%;\"><span style=\"color:#565656\">Make this Notebook Trusted to load map: File -> Trust Notebook</span><iframe srcdoc=\"&lt;!DOCTYPE html&gt;\n",
       "&lt;html&gt;\n",
       "&lt;head&gt;\n",
       "    \n",
       "    &lt;meta http-equiv=&quot;content-type&quot; content=&quot;text/html; charset=UTF-8&quot; /&gt;\n",
       "    \n",
       "        &lt;script&gt;\n",
       "            L_NO_TOUCH = false;\n",
       "            L_DISABLE_3D = false;\n",
       "        &lt;/script&gt;\n",
       "    \n",
       "    &lt;style&gt;html, body {width: 100%;height: 100%;margin: 0;padding: 0;}&lt;/style&gt;\n",
       "    &lt;style&gt;#map {position:absolute;top:0;bottom:0;right:0;left:0;}&lt;/style&gt;\n",
       "    &lt;script src=&quot;https://cdn.jsdelivr.net/npm/leaflet@1.9.3/dist/leaflet.js&quot;&gt;&lt;/script&gt;\n",
       "    &lt;script src=&quot;https://code.jquery.com/jquery-1.12.4.min.js&quot;&gt;&lt;/script&gt;\n",
       "    &lt;script src=&quot;https://cdn.jsdelivr.net/npm/bootstrap@5.2.2/dist/js/bootstrap.bundle.min.js&quot;&gt;&lt;/script&gt;\n",
       "    &lt;script src=&quot;https://cdnjs.cloudflare.com/ajax/libs/Leaflet.awesome-markers/2.0.2/leaflet.awesome-markers.js&quot;&gt;&lt;/script&gt;\n",
       "    &lt;link rel=&quot;stylesheet&quot; href=&quot;https://cdn.jsdelivr.net/npm/leaflet@1.9.3/dist/leaflet.css&quot;/&gt;\n",
       "    &lt;link rel=&quot;stylesheet&quot; href=&quot;https://cdn.jsdelivr.net/npm/bootstrap@5.2.2/dist/css/bootstrap.min.css&quot;/&gt;\n",
       "    &lt;link rel=&quot;stylesheet&quot; href=&quot;https://netdna.bootstrapcdn.com/bootstrap/3.0.0/css/bootstrap.min.css&quot;/&gt;\n",
       "    &lt;link rel=&quot;stylesheet&quot; href=&quot;https://cdn.jsdelivr.net/npm/@fortawesome/fontawesome-free@6.2.0/css/all.min.css&quot;/&gt;\n",
       "    &lt;link rel=&quot;stylesheet&quot; href=&quot;https://cdnjs.cloudflare.com/ajax/libs/Leaflet.awesome-markers/2.0.2/leaflet.awesome-markers.css&quot;/&gt;\n",
       "    &lt;link rel=&quot;stylesheet&quot; href=&quot;https://cdn.jsdelivr.net/gh/python-visualization/folium/folium/templates/leaflet.awesome.rotate.min.css&quot;/&gt;\n",
       "    \n",
       "            &lt;meta name=&quot;viewport&quot; content=&quot;width=device-width,\n",
       "                initial-scale=1.0, maximum-scale=1.0, user-scalable=no&quot; /&gt;\n",
       "            &lt;style&gt;\n",
       "                #map_3cca685992a75c0756737f12c9268359 {\n",
       "                    position: relative;\n",
       "                    width: 100.0%;\n",
       "                    height: 100.0%;\n",
       "                    left: 0.0%;\n",
       "                    top: 0.0%;\n",
       "                }\n",
       "                .leaflet-container { font-size: 1rem; }\n",
       "            &lt;/style&gt;\n",
       "        \n",
       "    \n",
       "                    &lt;style&gt;\n",
       "                        .foliumtooltip {\n",
       "                            \n",
       "                        }\n",
       "                       .foliumtooltip table{\n",
       "                            margin: auto;\n",
       "                        }\n",
       "                        .foliumtooltip tr{\n",
       "                            text-align: left;\n",
       "                        }\n",
       "                        .foliumtooltip th{\n",
       "                            padding: 2px; padding-right: 8px;\n",
       "                        }\n",
       "                    &lt;/style&gt;\n",
       "            \n",
       "&lt;/head&gt;\n",
       "&lt;body&gt;\n",
       "    \n",
       "    \n",
       "            &lt;div class=&quot;folium-map&quot; id=&quot;map_3cca685992a75c0756737f12c9268359&quot; &gt;&lt;/div&gt;\n",
       "        \n",
       "&lt;/body&gt;\n",
       "&lt;script&gt;\n",
       "    \n",
       "    \n",
       "            var map_3cca685992a75c0756737f12c9268359 = L.map(\n",
       "                &quot;map_3cca685992a75c0756737f12c9268359&quot;,\n",
       "                {\n",
       "                    center: [31.9566, 35.92452463394132],\n",
       "                    crs: L.CRS.EPSG3857,\n",
       "                    zoom: 10,\n",
       "                    zoomControl: false,\n",
       "                    preferCanvas: false,\n",
       "                    scrollWheelZoom: false,\n",
       "                    dragging: false,\n",
       "                }\n",
       "            );\n",
       "            L.control.scale().addTo(map_3cca685992a75c0756737f12c9268359);\n",
       "\n",
       "            \n",
       "\n",
       "        \n",
       "    \n",
       "            var tile_layer_8338b8d45692783a53df1e09e2b4b095 = L.tileLayer(\n",
       "                &quot;https://{s}.tile.openstreetmap.org/{z}/{x}/{y}.png&quot;,\n",
       "                {&quot;attribution&quot;: &quot;Data by \\u0026copy; \\u003ca target=\\&quot;_blank\\&quot; href=\\&quot;http://openstreetmap.org\\&quot;\\u003eOpenStreetMap\\u003c/a\\u003e, under \\u003ca target=\\&quot;_blank\\&quot; href=\\&quot;http://www.openstreetmap.org/copyright\\&quot;\\u003eODbL\\u003c/a\\u003e.&quot;, &quot;detectRetina&quot;: false, &quot;maxNativeZoom&quot;: 18, &quot;maxZoom&quot;: 18, &quot;minZoom&quot;: 0, &quot;noWrap&quot;: false, &quot;opacity&quot;: 1, &quot;subdomains&quot;: &quot;abc&quot;, &quot;tms&quot;: false}\n",
       "            ).addTo(map_3cca685992a75c0756737f12c9268359);\n",
       "        \n",
       "    \n",
       "            map_3cca685992a75c0756737f12c9268359.fitBounds(\n",
       "                [[31.86616282670429, 35.81863840199382], [32.04703717329571, 36.03041086588882]],\n",
       "                {}\n",
       "            );\n",
       "        \n",
       "    \n",
       "        function geo_json_be5b86595e8f57e054ef70486cf839a5_styler(feature) {\n",
       "            switch(feature.id) {\n",
       "                default:\n",
       "                    return {&quot;fillOpacity&quot;: 0.5, &quot;weight&quot;: 2};\n",
       "            }\n",
       "        }\n",
       "        function geo_json_be5b86595e8f57e054ef70486cf839a5_highlighter(feature) {\n",
       "            switch(feature.id) {\n",
       "                default:\n",
       "                    return {&quot;fillOpacity&quot;: 0.75};\n",
       "            }\n",
       "        }\n",
       "        function geo_json_be5b86595e8f57e054ef70486cf839a5_pointToLayer(feature, latlng) {\n",
       "            var opts = {&quot;bubblingMouseEvents&quot;: true, &quot;color&quot;: &quot;#3388ff&quot;, &quot;dashArray&quot;: null, &quot;dashOffset&quot;: null, &quot;fill&quot;: true, &quot;fillColor&quot;: &quot;#3388ff&quot;, &quot;fillOpacity&quot;: 0.2, &quot;fillRule&quot;: &quot;evenodd&quot;, &quot;lineCap&quot;: &quot;round&quot;, &quot;lineJoin&quot;: &quot;round&quot;, &quot;opacity&quot;: 1.0, &quot;radius&quot;: 2, &quot;stroke&quot;: true, &quot;weight&quot;: 3};\n",
       "            \n",
       "            let style = geo_json_be5b86595e8f57e054ef70486cf839a5_styler(feature)\n",
       "            Object.assign(opts, style)\n",
       "            \n",
       "            return new L.CircleMarker(latlng, opts)\n",
       "        }\n",
       "\n",
       "        function geo_json_be5b86595e8f57e054ef70486cf839a5_onEachFeature(feature, layer) {\n",
       "            layer.on({\n",
       "                mouseout: function(e) {\n",
       "                    if(typeof e.target.setStyle === &quot;function&quot;){\n",
       "                        geo_json_be5b86595e8f57e054ef70486cf839a5.resetStyle(e.target);\n",
       "                    }\n",
       "                },\n",
       "                mouseover: function(e) {\n",
       "                    if(typeof e.target.setStyle === &quot;function&quot;){\n",
       "                        const highlightStyle = geo_json_be5b86595e8f57e054ef70486cf839a5_highlighter(e.target.feature)\n",
       "                        e.target.setStyle(highlightStyle);\n",
       "                    }\n",
       "                },\n",
       "            });\n",
       "        };\n",
       "        var geo_json_be5b86595e8f57e054ef70486cf839a5 = L.geoJson(null, {\n",
       "                onEachFeature: geo_json_be5b86595e8f57e054ef70486cf839a5_onEachFeature,\n",
       "            \n",
       "                style: geo_json_be5b86595e8f57e054ef70486cf839a5_styler,\n",
       "                pointToLayer: geo_json_be5b86595e8f57e054ef70486cf839a5_pointToLayer\n",
       "        });\n",
       "\n",
       "        function geo_json_be5b86595e8f57e054ef70486cf839a5_add (data) {\n",
       "            geo_json_be5b86595e8f57e054ef70486cf839a5\n",
       "                .addData(data)\n",
       "                .addTo(map_3cca685992a75c0756737f12c9268359);\n",
       "        }\n",
       "            geo_json_be5b86595e8f57e054ef70486cf839a5_add({&quot;bbox&quot;: [35.81863840199382, 31.86616282670429, 36.03041086588882, 32.04703717329571], &quot;features&quot;: [{&quot;bbox&quot;: [35.818657167305886, 31.86616282670429, 35.83981380604861, 31.884250261363434], &quot;geometry&quot;: {&quot;coordinates&quot;: [[[35.818657167305886, 31.86616282670429], [35.818657167305886, 31.884250261363434], [35.83981380604861, 31.884250261363434], [35.83981380604861, 31.86616282670429], [35.818657167305886, 31.86616282670429]]], &quot;type&quot;: &quot;Polygon&quot;}, &quot;id&quot;: &quot;0&quot;, &quot;properties&quot;: {&quot;square_id&quot;: 0}, &quot;type&quot;: &quot;Feature&quot;}, {&quot;bbox&quot;: [35.818655089769514, 31.88425026136343, 35.83981588358498, 31.902337696022574], &quot;geometry&quot;: {&quot;coordinates&quot;: [[[35.818655089769514, 31.88425026136343], [35.818655089769514, 31.902337696022574], [35.83981588358498, 31.902337696022574], [35.83981588358498, 31.88425026136343], [35.818655089769514, 31.88425026136343]]], &quot;type&quot;: &quot;Polygon&quot;}, &quot;id&quot;: &quot;1&quot;, &quot;properties&quot;: {&quot;square_id&quot;: 1}, &quot;type&quot;: &quot;Feature&quot;}, {&quot;bbox&quot;: [35.81865301036211, 31.902337696022574, 35.839817962992385, 31.920425130681718], &quot;geometry&quot;: {&quot;coordinates&quot;: [[[35.81865301036211, 31.902337696022574], [35.81865301036211, 31.920425130681718], [35.839817962992385, 31.920425130681718], [35.839817962992385, 31.902337696022574], [35.81865301036211, 31.902337696022574]]], &quot;type&quot;: &quot;Polygon&quot;}, &quot;id&quot;: &quot;2&quot;, &quot;properties&quot;: {&quot;square_id&quot;: 2}, &quot;type&quot;: &quot;Feature&quot;}, {&quot;bbox&quot;: [35.81865092908217, 31.920425130681714, 35.83982004427233, 31.938512565340858], &quot;geometry&quot;: {&quot;coordinates&quot;: [[[35.81865092908217, 31.920425130681714], [35.81865092908217, 31.938512565340858], [35.83982004427233, 31.938512565340858], [35.83982004427233, 31.920425130681714], [35.81865092908217, 31.920425130681714]]], &quot;type&quot;: &quot;Polygon&quot;}, &quot;id&quot;: &quot;3&quot;, &quot;properties&quot;: {&quot;square_id&quot;: 3}, &quot;type&quot;: &quot;Feature&quot;}, {&quot;bbox&quot;: [35.81864884592816, 31.938512565340858, 35.83982212742634, 31.9566], &quot;geometry&quot;: {&quot;coordinates&quot;: [[[35.81864884592816, 31.938512565340858], [35.81864884592816, 31.9566], [35.83982212742634, 31.9566], [35.83982212742634, 31.938512565340858], [35.81864884592816, 31.938512565340858]]], &quot;type&quot;: &quot;Polygon&quot;}, &quot;id&quot;: &quot;4&quot;, &quot;properties&quot;: {&quot;square_id&quot;: 4}, &quot;type&quot;: &quot;Feature&quot;}, {&quot;bbox&quot;: [35.81864676089857, 31.9566, 35.83982421245593, 31.974687434659145], &quot;geometry&quot;: {&quot;coordinates&quot;: [[[35.81864676089857, 31.9566], [35.81864676089857, 31.974687434659145], [35.83982421245593, 31.974687434659145], [35.83982421245593, 31.9566], [35.81864676089857, 31.9566]]], &quot;type&quot;: &quot;Polygon&quot;}, &quot;id&quot;: &quot;5&quot;, &quot;properties&quot;: {&quot;square_id&quot;: 5}, &quot;type&quot;: &quot;Feature&quot;}, {&quot;bbox&quot;: [35.81864467399186, 31.974687434659145, 35.839826299362635, 31.99277486931829], &quot;geometry&quot;: {&quot;coordinates&quot;: [[[35.81864467399186, 31.974687434659145], [35.81864467399186, 31.99277486931829], [35.839826299362635, 31.99277486931829], [35.839826299362635, 31.974687434659145], [35.81864467399186, 31.974687434659145]]], &quot;type&quot;: &quot;Polygon&quot;}, &quot;id&quot;: &quot;6&quot;, &quot;properties&quot;: {&quot;square_id&quot;: 6}, &quot;type&quot;: &quot;Feature&quot;}, {&quot;bbox&quot;: [35.818642585206526, 31.992774869318286, 35.83982838814797, 32.010862303977426], &quot;geometry&quot;: {&quot;coordinates&quot;: [[[35.818642585206526, 31.992774869318286], [35.818642585206526, 32.010862303977426], [35.83982838814797, 32.010862303977426], [35.83982838814797, 31.992774869318286], [35.818642585206526, 31.992774869318286]]], &quot;type&quot;: &quot;Polygon&quot;}, &quot;id&quot;: &quot;7&quot;, &quot;properties&quot;: {&quot;square_id&quot;: 7}, &quot;type&quot;: &quot;Feature&quot;}, {&quot;bbox&quot;: [35.81864049454102, 32.010862303977426, 35.839830478813475, 32.02894973863656], &quot;geometry&quot;: {&quot;coordinates&quot;: [[[35.81864049454102, 32.010862303977426], [35.81864049454102, 32.02894973863656], [35.839830478813475, 32.02894973863656], [35.839830478813475, 32.010862303977426], [35.81864049454102, 32.010862303977426]]], &quot;type&quot;: &quot;Polygon&quot;}, &quot;id&quot;: &quot;8&quot;, &quot;properties&quot;: {&quot;square_id&quot;: 8}, &quot;type&quot;: &quot;Feature&quot;}, {&quot;bbox&quot;: [35.81863840199382, 32.02894973863658, 35.839832571360674, 32.04703717329571], &quot;geometry&quot;: {&quot;coordinates&quot;: [[[35.81863840199382, 32.02894973863658], [35.81863840199382, 32.04703717329571], [35.839832571360674, 32.04703717329571], [35.839832571360674, 32.02894973863658], [35.81863840199382, 32.02894973863658]]], &quot;type&quot;: &quot;Polygon&quot;}, &quot;id&quot;: &quot;9&quot;, &quot;properties&quot;: {&quot;square_id&quot;: 9}, &quot;type&quot;: &quot;Feature&quot;}, {&quot;bbox&quot;: [35.83983253336457, 31.86616282670429, 35.860989172107296, 31.884250261363434], &quot;geometry&quot;: {&quot;coordinates&quot;: [[[35.83983253336457, 31.86616282670429], [35.83983253336457, 31.884250261363434], [35.860989172107296, 31.884250261363434], [35.860989172107296, 31.86616282670429], [35.83983253336457, 31.86616282670429]]], &quot;type&quot;: &quot;Polygon&quot;}, &quot;id&quot;: &quot;10&quot;, &quot;properties&quot;: {&quot;square_id&quot;: 10}, &quot;type&quot;: &quot;Feature&quot;}, {&quot;bbox&quot;: [35.8398304558282, 31.88425026136343, 35.86099124964367, 31.902337696022574], &quot;geometry&quot;: {&quot;coordinates&quot;: [[[35.8398304558282, 31.88425026136343], [35.8398304558282, 31.902337696022574], [35.86099124964367, 31.902337696022574], [35.86099124964367, 31.88425026136343], [35.8398304558282, 31.88425026136343]]], &quot;type&quot;: &quot;Polygon&quot;}, &quot;id&quot;: &quot;11&quot;, &quot;properties&quot;: {&quot;square_id&quot;: 11}, &quot;type&quot;: &quot;Feature&quot;}, {&quot;bbox&quot;: [35.8398283764208, 31.902337696022574, 35.86099332905107, 31.920425130681718], &quot;geometry&quot;: {&quot;coordinates&quot;: [[[35.8398283764208, 31.902337696022574], [35.8398283764208, 31.920425130681718], [35.86099332905107, 31.920425130681718], [35.86099332905107, 31.902337696022574], [35.8398283764208, 31.902337696022574]]], &quot;type&quot;: &quot;Polygon&quot;}, &quot;id&quot;: &quot;12&quot;, &quot;properties&quot;: {&quot;square_id&quot;: 12}, &quot;type&quot;: &quot;Feature&quot;}, {&quot;bbox&quot;: [35.83982629514085, 31.920425130681714, 35.860995410331014, 31.938512565340858], &quot;geometry&quot;: {&quot;coordinates&quot;: [[[35.83982629514085, 31.920425130681714], [35.83982629514085, 31.938512565340858], [35.860995410331014, 31.938512565340858], [35.860995410331014, 31.920425130681714], [35.83982629514085, 31.920425130681714]]], &quot;type&quot;: &quot;Polygon&quot;}, &quot;id&quot;: &quot;13&quot;, &quot;properties&quot;: {&quot;square_id&quot;: 13}, &quot;type&quot;: &quot;Feature&quot;}, {&quot;bbox&quot;: [35.839824211986844, 31.938512565340858, 35.86099749348502, 31.9566], &quot;geometry&quot;: {&quot;coordinates&quot;: [[[35.839824211986844, 31.938512565340858], [35.839824211986844, 31.9566], [35.86099749348502, 31.9566], [35.86099749348502, 31.938512565340858], [35.839824211986844, 31.938512565340858]]], &quot;type&quot;: &quot;Polygon&quot;}, &quot;id&quot;: &quot;14&quot;, &quot;properties&quot;: {&quot;square_id&quot;: 14}, &quot;type&quot;: &quot;Feature&quot;}, {&quot;bbox&quot;: [35.83982212695725, 31.9566, 35.860999578514615, 31.974687434659145], &quot;geometry&quot;: {&quot;coordinates&quot;: [[[35.83982212695725, 31.9566], [35.83982212695725, 31.974687434659145], [35.860999578514615, 31.974687434659145], [35.860999578514615, 31.9566], [35.83982212695725, 31.9566]]], &quot;type&quot;: &quot;Polygon&quot;}, &quot;id&quot;: &quot;15&quot;, &quot;properties&quot;: {&quot;square_id&quot;: 15}, &quot;type&quot;: &quot;Feature&quot;}, {&quot;bbox&quot;: [35.83982004005055, 31.974687434659145, 35.86100166542132, 31.99277486931829], &quot;geometry&quot;: {&quot;coordinates&quot;: [[[35.83982004005055, 31.974687434659145], [35.83982004005055, 31.99277486931829], [35.86100166542132, 31.99277486931829], [35.86100166542132, 31.974687434659145], [35.83982004005055, 31.974687434659145]]], &quot;type&quot;: &quot;Polygon&quot;}, &quot;id&quot;: &quot;16&quot;, &quot;properties&quot;: {&quot;square_id&quot;: 16}, &quot;type&quot;: &quot;Feature&quot;}, {&quot;bbox&quot;: [35.83981795126521, 31.992774869318286, 35.861003754206656, 32.010862303977426], &quot;geometry&quot;: {&quot;coordinates&quot;: [[[35.83981795126521, 31.992774869318286], [35.83981795126521, 32.010862303977426], [35.861003754206656, 32.010862303977426], [35.861003754206656, 31.992774869318286], [35.83981795126521, 31.992774869318286]]], &quot;type&quot;: &quot;Polygon&quot;}, &quot;id&quot;: &quot;17&quot;, &quot;properties&quot;: {&quot;square_id&quot;: 17}, &quot;type&quot;: &quot;Feature&quot;}, {&quot;bbox&quot;: [35.83981586059971, 32.010862303977426, 35.86100584487216, 32.02894973863656], &quot;geometry&quot;: {&quot;coordinates&quot;: [[[35.83981586059971, 32.010862303977426], [35.83981586059971, 32.02894973863656], [35.86100584487216, 32.02894973863656], [35.86100584487216, 32.010862303977426], [35.83981586059971, 32.010862303977426]]], &quot;type&quot;: &quot;Polygon&quot;}, &quot;id&quot;: &quot;18&quot;, &quot;properties&quot;: {&quot;square_id&quot;: 18}, &quot;type&quot;: &quot;Feature&quot;}, {&quot;bbox&quot;: [35.83981376805251, 32.02894973863658, 35.86100793741936, 32.04703717329571], &quot;geometry&quot;: {&quot;coordinates&quot;: [[[35.83981376805251, 32.02894973863658], [35.83981376805251, 32.04703717329571], [35.86100793741936, 32.04703717329571], [35.86100793741936, 32.02894973863658], [35.83981376805251, 32.02894973863658]]], &quot;type&quot;: &quot;Polygon&quot;}, &quot;id&quot;: &quot;19&quot;, &quot;properties&quot;: {&quot;square_id&quot;: 19}, &quot;type&quot;: &quot;Feature&quot;}, {&quot;bbox&quot;: [35.86100789942325, 31.86616282670429, 35.88216453816597, 31.884250261363434], &quot;geometry&quot;: {&quot;coordinates&quot;: [[[35.86100789942325, 31.86616282670429], [35.86100789942325, 31.884250261363434], [35.88216453816597, 31.884250261363434], [35.88216453816597, 31.86616282670429], [35.86100789942325, 31.86616282670429]]], &quot;type&quot;: &quot;Polygon&quot;}, &quot;id&quot;: &quot;20&quot;, &quot;properties&quot;: {&quot;square_id&quot;: 20}, &quot;type&quot;: &quot;Feature&quot;}, {&quot;bbox&quot;: [35.86100582188688, 31.88425026136343, 35.882166615702346, 31.902337696022574], &quot;geometry&quot;: {&quot;coordinates&quot;: [[[35.86100582188688, 31.88425026136343], [35.86100582188688, 31.902337696022574], [35.882166615702346, 31.902337696022574], [35.882166615702346, 31.88425026136343], [35.86100582188688, 31.88425026136343]]], &quot;type&quot;: &quot;Polygon&quot;}, &quot;id&quot;: &quot;21&quot;, &quot;properties&quot;: {&quot;square_id&quot;: 21}, &quot;type&quot;: &quot;Feature&quot;}, {&quot;bbox&quot;: [35.861003742479475, 31.902337696022574, 35.88216869510975, 31.920425130681718], &quot;geometry&quot;: {&quot;coordinates&quot;: [[[35.861003742479475, 31.902337696022574], [35.861003742479475, 31.920425130681718], [35.88216869510975, 31.920425130681718], [35.88216869510975, 31.902337696022574], [35.861003742479475, 31.902337696022574]]], &quot;type&quot;: &quot;Polygon&quot;}, &quot;id&quot;: &quot;22&quot;, &quot;properties&quot;: {&quot;square_id&quot;: 22}, &quot;type&quot;: &quot;Feature&quot;}, {&quot;bbox&quot;: [35.86100166119953, 31.920425130681714, 35.88217077638969, 31.938512565340858], &quot;geometry&quot;: {&quot;coordinates&quot;: [[[35.86100166119953, 31.920425130681714], [35.86100166119953, 31.938512565340858], [35.88217077638969, 31.938512565340858], [35.88217077638969, 31.920425130681714], [35.86100166119953, 31.920425130681714]]], &quot;type&quot;: &quot;Polygon&quot;}, &quot;id&quot;: &quot;23&quot;, &quot;properties&quot;: {&quot;square_id&quot;: 23}, &quot;type&quot;: &quot;Feature&quot;}, {&quot;bbox&quot;: [35.86099957804552, 31.938512565340858, 35.8821728595437, 31.9566], &quot;geometry&quot;: {&quot;coordinates&quot;: [[[35.86099957804552, 31.938512565340858], [35.86099957804552, 31.9566], [35.8821728595437, 31.9566], [35.8821728595437, 31.938512565340858], [35.86099957804552, 31.938512565340858]]], &quot;type&quot;: &quot;Polygon&quot;}, &quot;id&quot;: &quot;24&quot;, &quot;properties&quot;: {&quot;square_id&quot;: 24}, &quot;type&quot;: &quot;Feature&quot;}, {&quot;bbox&quot;: [35.86099749301593, 31.9566, 35.88217494457329, 31.974687434659145], &quot;geometry&quot;: {&quot;coordinates&quot;: [[[35.86099749301593, 31.9566], [35.86099749301593, 31.974687434659145], [35.88217494457329, 31.974687434659145], [35.88217494457329, 31.9566], [35.86099749301593, 31.9566]]], &quot;type&quot;: &quot;Polygon&quot;}, &quot;id&quot;: &quot;25&quot;, &quot;properties&quot;: {&quot;square_id&quot;: 25}, &quot;type&quot;: &quot;Feature&quot;}, {&quot;bbox&quot;: [35.860995406109225, 31.974687434659145, 35.88217703148, 31.99277486931829], &quot;geometry&quot;: {&quot;coordinates&quot;: [[[35.860995406109225, 31.974687434659145], [35.860995406109225, 31.99277486931829], [35.88217703148, 31.99277486931829], [35.88217703148, 31.974687434659145], [35.860995406109225, 31.974687434659145]]], &quot;type&quot;: &quot;Polygon&quot;}, &quot;id&quot;: &quot;26&quot;, &quot;properties&quot;: {&quot;square_id&quot;: 26}, &quot;type&quot;: &quot;Feature&quot;}, {&quot;bbox&quot;: [35.86099331732389, 31.992774869318286, 35.882179120265334, 32.010862303977426], &quot;geometry&quot;: {&quot;coordinates&quot;: [[[35.86099331732389, 31.992774869318286], [35.86099331732389, 32.010862303977426], [35.882179120265334, 32.010862303977426], [35.882179120265334, 31.992774869318286], [35.86099331732389, 31.992774869318286]]], &quot;type&quot;: &quot;Polygon&quot;}, &quot;id&quot;: &quot;27&quot;, &quot;properties&quot;: {&quot;square_id&quot;: 27}, &quot;type&quot;: &quot;Feature&quot;}, {&quot;bbox&quot;: [35.860991226658385, 32.010862303977426, 35.88218121093084, 32.02894973863656], &quot;geometry&quot;: {&quot;coordinates&quot;: [[[35.860991226658385, 32.010862303977426], [35.860991226658385, 32.02894973863656], [35.88218121093084, 32.02894973863656], [35.88218121093084, 32.010862303977426], [35.860991226658385, 32.010862303977426]]], &quot;type&quot;: &quot;Polygon&quot;}, &quot;id&quot;: &quot;28&quot;, &quot;properties&quot;: {&quot;square_id&quot;: 28}, &quot;type&quot;: &quot;Feature&quot;}, {&quot;bbox&quot;: [35.860989134111186, 32.02894973863658, 35.88218330347804, 32.04703717329571], &quot;geometry&quot;: {&quot;coordinates&quot;: [[[35.860989134111186, 32.02894973863658], [35.860989134111186, 32.04703717329571], [35.88218330347804, 32.04703717329571], [35.88218330347804, 32.02894973863658], [35.860989134111186, 32.02894973863658]]], &quot;type&quot;: &quot;Polygon&quot;}, &quot;id&quot;: &quot;29&quot;, &quot;properties&quot;: {&quot;square_id&quot;: 29}, &quot;type&quot;: &quot;Feature&quot;}, {&quot;bbox&quot;: [35.882183265481935, 31.86616282670429, 35.90333990422466, 31.884250261363434], &quot;geometry&quot;: {&quot;coordinates&quot;: [[[35.882183265481935, 31.86616282670429], [35.882183265481935, 31.884250261363434], [35.90333990422466, 31.884250261363434], [35.90333990422466, 31.86616282670429], [35.882183265481935, 31.86616282670429]]], &quot;type&quot;: &quot;Polygon&quot;}, &quot;id&quot;: &quot;30&quot;, &quot;properties&quot;: {&quot;square_id&quot;: 30}, &quot;type&quot;: &quot;Feature&quot;}, {&quot;bbox&quot;: [35.88218118794556, 31.88425026136343, 35.90334198176103, 31.902337696022574], &quot;geometry&quot;: {&quot;coordinates&quot;: [[[35.88218118794556, 31.88425026136343], [35.88218118794556, 31.902337696022574], [35.90334198176103, 31.902337696022574], [35.90334198176103, 31.88425026136343], [35.88218118794556, 31.88425026136343]]], &quot;type&quot;: &quot;Polygon&quot;}, &quot;id&quot;: &quot;31&quot;, &quot;properties&quot;: {&quot;square_id&quot;: 31}, &quot;type&quot;: &quot;Feature&quot;}, {&quot;bbox&quot;: [35.88217910853816, 31.902337696022574, 35.90334406116843, 31.920425130681718], &quot;geometry&quot;: {&quot;coordinates&quot;: [[[35.88217910853816, 31.902337696022574], [35.88217910853816, 31.920425130681718], [35.90334406116843, 31.920425130681718], [35.90334406116843, 31.902337696022574], [35.88217910853816, 31.902337696022574]]], &quot;type&quot;: &quot;Polygon&quot;}, &quot;id&quot;: &quot;32&quot;, &quot;properties&quot;: {&quot;square_id&quot;: 32}, &quot;type&quot;: &quot;Feature&quot;}, {&quot;bbox&quot;: [35.882177027258216, 31.920425130681714, 35.90334614244838, 31.938512565340858], &quot;geometry&quot;: {&quot;coordinates&quot;: [[[35.882177027258216, 31.920425130681714], [35.882177027258216, 31.938512565340858], [35.90334614244838, 31.938512565340858], [35.90334614244838, 31.920425130681714], [35.882177027258216, 31.920425130681714]]], &quot;type&quot;: &quot;Polygon&quot;}, &quot;id&quot;: &quot;33&quot;, &quot;properties&quot;: {&quot;square_id&quot;: 33}, &quot;type&quot;: &quot;Feature&quot;}, {&quot;bbox&quot;: [35.88217494410421, 31.938512565340858, 35.903348225602386, 31.9566], &quot;geometry&quot;: {&quot;coordinates&quot;: [[[35.88217494410421, 31.938512565340858], [35.88217494410421, 31.9566], [35.903348225602386, 31.9566], [35.903348225602386, 31.938512565340858], [35.88217494410421, 31.938512565340858]]], &quot;type&quot;: &quot;Polygon&quot;}, &quot;id&quot;: &quot;34&quot;, &quot;properties&quot;: {&quot;square_id&quot;: 34}, &quot;type&quot;: &quot;Feature&quot;}, {&quot;bbox&quot;: [35.882172859074615, 31.9566, 35.90335031063198, 31.974687434659145], &quot;geometry&quot;: {&quot;coordinates&quot;: [[[35.882172859074615, 31.9566], [35.882172859074615, 31.974687434659145], [35.90335031063198, 31.974687434659145], [35.90335031063198, 31.9566], [35.882172859074615, 31.9566]]], &quot;type&quot;: &quot;Polygon&quot;}, &quot;id&quot;: &quot;35&quot;, &quot;properties&quot;: {&quot;square_id&quot;: 35}, &quot;type&quot;: &quot;Feature&quot;}, {&quot;bbox&quot;: [35.88217077216791, 31.974687434659145, 35.90335239753868, 31.99277486931829], &quot;geometry&quot;: {&quot;coordinates&quot;: [[[35.88217077216791, 31.974687434659145], [35.88217077216791, 31.99277486931829], [35.90335239753868, 31.99277486931829], [35.90335239753868, 31.974687434659145], [35.88217077216791, 31.974687434659145]]], &quot;type&quot;: &quot;Polygon&quot;}, &quot;id&quot;: &quot;36&quot;, &quot;properties&quot;: {&quot;square_id&quot;: 36}, &quot;type&quot;: &quot;Feature&quot;}, {&quot;bbox&quot;: [35.882168683382574, 31.992774869318286, 35.90335448632402, 32.010862303977426], &quot;geometry&quot;: {&quot;coordinates&quot;: [[[35.882168683382574, 31.992774869318286], [35.882168683382574, 32.010862303977426], [35.90335448632402, 32.010862303977426], [35.90335448632402, 31.992774869318286], [35.882168683382574, 31.992774869318286]]], &quot;type&quot;: &quot;Polygon&quot;}, &quot;id&quot;: &quot;37&quot;, &quot;properties&quot;: {&quot;square_id&quot;: 37}, &quot;type&quot;: &quot;Feature&quot;}, {&quot;bbox&quot;: [35.88216659271707, 32.010862303977426, 35.90335657698952, 32.02894973863656], &quot;geometry&quot;: {&quot;coordinates&quot;: [[[35.88216659271707, 32.010862303977426], [35.88216659271707, 32.02894973863656], [35.90335657698952, 32.02894973863656], [35.90335657698952, 32.010862303977426], [35.88216659271707, 32.010862303977426]]], &quot;type&quot;: &quot;Polygon&quot;}, &quot;id&quot;: &quot;38&quot;, &quot;properties&quot;: {&quot;square_id&quot;: 38}, &quot;type&quot;: &quot;Feature&quot;}, {&quot;bbox&quot;: [35.88216450016987, 32.02894973863658, 35.90335866953672, 32.04703717329571], &quot;geometry&quot;: {&quot;coordinates&quot;: [[[35.88216450016987, 32.02894973863658], [35.88216450016987, 32.04703717329571], [35.90335866953672, 32.04703717329571], [35.90335866953672, 32.02894973863658], [35.88216450016987, 32.02894973863658]]], &quot;type&quot;: &quot;Polygon&quot;}, &quot;id&quot;: &quot;39&quot;, &quot;properties&quot;: {&quot;square_id&quot;: 39}, &quot;type&quot;: &quot;Feature&quot;}, {&quot;bbox&quot;: [35.90335863154061, 31.86616282670429, 35.92451527028334, 31.884250261363434], &quot;geometry&quot;: {&quot;coordinates&quot;: [[[35.90335863154061, 31.86616282670429], [35.90335863154061, 31.884250261363434], [35.92451527028334, 31.884250261363434], [35.92451527028334, 31.86616282670429], [35.90335863154061, 31.86616282670429]]], &quot;type&quot;: &quot;Polygon&quot;}, &quot;id&quot;: &quot;40&quot;, &quot;properties&quot;: {&quot;square_id&quot;: 40}, &quot;type&quot;: &quot;Feature&quot;}, {&quot;bbox&quot;: [35.90335655400424, 31.88425026136343, 35.92451734781971, 31.902337696022574], &quot;geometry&quot;: {&quot;coordinates&quot;: [[[35.90335655400424, 31.88425026136343], [35.90335655400424, 31.902337696022574], [35.92451734781971, 31.902337696022574], [35.92451734781971, 31.88425026136343], [35.90335655400424, 31.88425026136343]]], &quot;type&quot;: &quot;Polygon&quot;}, &quot;id&quot;: &quot;41&quot;, &quot;properties&quot;: {&quot;square_id&quot;: 41}, &quot;type&quot;: &quot;Feature&quot;}, {&quot;bbox&quot;: [35.90335447459684, 31.902337696022574, 35.92451942722711, 31.920425130681718], &quot;geometry&quot;: {&quot;coordinates&quot;: [[[35.90335447459684, 31.902337696022574], [35.90335447459684, 31.920425130681718], [35.92451942722711, 31.920425130681718], [35.92451942722711, 31.902337696022574], [35.90335447459684, 31.902337696022574]]], &quot;type&quot;: &quot;Polygon&quot;}, &quot;id&quot;: &quot;42&quot;, &quot;properties&quot;: {&quot;square_id&quot;: 42}, &quot;type&quot;: &quot;Feature&quot;}, {&quot;bbox&quot;: [35.903352393316894, 31.920425130681714, 35.924521508507056, 31.938512565340858], &quot;geometry&quot;: {&quot;coordinates&quot;: [[[35.903352393316894, 31.920425130681714], [35.903352393316894, 31.938512565340858], [35.924521508507056, 31.938512565340858], [35.924521508507056, 31.920425130681714], [35.903352393316894, 31.920425130681714]]], &quot;type&quot;: &quot;Polygon&quot;}, &quot;id&quot;: &quot;43&quot;, &quot;properties&quot;: {&quot;square_id&quot;: 43}, &quot;type&quot;: &quot;Feature&quot;}, {&quot;bbox&quot;: [35.903350310162885, 31.938512565340858, 35.924523591661064, 31.9566], &quot;geometry&quot;: {&quot;coordinates&quot;: [[[35.903350310162885, 31.938512565340858], [35.903350310162885, 31.9566], [35.924523591661064, 31.9566], [35.924523591661064, 31.938512565340858], [35.903350310162885, 31.938512565340858]]], &quot;type&quot;: &quot;Polygon&quot;}, &quot;id&quot;: &quot;44&quot;, &quot;properties&quot;: {&quot;square_id&quot;: 44}, &quot;type&quot;: &quot;Feature&quot;}, {&quot;bbox&quot;: [35.90334822513329, 31.9566, 35.924525676690656, 31.974687434659145], &quot;geometry&quot;: {&quot;coordinates&quot;: [[[35.90334822513329, 31.9566], [35.90334822513329, 31.974687434659145], [35.924525676690656, 31.974687434659145], [35.924525676690656, 31.9566], [35.90334822513329, 31.9566]]], &quot;type&quot;: &quot;Polygon&quot;}, &quot;id&quot;: &quot;45&quot;, &quot;properties&quot;: {&quot;square_id&quot;: 45}, &quot;type&quot;: &quot;Feature&quot;}, {&quot;bbox&quot;: [35.90334613822659, 31.974687434659145, 35.92452776359736, 31.99277486931829], &quot;geometry&quot;: {&quot;coordinates&quot;: [[[35.90334613822659, 31.974687434659145], [35.90334613822659, 31.99277486931829], [35.92452776359736, 31.99277486931829], [35.92452776359736, 31.974687434659145], [35.90334613822659, 31.974687434659145]]], &quot;type&quot;: &quot;Polygon&quot;}, &quot;id&quot;: &quot;46&quot;, &quot;properties&quot;: {&quot;square_id&quot;: 46}, &quot;type&quot;: &quot;Feature&quot;}, {&quot;bbox&quot;: [35.90334404944125, 31.992774869318286, 35.9245298523827, 32.010862303977426], &quot;geometry&quot;: {&quot;coordinates&quot;: [[[35.90334404944125, 31.992774869318286], [35.90334404944125, 32.010862303977426], [35.9245298523827, 32.010862303977426], [35.9245298523827, 31.992774869318286], [35.90334404944125, 31.992774869318286]]], &quot;type&quot;: &quot;Polygon&quot;}, &quot;id&quot;: &quot;47&quot;, &quot;properties&quot;: {&quot;square_id&quot;: 47}, &quot;type&quot;: &quot;Feature&quot;}, {&quot;bbox&quot;: [35.90334195877575, 32.010862303977426, 35.9245319430482, 32.02894973863656], &quot;geometry&quot;: {&quot;coordinates&quot;: [[[35.90334195877575, 32.010862303977426], [35.90334195877575, 32.02894973863656], [35.9245319430482, 32.02894973863656], [35.9245319430482, 32.010862303977426], [35.90334195877575, 32.010862303977426]]], &quot;type&quot;: &quot;Polygon&quot;}, &quot;id&quot;: &quot;48&quot;, &quot;properties&quot;: {&quot;square_id&quot;: 48}, &quot;type&quot;: &quot;Feature&quot;}, {&quot;bbox&quot;: [35.90333986622855, 32.02894973863658, 35.9245340355954, 32.04703717329571], &quot;geometry&quot;: {&quot;coordinates&quot;: [[[35.90333986622855, 32.02894973863658], [35.90333986622855, 32.04703717329571], [35.9245340355954, 32.04703717329571], [35.9245340355954, 32.02894973863658], [35.90333986622855, 32.02894973863658]]], &quot;type&quot;: &quot;Polygon&quot;}, &quot;id&quot;: &quot;49&quot;, &quot;properties&quot;: {&quot;square_id&quot;: 49}, &quot;type&quot;: &quot;Feature&quot;}, {&quot;bbox&quot;: [35.9245339975993, 31.86616282670429, 35.94569063634202, 31.884250261363434], &quot;geometry&quot;: {&quot;coordinates&quot;: [[[35.9245339975993, 31.86616282670429], [35.9245339975993, 31.884250261363434], [35.94569063634202, 31.884250261363434], [35.94569063634202, 31.86616282670429], [35.9245339975993, 31.86616282670429]]], &quot;type&quot;: &quot;Polygon&quot;}, &quot;id&quot;: &quot;50&quot;, &quot;properties&quot;: {&quot;square_id&quot;: 50}, &quot;type&quot;: &quot;Feature&quot;}, {&quot;bbox&quot;: [35.924531920062925, 31.88425026136343, 35.945692713878394, 31.902337696022574], &quot;geometry&quot;: {&quot;coordinates&quot;: [[[35.924531920062925, 31.88425026136343], [35.924531920062925, 31.902337696022574], [35.945692713878394, 31.902337696022574], [35.945692713878394, 31.88425026136343], [35.924531920062925, 31.88425026136343]]], &quot;type&quot;: &quot;Polygon&quot;}, &quot;id&quot;: &quot;51&quot;, &quot;properties&quot;: {&quot;square_id&quot;: 51}, &quot;type&quot;: &quot;Feature&quot;}, {&quot;bbox&quot;: [35.924529840655524, 31.902337696022574, 35.945694793285796, 31.920425130681718], &quot;geometry&quot;: {&quot;coordinates&quot;: [[[35.924529840655524, 31.902337696022574], [35.924529840655524, 31.920425130681718], [35.945694793285796, 31.920425130681718], [35.945694793285796, 31.902337696022574], [35.924529840655524, 31.902337696022574]]], &quot;type&quot;: &quot;Polygon&quot;}, &quot;id&quot;: &quot;52&quot;, &quot;properties&quot;: {&quot;square_id&quot;: 52}, &quot;type&quot;: &quot;Feature&quot;}, {&quot;bbox&quot;: [35.92452775937558, 31.920425130681714, 35.94569687456574, 31.938512565340858], &quot;geometry&quot;: {&quot;coordinates&quot;: [[[35.92452775937558, 31.920425130681714], [35.92452775937558, 31.938512565340858], [35.94569687456574, 31.938512565340858], [35.94569687456574, 31.920425130681714], [35.92452775937558, 31.920425130681714]]], &quot;type&quot;: &quot;Polygon&quot;}, &quot;id&quot;: &quot;53&quot;, &quot;properties&quot;: {&quot;square_id&quot;: 53}, &quot;type&quot;: &quot;Feature&quot;}, {&quot;bbox&quot;: [35.92452567622157, 31.938512565340858, 35.94569895771975, 31.9566], &quot;geometry&quot;: {&quot;coordinates&quot;: [[[35.92452567622157, 31.938512565340858], [35.92452567622157, 31.9566], [35.94569895771975, 31.9566], [35.94569895771975, 31.938512565340858], [35.92452567622157, 31.938512565340858]]], &quot;type&quot;: &quot;Polygon&quot;}, &quot;id&quot;: &quot;54&quot;, &quot;properties&quot;: {&quot;square_id&quot;: 54}, &quot;type&quot;: &quot;Feature&quot;}, {&quot;bbox&quot;: [35.92452359119198, 31.9566, 35.94570104274934, 31.974687434659145], &quot;geometry&quot;: {&quot;coordinates&quot;: [[[35.92452359119198, 31.9566], [35.92452359119198, 31.974687434659145], [35.94570104274934, 31.974687434659145], [35.94570104274934, 31.9566], [35.92452359119198, 31.9566]]], &quot;type&quot;: &quot;Polygon&quot;}, &quot;id&quot;: &quot;55&quot;, &quot;properties&quot;: {&quot;square_id&quot;: 55}, &quot;type&quot;: &quot;Feature&quot;}, {&quot;bbox&quot;: [35.92452150428527, 31.974687434659145, 35.945703129656046, 31.99277486931829], &quot;geometry&quot;: {&quot;coordinates&quot;: [[[35.92452150428527, 31.974687434659145], [35.92452150428527, 31.99277486931829], [35.945703129656046, 31.99277486931829], [35.945703129656046, 31.974687434659145], [35.92452150428527, 31.974687434659145]]], &quot;type&quot;: &quot;Polygon&quot;}, &quot;id&quot;: &quot;56&quot;, &quot;properties&quot;: {&quot;square_id&quot;: 56}, &quot;type&quot;: &quot;Feature&quot;}, {&quot;bbox&quot;: [35.92451941549994, 31.992774869318286, 35.94570521844138, 32.010862303977426], &quot;geometry&quot;: {&quot;coordinates&quot;: [[[35.92451941549994, 31.992774869318286], [35.92451941549994, 32.010862303977426], [35.94570521844138, 32.010862303977426], [35.94570521844138, 31.992774869318286], [35.92451941549994, 31.992774869318286]]], &quot;type&quot;: &quot;Polygon&quot;}, &quot;id&quot;: &quot;57&quot;, &quot;properties&quot;: {&quot;square_id&quot;: 57}, &quot;type&quot;: &quot;Feature&quot;}, {&quot;bbox&quot;: [35.92451732483443, 32.010862303977426, 35.945707309106886, 32.02894973863656], &quot;geometry&quot;: {&quot;coordinates&quot;: [[[35.92451732483443, 32.010862303977426], [35.92451732483443, 32.02894973863656], [35.945707309106886, 32.02894973863656], [35.945707309106886, 32.010862303977426], [35.92451732483443, 32.010862303977426]]], &quot;type&quot;: &quot;Polygon&quot;}, &quot;id&quot;: &quot;58&quot;, &quot;properties&quot;: {&quot;square_id&quot;: 58}, &quot;type&quot;: &quot;Feature&quot;}, {&quot;bbox&quot;: [35.924515232287234, 32.02894973863658, 35.945709401654085, 32.04703717329571], &quot;geometry&quot;: {&quot;coordinates&quot;: [[[35.924515232287234, 32.02894973863658], [35.924515232287234, 32.04703717329571], [35.945709401654085, 32.04703717329571], [35.945709401654085, 32.02894973863658], [35.924515232287234, 32.02894973863658]]], &quot;type&quot;: &quot;Polygon&quot;}, &quot;id&quot;: &quot;59&quot;, &quot;properties&quot;: {&quot;square_id&quot;: 59}, &quot;type&quot;: &quot;Feature&quot;}, {&quot;bbox&quot;: [35.94570936365798, 31.86616282670429, 35.96686600240071, 31.884250261363434], &quot;geometry&quot;: {&quot;coordinates&quot;: [[[35.94570936365798, 31.86616282670429], [35.94570936365798, 31.884250261363434], [35.96686600240071, 31.884250261363434], [35.96686600240071, 31.86616282670429], [35.94570936365798, 31.86616282670429]]], &quot;type&quot;: &quot;Polygon&quot;}, &quot;id&quot;: &quot;60&quot;, &quot;properties&quot;: {&quot;square_id&quot;: 60}, &quot;type&quot;: &quot;Feature&quot;}, {&quot;bbox&quot;: [35.94570728612161, 31.88425026136343, 35.96686807993708, 31.902337696022574], &quot;geometry&quot;: {&quot;coordinates&quot;: [[[35.94570728612161, 31.88425026136343], [35.94570728612161, 31.902337696022574], [35.96686807993708, 31.902337696022574], [35.96686807993708, 31.88425026136343], [35.94570728612161, 31.88425026136343]]], &quot;type&quot;: &quot;Polygon&quot;}, &quot;id&quot;: &quot;61&quot;, &quot;properties&quot;: {&quot;square_id&quot;: 61}, &quot;type&quot;: &quot;Feature&quot;}, {&quot;bbox&quot;: [35.94570520671421, 31.902337696022574, 35.96687015934448, 31.920425130681718], &quot;geometry&quot;: {&quot;coordinates&quot;: [[[35.94570520671421, 31.902337696022574], [35.94570520671421, 31.920425130681718], [35.96687015934448, 31.920425130681718], [35.96687015934448, 31.902337696022574], [35.94570520671421, 31.902337696022574]]], &quot;type&quot;: &quot;Polygon&quot;}, &quot;id&quot;: &quot;62&quot;, &quot;properties&quot;: {&quot;square_id&quot;: 62}, &quot;type&quot;: &quot;Feature&quot;}, {&quot;bbox&quot;: [35.945703125434264, 31.920425130681714, 35.966872240624426, 31.938512565340858], &quot;geometry&quot;: {&quot;coordinates&quot;: [[[35.945703125434264, 31.920425130681714], [35.945703125434264, 31.938512565340858], [35.966872240624426, 31.938512565340858], [35.966872240624426, 31.920425130681714], [35.945703125434264, 31.920425130681714]]], &quot;type&quot;: &quot;Polygon&quot;}, &quot;id&quot;: &quot;63&quot;, &quot;properties&quot;: {&quot;square_id&quot;: 63}, &quot;type&quot;: &quot;Feature&quot;}, {&quot;bbox&quot;: [35.945701042280255, 31.938512565340858, 35.966874323778434, 31.9566], &quot;geometry&quot;: {&quot;coordinates&quot;: [[[35.945701042280255, 31.938512565340858], [35.945701042280255, 31.9566], [35.966874323778434, 31.9566], [35.966874323778434, 31.938512565340858], [35.945701042280255, 31.938512565340858]]], &quot;type&quot;: &quot;Polygon&quot;}, &quot;id&quot;: &quot;64&quot;, &quot;properties&quot;: {&quot;square_id&quot;: 64}, &quot;type&quot;: &quot;Feature&quot;}, {&quot;bbox&quot;: [35.94569895725066, 31.9566, 35.96687640880803, 31.974687434659145], &quot;geometry&quot;: {&quot;coordinates&quot;: [[[35.94569895725066, 31.9566], [35.94569895725066, 31.974687434659145], [35.96687640880803, 31.974687434659145], [35.96687640880803, 31.9566], [35.94569895725066, 31.9566]]], &quot;type&quot;: &quot;Polygon&quot;}, &quot;id&quot;: &quot;65&quot;, &quot;properties&quot;: {&quot;square_id&quot;: 65}, &quot;type&quot;: &quot;Feature&quot;}, {&quot;bbox&quot;: [35.94569687034396, 31.974687434659145, 35.96687849571473, 31.99277486931829], &quot;geometry&quot;: {&quot;coordinates&quot;: [[[35.94569687034396, 31.974687434659145], [35.94569687034396, 31.99277486931829], [35.96687849571473, 31.99277486931829], [35.96687849571473, 31.974687434659145], [35.94569687034396, 31.974687434659145]]], &quot;type&quot;: &quot;Polygon&quot;}, &quot;id&quot;: &quot;66&quot;, &quot;properties&quot;: {&quot;square_id&quot;: 66}, &quot;type&quot;: &quot;Feature&quot;}, {&quot;bbox&quot;: [35.94569478155862, 31.992774869318286, 35.96688058450007, 32.010862303977426], &quot;geometry&quot;: {&quot;coordinates&quot;: [[[35.94569478155862, 31.992774869318286], [35.94569478155862, 32.010862303977426], [35.96688058450007, 32.010862303977426], [35.96688058450007, 31.992774869318286], [35.94569478155862, 31.992774869318286]]], &quot;type&quot;: &quot;Polygon&quot;}, &quot;id&quot;: &quot;67&quot;, &quot;properties&quot;: {&quot;square_id&quot;: 67}, &quot;type&quot;: &quot;Feature&quot;}, {&quot;bbox&quot;: [35.94569269089312, 32.010862303977426, 35.96688267516557, 32.02894973863656], &quot;geometry&quot;: {&quot;coordinates&quot;: [[[35.94569269089312, 32.010862303977426], [35.94569269089312, 32.02894973863656], [35.96688267516557, 32.02894973863656], [35.96688267516557, 32.010862303977426], [35.94569269089312, 32.010862303977426]]], &quot;type&quot;: &quot;Polygon&quot;}, &quot;id&quot;: &quot;68&quot;, &quot;properties&quot;: {&quot;square_id&quot;: 68}, &quot;type&quot;: &quot;Feature&quot;}, {&quot;bbox&quot;: [35.94569059834592, 32.02894973863658, 35.96688476771277, 32.04703717329571], &quot;geometry&quot;: {&quot;coordinates&quot;: [[[35.94569059834592, 32.02894973863658], [35.94569059834592, 32.04703717329571], [35.96688476771277, 32.04703717329571], [35.96688476771277, 32.02894973863658], [35.94569059834592, 32.02894973863658]]], &quot;type&quot;: &quot;Polygon&quot;}, &quot;id&quot;: &quot;69&quot;, &quot;properties&quot;: {&quot;square_id&quot;: 69}, &quot;type&quot;: &quot;Feature&quot;}, {&quot;bbox&quot;: [35.96688472971667, 31.86616282670429, 35.98804136845939, 31.884250261363434], &quot;geometry&quot;: {&quot;coordinates&quot;: [[[35.96688472971667, 31.86616282670429], [35.96688472971667, 31.884250261363434], [35.98804136845939, 31.884250261363434], [35.98804136845939, 31.86616282670429], [35.96688472971667, 31.86616282670429]]], &quot;type&quot;: &quot;Polygon&quot;}, &quot;id&quot;: &quot;70&quot;, &quot;properties&quot;: {&quot;square_id&quot;: 70}, &quot;type&quot;: &quot;Feature&quot;}, {&quot;bbox&quot;: [35.966882652180296, 31.88425026136343, 35.988043445995764, 31.902337696022574], &quot;geometry&quot;: {&quot;coordinates&quot;: [[[35.966882652180296, 31.88425026136343], [35.966882652180296, 31.902337696022574], [35.988043445995764, 31.902337696022574], [35.988043445995764, 31.88425026136343], [35.966882652180296, 31.88425026136343]]], &quot;type&quot;: &quot;Polygon&quot;}, &quot;id&quot;: &quot;71&quot;, &quot;properties&quot;: {&quot;square_id&quot;: 71}, &quot;type&quot;: &quot;Feature&quot;}, {&quot;bbox&quot;: [35.966880572772894, 31.902337696022574, 35.988045525403166, 31.920425130681718], &quot;geometry&quot;: {&quot;coordinates&quot;: [[[35.966880572772894, 31.902337696022574], [35.966880572772894, 31.920425130681718], [35.988045525403166, 31.920425130681718], [35.988045525403166, 31.902337696022574], [35.966880572772894, 31.902337696022574]]], &quot;type&quot;: &quot;Polygon&quot;}, &quot;id&quot;: &quot;72&quot;, &quot;properties&quot;: {&quot;square_id&quot;: 72}, &quot;type&quot;: &quot;Feature&quot;}, {&quot;bbox&quot;: [35.96687849149295, 31.920425130681714, 35.98804760668311, 31.938512565340858], &quot;geometry&quot;: {&quot;coordinates&quot;: [[[35.96687849149295, 31.920425130681714], [35.96687849149295, 31.938512565340858], [35.98804760668311, 31.938512565340858], [35.98804760668311, 31.920425130681714], [35.96687849149295, 31.920425130681714]]], &quot;type&quot;: &quot;Polygon&quot;}, &quot;id&quot;: &quot;73&quot;, &quot;properties&quot;: {&quot;square_id&quot;: 73}, &quot;type&quot;: &quot;Feature&quot;}, {&quot;bbox&quot;: [35.96687640833894, 31.938512565340858, 35.98804968983712, 31.9566], &quot;geometry&quot;: {&quot;coordinates&quot;: [[[35.96687640833894, 31.938512565340858], [35.96687640833894, 31.9566], [35.98804968983712, 31.9566], [35.98804968983712, 31.938512565340858], [35.96687640833894, 31.938512565340858]]], &quot;type&quot;: &quot;Polygon&quot;}, &quot;id&quot;: &quot;74&quot;, &quot;properties&quot;: {&quot;square_id&quot;: 74}, &quot;type&quot;: &quot;Feature&quot;}, {&quot;bbox&quot;: [35.96687432330935, 31.9566, 35.98805177486671, 31.974687434659145], &quot;geometry&quot;: {&quot;coordinates&quot;: [[[35.96687432330935, 31.9566], [35.96687432330935, 31.974687434659145], [35.98805177486671, 31.974687434659145], [35.98805177486671, 31.9566], [35.96687432330935, 31.9566]]], &quot;type&quot;: &quot;Polygon&quot;}, &quot;id&quot;: &quot;75&quot;, &quot;properties&quot;: {&quot;square_id&quot;: 75}, &quot;type&quot;: &quot;Feature&quot;}, {&quot;bbox&quot;: [35.966872236402644, 31.974687434659145, 35.988053861773416, 31.99277486931829], &quot;geometry&quot;: {&quot;coordinates&quot;: [[[35.966872236402644, 31.974687434659145], [35.966872236402644, 31.99277486931829], [35.988053861773416, 31.99277486931829], [35.988053861773416, 31.974687434659145], [35.966872236402644, 31.974687434659145]]], &quot;type&quot;: &quot;Polygon&quot;}, &quot;id&quot;: &quot;76&quot;, &quot;properties&quot;: {&quot;square_id&quot;: 76}, &quot;type&quot;: &quot;Feature&quot;}, {&quot;bbox&quot;: [35.96687014761731, 31.992774869318286, 35.98805595055875, 32.010862303977426], &quot;geometry&quot;: {&quot;coordinates&quot;: [[[35.96687014761731, 31.992774869318286], [35.96687014761731, 32.010862303977426], [35.98805595055875, 32.010862303977426], [35.98805595055875, 31.992774869318286], [35.96687014761731, 31.992774869318286]]], &quot;type&quot;: &quot;Polygon&quot;}, &quot;id&quot;: &quot;77&quot;, &quot;properties&quot;: {&quot;square_id&quot;: 77}, &quot;type&quot;: &quot;Feature&quot;}, {&quot;bbox&quot;: [35.9668680569518, 32.010862303977426, 35.98805804122426, 32.02894973863656], &quot;geometry&quot;: {&quot;coordinates&quot;: [[[35.9668680569518, 32.010862303977426], [35.9668680569518, 32.02894973863656], [35.98805804122426, 32.02894973863656], [35.98805804122426, 32.010862303977426], [35.9668680569518, 32.010862303977426]]], &quot;type&quot;: &quot;Polygon&quot;}, &quot;id&quot;: &quot;78&quot;, &quot;properties&quot;: {&quot;square_id&quot;: 78}, &quot;type&quot;: &quot;Feature&quot;}, {&quot;bbox&quot;: [35.966865964404604, 32.02894973863658, 35.988060133771455, 32.04703717329571], &quot;geometry&quot;: {&quot;coordinates&quot;: [[[35.966865964404604, 32.02894973863658], [35.966865964404604, 32.04703717329571], [35.988060133771455, 32.04703717329571], [35.988060133771455, 32.02894973863658], [35.966865964404604, 32.02894973863658]]], &quot;type&quot;: &quot;Polygon&quot;}, &quot;id&quot;: &quot;79&quot;, &quot;properties&quot;: {&quot;square_id&quot;: 79}, &quot;type&quot;: &quot;Feature&quot;}, {&quot;bbox&quot;: [35.988060095775346, 31.86616282670429, 36.00921673451807, 31.884250261363434], &quot;geometry&quot;: {&quot;coordinates&quot;: [[[35.988060095775346, 31.86616282670429], [35.988060095775346, 31.884250261363434], [36.00921673451807, 31.884250261363434], [36.00921673451807, 31.86616282670429], [35.988060095775346, 31.86616282670429]]], &quot;type&quot;: &quot;Polygon&quot;}, &quot;id&quot;: &quot;80&quot;, &quot;properties&quot;: {&quot;square_id&quot;: 80}, &quot;type&quot;: &quot;Feature&quot;}, {&quot;bbox&quot;: [35.98805801823897, 31.88425026136343, 36.00921881205444, 31.902337696022574], &quot;geometry&quot;: {&quot;coordinates&quot;: [[[35.98805801823897, 31.88425026136343], [35.98805801823897, 31.902337696022574], [36.00921881205444, 31.902337696022574], [36.00921881205444, 31.88425026136343], [35.98805801823897, 31.88425026136343]]], &quot;type&quot;: &quot;Polygon&quot;}, &quot;id&quot;: &quot;81&quot;, &quot;properties&quot;: {&quot;square_id&quot;: 81}, &quot;type&quot;: &quot;Feature&quot;}, {&quot;bbox&quot;: [35.98805593883157, 31.902337696022574, 36.009220891461844, 31.920425130681718], &quot;geometry&quot;: {&quot;coordinates&quot;: [[[35.98805593883157, 31.902337696022574], [35.98805593883157, 31.920425130681718], [36.009220891461844, 31.920425130681718], [36.009220891461844, 31.902337696022574], [35.98805593883157, 31.902337696022574]]], &quot;type&quot;: &quot;Polygon&quot;}, &quot;id&quot;: &quot;82&quot;, &quot;properties&quot;: {&quot;square_id&quot;: 82}, &quot;type&quot;: &quot;Feature&quot;}, {&quot;bbox&quot;: [35.98805385755163, 31.920425130681714, 36.00922297274179, 31.938512565340858], &quot;geometry&quot;: {&quot;coordinates&quot;: [[[35.98805385755163, 31.920425130681714], [35.98805385755163, 31.938512565340858], [36.00922297274179, 31.938512565340858], [36.00922297274179, 31.920425130681714], [35.98805385755163, 31.920425130681714]]], &quot;type&quot;: &quot;Polygon&quot;}, &quot;id&quot;: &quot;83&quot;, &quot;properties&quot;: {&quot;square_id&quot;: 83}, &quot;type&quot;: &quot;Feature&quot;}, {&quot;bbox&quot;: [35.98805177439762, 31.938512565340858, 36.0092250558958, 31.9566], &quot;geometry&quot;: {&quot;coordinates&quot;: [[[35.98805177439762, 31.938512565340858], [35.98805177439762, 31.9566], [36.0092250558958, 31.9566], [36.0092250558958, 31.938512565340858], [35.98805177439762, 31.938512565340858]]], &quot;type&quot;: &quot;Polygon&quot;}, &quot;id&quot;: &quot;84&quot;, &quot;properties&quot;: {&quot;square_id&quot;: 84}, &quot;type&quot;: &quot;Feature&quot;}, {&quot;bbox&quot;: [35.988049689368026, 31.9566, 36.00922714092539, 31.974687434659145], &quot;geometry&quot;: {&quot;coordinates&quot;: [[[35.988049689368026, 31.9566], [35.988049689368026, 31.974687434659145], [36.00922714092539, 31.974687434659145], [36.00922714092539, 31.9566], [35.988049689368026, 31.9566]]], &quot;type&quot;: &quot;Polygon&quot;}, &quot;id&quot;: &quot;85&quot;, &quot;properties&quot;: {&quot;square_id&quot;: 85}, &quot;type&quot;: &quot;Feature&quot;}, {&quot;bbox&quot;: [35.98804760246132, 31.974687434659145, 36.009229227832094, 31.99277486931829], &quot;geometry&quot;: {&quot;coordinates&quot;: [[[35.98804760246132, 31.974687434659145], [35.98804760246132, 31.99277486931829], [36.009229227832094, 31.99277486931829], [36.009229227832094, 31.974687434659145], [35.98804760246132, 31.974687434659145]]], &quot;type&quot;: &quot;Polygon&quot;}, &quot;id&quot;: &quot;86&quot;, &quot;properties&quot;: {&quot;square_id&quot;: 86}, &quot;type&quot;: &quot;Feature&quot;}, {&quot;bbox&quot;: [35.988045513675985, 31.992774869318286, 36.00923131661743, 32.010862303977426], &quot;geometry&quot;: {&quot;coordinates&quot;: [[[35.988045513675985, 31.992774869318286], [35.988045513675985, 32.010862303977426], [36.00923131661743, 32.010862303977426], [36.00923131661743, 31.992774869318286], [35.988045513675985, 31.992774869318286]]], &quot;type&quot;: &quot;Polygon&quot;}, &quot;id&quot;: &quot;87&quot;, &quot;properties&quot;: {&quot;square_id&quot;: 87}, &quot;type&quot;: &quot;Feature&quot;}, {&quot;bbox&quot;: [35.98804342301048, 32.010862303977426, 36.009233407282935, 32.02894973863656], &quot;geometry&quot;: {&quot;coordinates&quot;: [[[35.98804342301048, 32.010862303977426], [35.98804342301048, 32.02894973863656], [36.009233407282935, 32.02894973863656], [36.009233407282935, 32.010862303977426], [35.98804342301048, 32.010862303977426]]], &quot;type&quot;: &quot;Polygon&quot;}, &quot;id&quot;: &quot;88&quot;, &quot;properties&quot;: {&quot;square_id&quot;: 88}, &quot;type&quot;: &quot;Feature&quot;}, {&quot;bbox&quot;: [35.98804133046328, 32.02894973863658, 36.00923549983013, 32.04703717329571], &quot;geometry&quot;: {&quot;coordinates&quot;: [[[35.98804133046328, 32.02894973863658], [35.98804133046328, 32.04703717329571], [36.00923549983013, 32.04703717329571], [36.00923549983013, 32.02894973863658], [35.98804133046328, 32.02894973863658]]], &quot;type&quot;: &quot;Polygon&quot;}, &quot;id&quot;: &quot;89&quot;, &quot;properties&quot;: {&quot;square_id&quot;: 89}, &quot;type&quot;: &quot;Feature&quot;}, {&quot;bbox&quot;: [36.00923546183403, 31.86616282670429, 36.030392100576755, 31.884250261363434], &quot;geometry&quot;: {&quot;coordinates&quot;: [[[36.00923546183403, 31.86616282670429], [36.00923546183403, 31.884250261363434], [36.030392100576755, 31.884250261363434], [36.030392100576755, 31.86616282670429], [36.00923546183403, 31.86616282670429]]], &quot;type&quot;: &quot;Polygon&quot;}, &quot;id&quot;: &quot;90&quot;, &quot;properties&quot;: {&quot;square_id&quot;: 90}, &quot;type&quot;: &quot;Feature&quot;}, {&quot;bbox&quot;: [36.00923338429766, 31.88425026136343, 36.03039417811313, 31.902337696022574], &quot;geometry&quot;: {&quot;coordinates&quot;: [[[36.00923338429766, 31.88425026136343], [36.00923338429766, 31.902337696022574], [36.03039417811313, 31.902337696022574], [36.03039417811313, 31.88425026136343], [36.00923338429766, 31.88425026136343]]], &quot;type&quot;: &quot;Polygon&quot;}, &quot;id&quot;: &quot;91&quot;, &quot;properties&quot;: {&quot;square_id&quot;: 91}, &quot;type&quot;: &quot;Feature&quot;}, {&quot;bbox&quot;: [36.00923130489026, 31.902337696022574, 36.03039625752053, 31.920425130681718], &quot;geometry&quot;: {&quot;coordinates&quot;: [[[36.00923130489026, 31.902337696022574], [36.00923130489026, 31.920425130681718], [36.03039625752053, 31.920425130681718], [36.03039625752053, 31.902337696022574], [36.00923130489026, 31.902337696022574]]], &quot;type&quot;: &quot;Polygon&quot;}, &quot;id&quot;: &quot;92&quot;, &quot;properties&quot;: {&quot;square_id&quot;: 92}, &quot;type&quot;: &quot;Feature&quot;}, {&quot;bbox&quot;: [36.00922922361031, 31.920425130681714, 36.030398338800474, 31.938512565340858], &quot;geometry&quot;: {&quot;coordinates&quot;: [[[36.00922922361031, 31.920425130681714], [36.00922922361031, 31.938512565340858], [36.030398338800474, 31.938512565340858], [36.030398338800474, 31.920425130681714], [36.00922922361031, 31.920425130681714]]], &quot;type&quot;: &quot;Polygon&quot;}, &quot;id&quot;: &quot;93&quot;, &quot;properties&quot;: {&quot;square_id&quot;: 93}, &quot;type&quot;: &quot;Feature&quot;}, {&quot;bbox&quot;: [36.009227140456304, 31.938512565340858, 36.03040042195448, 31.9566], &quot;geometry&quot;: {&quot;coordinates&quot;: [[[36.009227140456304, 31.938512565340858], [36.009227140456304, 31.9566], [36.03040042195448, 31.9566], [36.03040042195448, 31.938512565340858], [36.009227140456304, 31.938512565340858]]], &quot;type&quot;: &quot;Polygon&quot;}, &quot;id&quot;: &quot;94&quot;, &quot;properties&quot;: {&quot;square_id&quot;: 94}, &quot;type&quot;: &quot;Feature&quot;}, {&quot;bbox&quot;: [36.00922505542671, 31.9566, 36.030402506984075, 31.974687434659145], &quot;geometry&quot;: {&quot;coordinates&quot;: [[[36.00922505542671, 31.9566], [36.00922505542671, 31.974687434659145], [36.030402506984075, 31.974687434659145], [36.030402506984075, 31.9566], [36.00922505542671, 31.9566]]], &quot;type&quot;: &quot;Polygon&quot;}, &quot;id&quot;: &quot;95&quot;, &quot;properties&quot;: {&quot;square_id&quot;: 95}, &quot;type&quot;: &quot;Feature&quot;}, {&quot;bbox&quot;: [36.00922296852001, 31.974687434659145, 36.03040459389078, 31.99277486931829], &quot;geometry&quot;: {&quot;coordinates&quot;: [[[36.00922296852001, 31.974687434659145], [36.00922296852001, 31.99277486931829], [36.03040459389078, 31.99277486931829], [36.03040459389078, 31.974687434659145], [36.00922296852001, 31.974687434659145]]], &quot;type&quot;: &quot;Polygon&quot;}, &quot;id&quot;: &quot;96&quot;, &quot;properties&quot;: {&quot;square_id&quot;: 96}, &quot;type&quot;: &quot;Feature&quot;}, {&quot;bbox&quot;: [36.00922087973467, 31.992774869318286, 36.030406682676116, 32.010862303977426], &quot;geometry&quot;: {&quot;coordinates&quot;: [[[36.00922087973467, 31.992774869318286], [36.00922087973467, 32.010862303977426], [36.030406682676116, 32.010862303977426], [36.030406682676116, 31.992774869318286], [36.00922087973467, 31.992774869318286]]], &quot;type&quot;: &quot;Polygon&quot;}, &quot;id&quot;: &quot;97&quot;, &quot;properties&quot;: {&quot;square_id&quot;: 97}, &quot;type&quot;: &quot;Feature&quot;}, {&quot;bbox&quot;: [36.009218789069166, 32.010862303977426, 36.03040877334162, 32.02894973863656], &quot;geometry&quot;: {&quot;coordinates&quot;: [[[36.009218789069166, 32.010862303977426], [36.009218789069166, 32.02894973863656], [36.03040877334162, 32.02894973863656], [36.03040877334162, 32.010862303977426], [36.009218789069166, 32.010862303977426]]], &quot;type&quot;: &quot;Polygon&quot;}, &quot;id&quot;: &quot;98&quot;, &quot;properties&quot;: {&quot;square_id&quot;: 98}, &quot;type&quot;: &quot;Feature&quot;}, {&quot;bbox&quot;: [36.00921669652197, 32.02894973863658, 36.03041086588882, 32.04703717329571], &quot;geometry&quot;: {&quot;coordinates&quot;: [[[36.00921669652197, 32.02894973863658], [36.00921669652197, 32.04703717329571], [36.03041086588882, 32.04703717329571], [36.03041086588882, 32.02894973863658], [36.00921669652197, 32.02894973863658]]], &quot;type&quot;: &quot;Polygon&quot;}, &quot;id&quot;: &quot;99&quot;, &quot;properties&quot;: {&quot;square_id&quot;: 99}, &quot;type&quot;: &quot;Feature&quot;}], &quot;type&quot;: &quot;FeatureCollection&quot;});\n",
       "\n",
       "        \n",
       "    \n",
       "    geo_json_be5b86595e8f57e054ef70486cf839a5.bindTooltip(\n",
       "    function(layer){\n",
       "    let div = L.DomUtil.create(&#x27;div&#x27;);\n",
       "    \n",
       "    let handleObject = feature=&gt;typeof(feature)==&#x27;object&#x27; ? JSON.stringify(feature) : feature;\n",
       "    let fields = [&quot;square_id&quot;];\n",
       "    let aliases = [&quot;square_id&quot;];\n",
       "    let table = &#x27;&lt;table&gt;&#x27; +\n",
       "        String(\n",
       "        fields.map(\n",
       "        (v,i)=&gt;\n",
       "        `&lt;tr&gt;\n",
       "            &lt;th&gt;${aliases[i]}&lt;/th&gt;\n",
       "            \n",
       "            &lt;td&gt;${handleObject(layer.feature.properties[v])}&lt;/td&gt;\n",
       "        &lt;/tr&gt;`).join(&#x27;&#x27;))\n",
       "    +&#x27;&lt;/table&gt;&#x27;;\n",
       "    div.innerHTML=table;\n",
       "    \n",
       "    return div\n",
       "    }\n",
       "    ,{&quot;className&quot;: &quot;foliumtooltip&quot;, &quot;sticky&quot;: true});\n",
       "                     \n",
       "&lt;/script&gt;\n",
       "&lt;/html&gt;\" style=\"position:absolute;width:100%;height:100%;left:0;top:0;border:none !important;\" allowfullscreen webkitallowfullscreen mozallowfullscreen></iframe></div></div>"
      ],
      "text/plain": [
       "<folium.folium.Map at 0x2a5c88f40>"
      ]
     },
     "execution_count": 29,
     "metadata": {},
     "output_type": "execute_result"
    }
   ],
   "source": [
    "squares = gpd.read_parquet('data/valid_amman_poly.pq')[['square_id', 'geometry']]\n",
    "\n",
    "squares.explore(map_kwds=dict(scrollWheelZoom=False, dragging=False), zoom_control=False)"
   ]
  },
  {
   "cell_type": "markdown",
   "id": "bb0c4706-6f23-48d1-b658-447e584f6b84",
   "metadata": {},
   "source": [
    "##### Per Square"
   ]
  },
  {
   "cell_type": "code",
   "execution_count": 30,
   "id": "951cc59c-b9fe-4c92-9534-99df67653845",
   "metadata": {},
   "outputs": [],
   "source": [
    "def draw_series(\n",
    "    data: pd.DataFrame,\n",
    "    denoised: pd.DataFrame,\n",
    "    preds: np.ndarray,\n",
    "    timesteps: np.ndarray,\n",
    "    ids: np.ndarray,\n",
    "    sample_i: int,\n",
    "    sid: int\n",
    ") -> pd.DataFrame:\n",
    "    \n",
    "    y_hat = preds[sample_i]\n",
    "    tss = timesteps[sample_i:sample_i+N_STEPS_PAST+HORIZON]\n",
    "    \n",
    "    sub_df = data[(data.square_id == sid) & (data['ts'].isin(tss))].drop('geometry', axis=1)\n",
    "    sub_df['type'] = 'true'\n",
    "    \n",
    "    d_sub_df = denoised[(denoised.square_id == sid) & (denoised['ts'].isin(tss))].drop('geometry', axis=1)\n",
    "    d_sub_df['type'] = 'denoised'\n",
    "    \n",
    "    df_list = []\n",
    "\n",
    "    for i, ts in enumerate(timesteps[sample_i+N_STEPS_PAST:sample_i+N_STEPS_PAST+HORIZON]):\n",
    "        sub = pd.DataFrame({'square_id': ids.flatten(), 'intents': y_hat[i].flatten()})\n",
    "        sub['ts'] = ts\n",
    "        df_list.append(sub)\n",
    "\n",
    "    pred_df = pd.concat(df_list, ignore_index=True)\n",
    "    pred_df = pred_df[pred_df.square_id == sid]\n",
    "    pred_df['type'] = 'pred'\n",
    "    \n",
    "    df = pd.concat([\n",
    "        sub_df.iloc[-(HORIZON+24*4):], \n",
    "        d_sub_df.iloc[-(HORIZON+24*4):], \n",
    "        pred_df.iloc[-(HORIZON+24*4):]  \n",
    "    ]) \n",
    "    \n",
    "    df['ts'] = df['ts'].astype(str)\n",
    "    \n",
    "    plt.figure(figsize=(20, 6))\n",
    "    sns.lineplot(df, x='ts', y='intents', hue='type')\n",
    "    plt.xticks(fontsize=4, rotation=90)\n",
    "    plt.title(f'Timeline for square {sid}')\n",
    "    plt.show()"
   ]
  },
  {
   "cell_type": "code",
   "execution_count": 31,
   "id": "10e2c5da-910a-4c84-8542-080f0b0181df",
   "metadata": {},
   "outputs": [],
   "source": [
    "tt = time['ts'].values[test_indexes[0]-HORIZON:]\n",
    "test_data = data[data['ts'] >= tt[0]].copy()\n",
    "test_den_data = denoised_df[denoised_df['ts'] >= tt[0]].copy()"
   ]
  },
  {
   "cell_type": "code",
   "execution_count": 32,
   "id": "e2e53a18-514f-48df-9205-fc8b11658edc",
   "metadata": {},
   "outputs": [
    {
     "data": {
      "image/png": "[encoded data removed]",
      "text/plain": [
       "<Figure size 2000x600 with 1 Axes>"
      ]
     },
     "metadata": {},
     "output_type": "display_data"
    }
   ],
   "source": [
    "draw_series(test_data, test_den_data, np_preds, tt, ids, 10, 27)"
   ]
  },
  {
   "cell_type": "markdown",
   "id": "e0c27cf1-3df0-4261-a56e-150ff3d6bb5b",
   "metadata": {},
   "source": [
    "##### Aggregated"
   ]
  },
  {
   "cell_type": "code",
   "execution_count": 33,
   "id": "798eb80b-2ed7-4a37-9d7e-37296d6049a0",
   "metadata": {},
   "outputs": [],
   "source": [
    "INDEX = 10\n",
    "\n",
    "f = np_preds[INDEX]\n",
    "f = np.array([np.round(x).sum() for x in f])\n",
    "\n",
    "start_tt = time['ts'].values[test_indexes[INDEX]+N_STEPS_PAST:test_indexes[INDEX]+N_STEPS_PAST+HORIZON]\n",
    "\n",
    "data_agg = data[data['ts'].isin(start_tt)].copy()\n",
    "data_agg = data_agg[['ts', 'intents']].groupby('ts', as_index=False).sum()\n",
    "data_agg['type'] = 'true'\n",
    "\n",
    "ddata_agg = denoised_df[denoised_df['ts'].isin(start_tt)].copy()\n",
    "ddata_agg = ddata_agg[['ts', 'intents']].groupby('ts', as_index=False).sum()\n",
    "ddata_agg['type'] = 'denoised'\n",
    "\n",
    "preds_agg = pd.DataFrame({'ts': start_tt, 'intents': f})\n",
    "preds_agg['type'] = 'pred'\n",
    "\n",
    "agg = pd.concat([data_agg, ddata_agg, preds_agg], ignore_index=True)"
   ]
  },
  {
   "cell_type": "code",
   "execution_count": 34,
   "id": "35d7a5ec-62ed-4653-84e0-7b652e203bb2",
   "metadata": {},
   "outputs": [
    {
     "data": {
      "image/png": "[encoded data removed]",
      "text/plain": [
       "<Figure size 2000x600 with 1 Axes>"
      ]
     },
     "metadata": {},
     "output_type": "display_data"
    }
   ],
   "source": [
    "plt.figure(figsize=(20, 6))\n",
    "sns.lineplot(agg, x='ts', y='intents', hue='type')\n",
    "plt.xticks(fontsize=8, rotation=60)\n",
    "plt.show()"
   ]
  },
  {
   "cell_type": "markdown",
   "id": "b4718251-2d54-4b30-867e-d1af24a96224",
   "metadata": {},
   "source": [
    "### Heatmap Visualization"
   ]
  },
  {
   "cell_type": "code",
   "execution_count": 35,
   "id": "3b6ea792-9d71-46d4-9f2e-4d91d5bc5a3c",
   "metadata": {},
   "outputs": [],
   "source": [
    "from ipywidgets import Play, interact"
   ]
  },
  {
   "cell_type": "code",
   "execution_count": 39,
   "id": "4d06314a-e78c-48b3-82c4-e68a3cdacd15",
   "metadata": {},
   "outputs": [],
   "source": [
    "def create_heatmaps(data, np_preds, time, index, ids=ids, squares=squares):\n",
    "    tt = time['ts'].values[test_indexes[INDEX]+N_STEPS_PAST:test_indexes[INDEX]+N_STEPS_PAST+HORIZON]\n",
    "    df_true = data[data['ts'].isin(tt)][['ts', 'square_id', 'intents']].copy()\n",
    "    df_true['intents'] = df_true['intents'].astype(float)\n",
    "    forecast = np_preds[INDEX]\n",
    "    df_list = []\n",
    "    \n",
    "    for i, ts in enumerate(tt):\n",
    "        sub = pd.DataFrame({'square_id': ids.flatten(), 'intents': np.round(forecast[i].flatten())})\n",
    "        sub['ts'] = ts\n",
    "        df_list.append(sub)\n",
    "    \n",
    "    df_hat = pd.concat(df_list, ignore_index=True)\n",
    "    \n",
    "    df_true = df_true.merge(squares, on='square_id', how='left')\n",
    "    df_hat = df_hat.merge(squares, on='square_id', how='left')\n",
    "    \n",
    "    df_true = gpd.GeoDataFrame(df_true, geometry=df_true.geometry, crs=4326)\n",
    "    df_hat = gpd.GeoDataFrame(df_hat, geometry=df_hat.geometry, crs=4326)\n",
    "    \n",
    "    return df_true, df_hat\n",
    "\n",
    "def draw_heatmap(true, pred):\n",
    "    fig, axes = plt.subplots(1, 2, figsize=(10, 5))\n",
    "    \n",
    "    ax0 = true.plot(column='intents', legend=True, cmap='OrRd', vmin=0, vmax=100, ax=axes[0])\n",
    "    ax0.set_xticks([])\n",
    "    ax0.set_yticks([])\n",
    "    ax0.set_title('True Heatmap')\n",
    "    \n",
    "    ax1 = pred.plot(column='intents', legend=True, cmap='OrRd', vmin=0, vmax=100, ax=axes[1])\n",
    "    ax1.set_xticks([])\n",
    "    ax1.set_yticks([])\n",
    "    ax1.set_title('Predicted Heatmap')\n",
    "    \n",
    "    plt.show()"
   ]
  },
  {
   "cell_type": "code",
   "execution_count": 40,
   "id": "e444c08f-e9a4-4011-bbc8-015e9f57bf7b",
   "metadata": {},
   "outputs": [
    {
     "data": {
      "application/vnd.jupyter.widget-view+json": {
       "model_id": "c232535df86c499c92b5be269980496d",
       "version_major": 2,
       "version_minor": 0
      },
      "text/plain": [
       "interactive(children=(Play(value=0, description='ts_index', interval=1000, max=23), Output()), _dom_classes=('…"
      ]
     },
     "metadata": {},
     "output_type": "display_data"
    }
   ],
   "source": [
    "INDEX = 0\n",
    "\n",
    "df_true, df_pred = create_heatmaps(data, np_preds, time, index=INDEX)  # denoised_df\n",
    "timesteps = np.sort(df_true.ts.unique())\n",
    "\n",
    "play = Play(\n",
    "    value=0,\n",
    "    min=0,\n",
    "    max=len(timesteps)-1,\n",
    "    step=1,\n",
    "    interval=1000,\n",
    "    disabled=False\n",
    ")\n",
    "\n",
    "\n",
    "@interact(ts_index=play)\n",
    "def draw_geo_i(ts_index: int) -> None:\n",
    "    print(timesteps[ts_index])\n",
    "    draw_heatmap(df_true[df_true.ts == timesteps[ts_index]], df_pred[df_pred.ts == timesteps[ts_index]])"
   ]
  },
  {
   "cell_type": "markdown",
   "id": "bca2832b-c30f-4db7-8915-e922eb021760",
   "metadata": {
    "jp-MarkdownHeadingCollapsed": true,
    "tags": []
   },
   "source": [
    "### Data for Boosting"
   ]
  },
  {
   "cell_type": "code",
   "execution_count": null,
   "id": "94cee3dd-5fc6-4d40-a31e-e709e21896c0",
   "metadata": {},
   "outputs": [],
   "source": [
    "def get_preds_data(\n",
    "    preds: np.ndarray,\n",
    "    timesteps: np.ndarray,\n",
    "    ids: np.ndarray,\n",
    "    sample_i: int\n",
    ") -> pd.DataFrame: \n",
    "    y_hat = preds[sample_i]\n",
    "    tss = timesteps[sample_i:sample_i+N_STEPS_PAST+HORIZON]\n",
    "    \n",
    "    df_list = []\n",
    "\n",
    "    for i, ts in enumerate(timesteps[sample_i+N_STEPS_PAST:sample_i+N_STEPS_PAST+HORIZON]):\n",
    "        sub = pd.DataFrame({'square_id': ids.flatten(), 'intents': y_hat[i].flatten()})\n",
    "        sub['ts'] = ts\n",
    "        df_list.append(sub)\n",
    "\n",
    "    pred_df = pd.concat(df_list, ignore_index=True)\n",
    "    \n",
    "    return pred_df"
   ]
  },
  {
   "cell_type": "code",
   "execution_count": null,
   "id": "18874d90-43d9-4034-9497-d6bad5e84c8b",
   "metadata": {},
   "outputs": [],
   "source": [
    "def to_dataset(data, denoised, np_preds, timesteps):\n",
    "    df_list = []\n",
    "\n",
    "    for i in tqdm(range(len(timesteps) - (N_STEPS_PAST+HORIZON) + 1)):\n",
    "        df = get_preds_data(np_preds, timesteps, ids, i)\n",
    "        df['pred_index'] = i\n",
    "        df_list.append(df)\n",
    "\n",
    "    df = pd.concat(df_list, ignore_index=True)\n",
    "    df = df.rename(columns={'intents': 'y_hat'})\n",
    "    \n",
    "    sub_df = data[data['ts'].isin(df.ts.unique())].drop('geometry', axis=1)\n",
    "    sub_df = sub_df.rename(columns={'intents': 'target'})\n",
    "\n",
    "    d_sub_df = denoised[denoised['ts'].isin(df.ts.unique())].drop('geometry', axis=1)\n",
    "    d_sub_df = d_sub_df.rename(columns={'intents': 'denoised'})\n",
    "    \n",
    "    df = df.merge(sub_df, on=['square_id', 'ts'], how='left')\n",
    "    df = df.merge(d_sub_df, on=['square_id', 'ts'], how='left')\n",
    "    \n",
    "    return df"
   ]
  },
  {
   "cell_type": "markdown",
   "id": "20bdd06b-e466-4375-8d48-4b16e9d592bd",
   "metadata": {},
   "source": [
    "##### Val"
   ]
  },
  {
   "cell_type": "code",
   "execution_count": null,
   "id": "5d15115d-7d5b-4921-939d-0d95d0fac95a",
   "metadata": {},
   "outputs": [],
   "source": [
    "val_ds = GeoFramesDataset(\n",
    "    x=denoised_stream,\n",
    "    indexes=val_indexes,\n",
    "    n_steps_past=N_STEPS_PAST,\n",
    "    horizon=HORIZON,\n",
    "    train=False,\n",
    "    half=False,\n",
    "    # scaler=scaler\n",
    ")\n",
    "\n",
    "val_ds_loader = DataLoader(val_ds, batch_size=BATCH_SIZE, shuffle=False, num_workers=4)"
   ]
  },
  {
   "cell_type": "code",
   "execution_count": null,
   "id": "90c838c6-e728-4680-8fd6-4a9399e58edd",
   "metadata": {},
   "outputs": [],
   "source": [
    "val_preds = trainer.predict(model, val_ds_loader, return_predictions=True, ckpt_path='best')"
   ]
  },
  {
   "cell_type": "code",
   "execution_count": null,
   "id": "284e1c74-7666-4d15-8e5d-a696c08dba7f",
   "metadata": {},
   "outputs": [],
   "source": [
    "val_np_preds = np.squeeze(np.concatenate([x.numpy() for x in val_preds]))"
   ]
  },
  {
   "cell_type": "code",
   "execution_count": null,
   "id": "c60ef8de-c205-4317-b055-439ff7119d00",
   "metadata": {},
   "outputs": [],
   "source": [
    "val_tt = time['ts'].values[val_indexes[0]-HORIZON:val_indexes[-1]-HORIZON+1]\n",
    "val_data = data[data['ts'] >= val_tt[0]].copy()\n",
    "val_den_data = denoised_df[denoised_df['ts'] >= val_tt[0]].copy()"
   ]
  },
  {
   "cell_type": "code",
   "execution_count": null,
   "id": "4622660a-1eb0-48ee-b91f-731b97bcd0da",
   "metadata": {},
   "outputs": [],
   "source": [
    "val_df = to_dataset(val_data, val_den_data, val_np_preds, val_tt)"
   ]
  },
  {
   "cell_type": "code",
   "execution_count": null,
   "id": "519f6b26-3d6e-4731-aa22-94b3e5be16d7",
   "metadata": {},
   "outputs": [],
   "source": [
    "val_df.to_parquet('data/amman_boosting_train.pq')"
   ]
  },
  {
   "cell_type": "markdown",
   "id": "91c152b2-7c16-4d10-8196-4054094e024a",
   "metadata": {},
   "source": [
    "##### Test"
   ]
  },
  {
   "cell_type": "code",
   "execution_count": null,
   "id": "cb3a9b7e-abc3-4451-9f28-952f6f431ff6",
   "metadata": {},
   "outputs": [],
   "source": [
    "test_df = to_dataset(test_data, test_den_data, np_preds, tt)"
   ]
  },
  {
   "cell_type": "code",
   "execution_count": null,
   "id": "f573cf25-8044-4790-a4a8-148a37ad959d",
   "metadata": {},
   "outputs": [],
   "source": [
    "test_df.to_parquet('data/amman_boosting_test.pq')"
   ]
  },
  {
   "cell_type": "code",
   "execution_count": null,
   "id": "391e7526-784e-4faa-9139-9a3ba9c688e4",
   "metadata": {},
   "outputs": [],
   "source": []
  }
 ],
 "metadata": {
  "kernelspec": {
   "display_name": "Python 3 (ipykernel)",
   "language": "python",
   "name": "python3"
  },
  "language_info": {
   "codemirror_mode": {
    "name": "ipython",
    "version": 3
   },
   "file_extension": ".py",
   "mimetype": "text/x-python",
   "name": "python",
   "nbconvert_exporter": "python",
   "pygments_lexer": "ipython3",
   "version": "3.10.9"
  }
 },
 "nbformat": 4,
 "nbformat_minor": 5
}
