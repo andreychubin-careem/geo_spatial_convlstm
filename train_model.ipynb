{
 "cells": [
  {
   "cell_type": "markdown",
   "id": "b9e53237-67b9-4fc5-ab08-0050c7527a49",
   "metadata": {
    "tags": []
   },
   "source": [
    "#### TODO:\n",
    "- pct change instead of real values\n",
    "- decomposition\n",
    "- features"
   ]
  },
  {
   "cell_type": "code",
   "execution_count": 1,
   "id": "29809555-eb64-4bf9-8a73-88e9950d9d11",
   "metadata": {},
   "outputs": [],
   "source": [
    "import os\n",
    "import warnings\n",
    "import multiprocessing\n",
    "\n",
    "import torch\n",
    "import numpy as np\n",
    "import pandas as pd\n",
    "import lightning as pl\n",
    "import matplotlib.pyplot as plt\n",
    "import seaborn as sns\n",
    "\n",
    "from tqdm import tqdm"
   ]
  },
  {
   "cell_type": "code",
   "execution_count": 2,
   "id": "92d88f2a-3bc2-4e72-8efb-ecf4c1a26b51",
   "metadata": {},
   "outputs": [
    {
     "data": {
      "text/plain": [
       "'2.0.1'"
      ]
     },
     "execution_count": 2,
     "metadata": {},
     "output_type": "execute_result"
    }
   ],
   "source": [
    "torch.__version__"
   ]
  },
  {
   "cell_type": "code",
   "execution_count": 3,
   "id": "a4022d1d-54c7-4bc1-900a-5d40013464bf",
   "metadata": {},
   "outputs": [],
   "source": [
    "warnings.filterwarnings('ignore')"
   ]
  },
  {
   "cell_type": "code",
   "execution_count": 4,
   "id": "45235264-db04-4762-a70c-fcf4a400c79c",
   "metadata": {},
   "outputs": [],
   "source": [
    "CPUS = (multiprocessing.cpu_count()//2) - 1\n",
    "BATCH_SIZE = 64\n",
    "N_STEPS_PAST = 7*24*2\n",
    "HORIZON = 1*24*2"
   ]
  },
  {
   "cell_type": "code",
   "execution_count": 5,
   "id": "1d7a16b6-c61b-445f-b76c-6c7b3fd7a52b",
   "metadata": {},
   "outputs": [
    {
     "name": "stdout",
     "output_type": "stream",
     "text": [
      "4\n"
     ]
    }
   ],
   "source": [
    "print(CPUS)"
   ]
  },
  {
   "cell_type": "markdown",
   "id": "4e96b19e-a09e-4e42-b657-f3c63ee129ac",
   "metadata": {},
   "source": [
    "### Preparing Data"
   ]
  },
  {
   "cell_type": "code",
   "execution_count": 6,
   "id": "d79cf5ba-6ac3-4468-bed2-2ce3e2f78ddf",
   "metadata": {},
   "outputs": [],
   "source": [
    "from st_forecasting.utils.functions import to_df, to_stream, denoise_by_square"
   ]
  },
  {
   "cell_type": "code",
   "execution_count": 7,
   "id": "ae182755-dab4-4703-a572-0ac091c1f0d4",
   "metadata": {},
   "outputs": [],
   "source": [
    "data = pd.read_parquet('data/amman_data.pq').sort_values(['square_id', 'ts'])\n",
    "pd_squares = pd.read_parquet('data/amman_squares.pq').assign(key=1)\n",
    "ids = np.load('data/amman_squares.npy')"
   ]
  },
  {
   "cell_type": "code",
   "execution_count": 8,
   "id": "e13e4e96-9550-466c-8f0c-0e4688c9698e",
   "metadata": {},
   "outputs": [],
   "source": [
    "time = pd.DataFrame({'ts': pd.date_range(start=data['ts'].min(), end=data['ts'].max(), freq='30T')}).assign(key=1)\n",
    "time['ts'] = time['ts'].astype(str)\n",
    "time_squares = pd_squares.merge(time, on='key', how='outer').drop('key', axis=1).sort_values(['ts', 'square_id'])\n",
    "data = time_squares.merge(data, on=['square_id', 'ts'], how='left')\n",
    "data['intents'] = data['intents'].fillna(0)"
   ]
  },
  {
   "cell_type": "raw",
   "id": "883a0e5c-f63c-4609-b9be-e14480857a77",
   "metadata": {},
   "source": [
    "sns.lineplot(data[data.square_id == 207].sort_values('ts').iloc[-100:].intents.values)"
   ]
  },
  {
   "cell_type": "raw",
   "id": "abe999e8-d268-4b96-8971-439572c0ffa5",
   "metadata": {},
   "source": [
    "sns.lineplot(\n",
    "    signal.savgol_filter(\n",
    "        data[data.square_id == 207].sort_values('ts').iloc[-100:].intents.values, window_length=4, polyorder=1\n",
    "    )\n",
    ")"
   ]
  },
  {
   "cell_type": "code",
   "execution_count": 9,
   "id": "e2137af7-35a6-42a2-a53e-aaca58609700",
   "metadata": {},
   "outputs": [
    {
     "name": "stderr",
     "output_type": "stream",
     "text": [
      "Denoising...: 100%|██████████████████████████| 324/324 [00:01<00:00, 253.25it/s]\n"
     ]
    }
   ],
   "source": [
    "denoised_df = denoise_by_square(data)"
   ]
  },
  {
   "cell_type": "code",
   "execution_count": 10,
   "id": "26e58480-6e7d-4e67-94f3-b3fc9ad668ba",
   "metadata": {},
   "outputs": [
    {
     "name": "stderr",
     "output_type": "stream",
     "text": [
      "Converting to stream...: 100%|█████████████| 8736/8736 [00:11<00:00, 774.06it/s]\n",
      "Converting to stream...: 100%|█████████████| 8736/8736 [00:10<00:00, 806.07it/s]\n"
     ]
    }
   ],
   "source": [
    "stream = to_stream(data, pd_squares)\n",
    "denoised_stream = to_stream(denoised_df, pd_squares)"
   ]
  },
  {
   "cell_type": "markdown",
   "id": "15b36c0a-d331-465a-8acf-edb9006c0c71",
   "metadata": {},
   "source": [
    "### Splitting Data"
   ]
  },
  {
   "cell_type": "code",
   "execution_count": 11,
   "id": "d0f36cc1-4e23-4803-bb64-ea196fa4573e",
   "metadata": {},
   "outputs": [
    {
     "name": "stdout",
     "output_type": "stream",
     "text": [
      "8352\n",
      "5846\n",
      "1670\n",
      "836\n"
     ]
    }
   ],
   "source": [
    "all_indexes = list(range(N_STEPS_PAST+HORIZON, stream.shape[0]))\n",
    "\n",
    "n = len(all_indexes)\n",
    "\n",
    "train_indexes = all_indexes[:int(n*0.7)]\n",
    "val_indexes = all_indexes[int(n*0.7):int(n*0.9)]\n",
    "test_indexes = all_indexes[int(n*0.9):]\n",
    "\n",
    "print(n)\n",
    "print(len(train_indexes))\n",
    "print(len(val_indexes))\n",
    "print(len(test_indexes))"
   ]
  },
  {
   "cell_type": "markdown",
   "id": "78b30a85-2d8b-44cd-80a3-45d122ef665c",
   "metadata": {
    "tags": []
   },
   "source": [
    "### Scaler"
   ]
  },
  {
   "cell_type": "code",
   "execution_count": 12,
   "id": "75681e20-2416-4905-90f8-dce955b86b73",
   "metadata": {},
   "outputs": [],
   "source": [
    "from sklearn.preprocessing import StandardScaler"
   ]
  },
  {
   "cell_type": "code",
   "execution_count": 13,
   "id": "64151ba9-b770-4353-bfee-34ef0faeb134",
   "metadata": {},
   "outputs": [
    {
     "data": {
      "text/html": [
       "<style>#sk-container-id-1 {color: black;background-color: white;}#sk-container-id-1 pre{padding: 0;}#sk-container-id-1 div.sk-toggleable {background-color: white;}#sk-container-id-1 label.sk-toggleable__label {cursor: pointer;display: block;width: 100%;margin-bottom: 0;padding: 0.3em;box-sizing: border-box;text-align: center;}#sk-container-id-1 label.sk-toggleable__label-arrow:before {content: \"▸\";float: left;margin-right: 0.25em;color: #696969;}#sk-container-id-1 label.sk-toggleable__label-arrow:hover:before {color: black;}#sk-container-id-1 div.sk-estimator:hover label.sk-toggleable__label-arrow:before {color: black;}#sk-container-id-1 div.sk-toggleable__content {max-height: 0;max-width: 0;overflow: hidden;text-align: left;background-color: #f0f8ff;}#sk-container-id-1 div.sk-toggleable__content pre {margin: 0.2em;color: black;border-radius: 0.25em;background-color: #f0f8ff;}#sk-container-id-1 input.sk-toggleable__control:checked~div.sk-toggleable__content {max-height: 200px;max-width: 100%;overflow: auto;}#sk-container-id-1 input.sk-toggleable__control:checked~label.sk-toggleable__label-arrow:before {content: \"▾\";}#sk-container-id-1 div.sk-estimator input.sk-toggleable__control:checked~label.sk-toggleable__label {background-color: #d4ebff;}#sk-container-id-1 div.sk-label input.sk-toggleable__control:checked~label.sk-toggleable__label {background-color: #d4ebff;}#sk-container-id-1 input.sk-hidden--visually {border: 0;clip: rect(1px 1px 1px 1px);clip: rect(1px, 1px, 1px, 1px);height: 1px;margin: -1px;overflow: hidden;padding: 0;position: absolute;width: 1px;}#sk-container-id-1 div.sk-estimator {font-family: monospace;background-color: #f0f8ff;border: 1px dotted black;border-radius: 0.25em;box-sizing: border-box;margin-bottom: 0.5em;}#sk-container-id-1 div.sk-estimator:hover {background-color: #d4ebff;}#sk-container-id-1 div.sk-parallel-item::after {content: \"\";width: 100%;border-bottom: 1px solid gray;flex-grow: 1;}#sk-container-id-1 div.sk-label:hover label.sk-toggleable__label {background-color: #d4ebff;}#sk-container-id-1 div.sk-serial::before {content: \"\";position: absolute;border-left: 1px solid gray;box-sizing: border-box;top: 0;bottom: 0;left: 50%;z-index: 0;}#sk-container-id-1 div.sk-serial {display: flex;flex-direction: column;align-items: center;background-color: white;padding-right: 0.2em;padding-left: 0.2em;position: relative;}#sk-container-id-1 div.sk-item {position: relative;z-index: 1;}#sk-container-id-1 div.sk-parallel {display: flex;align-items: stretch;justify-content: center;background-color: white;position: relative;}#sk-container-id-1 div.sk-item::before, #sk-container-id-1 div.sk-parallel-item::before {content: \"\";position: absolute;border-left: 1px solid gray;box-sizing: border-box;top: 0;bottom: 0;left: 50%;z-index: -1;}#sk-container-id-1 div.sk-parallel-item {display: flex;flex-direction: column;z-index: 1;position: relative;background-color: white;}#sk-container-id-1 div.sk-parallel-item:first-child::after {align-self: flex-end;width: 50%;}#sk-container-id-1 div.sk-parallel-item:last-child::after {align-self: flex-start;width: 50%;}#sk-container-id-1 div.sk-parallel-item:only-child::after {width: 0;}#sk-container-id-1 div.sk-dashed-wrapped {border: 1px dashed gray;margin: 0 0.4em 0.5em 0.4em;box-sizing: border-box;padding-bottom: 0.4em;background-color: white;}#sk-container-id-1 div.sk-label label {font-family: monospace;font-weight: bold;display: inline-block;line-height: 1.2em;}#sk-container-id-1 div.sk-label-container {text-align: center;}#sk-container-id-1 div.sk-container {/* jupyter's `normalize.less` sets `[hidden] { display: none; }` but bootstrap.min.css set `[hidden] { display: none !important; }` so we also need the `!important` here to be able to override the default hidden behavior on the sphinx rendered scikit-learn.org. See: https://github.com/scikit-learn/scikit-learn/issues/21755 */display: inline-block !important;position: relative;}#sk-container-id-1 div.sk-text-repr-fallback {display: none;}</style><div id=\"sk-container-id-1\" class=\"sk-top-container\"><div class=\"sk-text-repr-fallback\"><pre>StandardScaler()</pre><b>In a Jupyter environment, please rerun this cell to show the HTML representation or trust the notebook. <br />On GitHub, the HTML representation is unable to render, please try loading this page with nbviewer.org.</b></div><div class=\"sk-container\" hidden><div class=\"sk-item\"><div class=\"sk-estimator sk-toggleable\"><input class=\"sk-toggleable__control sk-hidden--visually\" id=\"sk-estimator-id-1\" type=\"checkbox\" checked><label for=\"sk-estimator-id-1\" class=\"sk-toggleable__label sk-toggleable__label-arrow\">StandardScaler</label><div class=\"sk-toggleable__content\"><pre>StandardScaler()</pre></div></div></div></div></div>"
      ],
      "text/plain": [
       "StandardScaler()"
      ]
     },
     "execution_count": 13,
     "metadata": {},
     "output_type": "execute_result"
    }
   ],
   "source": [
    "scaler = StandardScaler()\n",
    "\n",
    "train_ds = denoised_df[denoised_df['ts'] > time['ts'].values[train_indexes[-1]]]['intents'].values.reshape(-1, 1)\n",
    "\n",
    "scaler.fit(train_ds)"
   ]
  },
  {
   "cell_type": "markdown",
   "id": "a61f8846-6394-4c5f-8af5-d52ee1d99717",
   "metadata": {},
   "source": [
    "### Training Data"
   ]
  },
  {
   "cell_type": "code",
   "execution_count": 14,
   "id": "9fa8c603-24c1-44ae-8223-4670e1af185f",
   "metadata": {},
   "outputs": [],
   "source": [
    "from torch.utils.data import DataLoader\n",
    "\n",
    "from st_forecasting.utils.dataset import GeoFramesDataset"
   ]
  },
  {
   "cell_type": "code",
   "execution_count": 15,
   "id": "fc307b48-e94c-47da-a47c-e07ee1d9c683",
   "metadata": {},
   "outputs": [],
   "source": [
    "train_dataset = GeoFramesDataset(\n",
    "    x=denoised_stream,\n",
    "    indexes=train_indexes,\n",
    "    n_steps_past=N_STEPS_PAST,\n",
    "    horizon=HORIZON,\n",
    "    half=False,\n",
    "    scaler=scaler\n",
    ")\n",
    "\n",
    "train_loader = DataLoader(\n",
    "    train_dataset,\n",
    "    batch_size=BATCH_SIZE,\n",
    "    shuffle=True,\n",
    "    num_workers=CPUS\n",
    ")"
   ]
  },
  {
   "cell_type": "code",
   "execution_count": 16,
   "id": "eea843de-3a40-4a77-8d87-8e74de6b219a",
   "metadata": {},
   "outputs": [],
   "source": [
    "val_dataset = GeoFramesDataset(\n",
    "    x=denoised_stream,\n",
    "    indexes=val_indexes,\n",
    "    n_steps_past=N_STEPS_PAST,\n",
    "    horizon=HORIZON,\n",
    "    half=False,\n",
    "    scaler=scaler\n",
    ")\n",
    "\n",
    "val_loader = DataLoader(\n",
    "    val_dataset,\n",
    "    batch_size=BATCH_SIZE,\n",
    "    shuffle=False,\n",
    "    num_workers=CPUS\n",
    ")"
   ]
  },
  {
   "cell_type": "code",
   "execution_count": 17,
   "id": "22f653cb-ca61-4254-9e7b-5729f97ad971",
   "metadata": {},
   "outputs": [
    {
     "data": {
      "text/plain": [
       "torch.float32"
      ]
     },
     "execution_count": 17,
     "metadata": {},
     "output_type": "execute_result"
    }
   ],
   "source": [
    "train_loader.dataset[0][0].dtype"
   ]
  },
  {
   "cell_type": "markdown",
   "id": "6eb424f4-3a91-49fe-88de-97f72d76644d",
   "metadata": {},
   "source": [
    "### Training"
   ]
  },
  {
   "cell_type": "code",
   "execution_count": 18,
   "id": "d5cc63f2-c5d9-457b-b8b8-4169c27fa544",
   "metadata": {},
   "outputs": [],
   "source": [
    "from torch.optim.lr_scheduler import ReduceLROnPlateau\n",
    "from torch.optim import Adam\n",
    "\n",
    "from st_forecasting.custom_callbacks import progress_bar, MetricsCallback, checkpoint_callback\n",
    "from st_forecasting.model import (\n",
    "    ConvLSTMCell,\n",
    "    ResNetLSTMCell,\n",
    "    ConvLSTMNet,\n",
    "    ConvGRUNet,\n",
    "    ConvTTLSTMNet,\n",
    "    ModelWrapper\n",
    ")"
   ]
  },
  {
   "cell_type": "raw",
   "id": "154bcf93-cd3b-4751-adac-22cbf3d86bfa",
   "metadata": {},
   "source": [
    "backbone = EDConvGRU(\n",
    "    hidden_channels=4,\n",
    "    in_channels=1,\n",
    "    bias=False\n",
    ")"
   ]
  },
  {
   "cell_type": "raw",
   "id": "59a21282-7164-4f7e-bd29-7827eb95744d",
   "metadata": {},
   "source": [
    "backbone = EDConvLSTM(\n",
    "    hidden_channels=16,\n",
    "    in_channels=1,\n",
    "    cell=ConvLSTMCell,\n",
    "    bias=True\n",
    ")"
   ]
  },
  {
   "cell_type": "code",
   "execution_count": 20,
   "id": "4b577af5-306d-4416-b42b-002818eaf3e8",
   "metadata": {},
   "outputs": [],
   "source": [
    "backbone = ConvTTLSTMNet(\n",
    "    input_channels=1,\n",
    "    layers_per_block = (1, 1), \n",
    "    hidden_channels  = (8, 8),\n",
    "    cell_params={'order': 3, 'steps': 3, 'ranks': 8},\n",
    "    kernel_size=3,\n",
    "    bias=True,\n",
    "    teacher_forcing=False,\n",
    "    scheduled_sampling_ratio=0 # 1e-3\n",
    ")"
   ]
  },
  {
   "cell_type": "code",
   "execution_count": 21,
   "id": "f701a63e-961c-4796-9175-dee141836d28",
   "metadata": {},
   "outputs": [],
   "source": [
    "optimizer = Adam(backbone.parameters(), lr=3e-3, betas=(0.9, 0.999), eps=1e-08, weight_decay=0)\n",
    "scheduler = ReduceLROnPlateau(optimizer, factor=0.2, patience=3)\n",
    "\n",
    "pb = progress_bar()\n",
    "ck = checkpoint_callback()"
   ]
  },
  {
   "cell_type": "code",
   "execution_count": 22,
   "id": "5ed8e979-ab38-4110-a042-60bc75be9bf4",
   "metadata": {},
   "outputs": [
    {
     "name": "stdout",
     "output_type": "stream",
     "text": [
      "mse will be used instead of rmse as basic loss function\n",
      "mse will be used instead of rmse as masked loss function\n"
     ]
    }
   ],
   "source": [
    "model = ModelWrapper(\n",
    "    model=backbone,\n",
    "    optimizer=optimizer,\n",
    "    scheduler=scheduler,\n",
    "    horizon=HORIZON,\n",
    "    loss_fn_alias='rmse',\n",
    "    loss_type='semi_masked',\n",
    "    include_masked_metrics=True,\n",
    "    masked_weight=0.3 #  only for semi-masked loss\n",
    ")"
   ]
  },
  {
   "cell_type": "code",
   "execution_count": 23,
   "id": "242e7f07-f17e-4bf8-9838-abe36031d44e",
   "metadata": {},
   "outputs": [
    {
     "name": "stderr",
     "output_type": "stream",
     "text": [
      "GPU available: True (mps), used: True\n",
      "TPU available: False, using: 0 TPU cores\n",
      "IPU available: False, using: 0 IPUs\n",
      "HPU available: False, using: 0 HPUs\n"
     ]
    }
   ],
   "source": [
    "trainer = pl.Trainer(\n",
    "    default_root_dir='amman_convttlstm_logs',\n",
    "    min_epochs=30,\n",
    "    max_epochs=100,\n",
    "    num_sanity_val_steps=0,\n",
    "    log_every_n_steps=1,\n",
    "    callbacks=[pb, MetricsCallback(), ck]\n",
    ")"
   ]
  },
  {
   "cell_type": "code",
   "execution_count": 24,
   "id": "1ca67818-7969-4bce-a409-20f6c20f2fb5",
   "metadata": {
    "collapsed": true,
    "jupyter": {
     "outputs_hidden": true
    },
    "tags": []
   },
   "outputs": [
    {
     "name": "stderr",
     "output_type": "stream",
     "text": [
      "Missing logger folder: amman_convttlstm_logs/lightning_logs\n"
     ]
    },
    {
     "data": {
      "text/html": [
       "<pre style=\"white-space:pre;overflow-x:auto;line-height:normal;font-family:Menlo,'DejaVu Sans Mono',consolas,'Courier New',monospace\">┏━━━┳━━━━━━━┳━━━━━━━━━━━━━━━┳━━━━━━━━┓\n",
       "┃<span style=\"color: #800080; text-decoration-color: #800080; font-weight: bold\">   </span>┃<span style=\"color: #800080; text-decoration-color: #800080; font-weight: bold\"> Name  </span>┃<span style=\"color: #800080; text-decoration-color: #800080; font-weight: bold\"> Type          </span>┃<span style=\"color: #800080; text-decoration-color: #800080; font-weight: bold\"> Params </span>┃\n",
       "┡━━━╇━━━━━━━╇━━━━━━━━━━━━━━━╇━━━━━━━━┩\n",
       "│<span style=\"color: #7f7f7f; text-decoration-color: #7f7f7f\"> 0 </span>│ model │ ConvTTLSTMNet │ 13.1 K │\n",
       "└───┴───────┴───────────────┴────────┘\n",
       "</pre>\n"
      ],
      "text/plain": [
       "┏━━━┳━━━━━━━┳━━━━━━━━━━━━━━━┳━━━━━━━━┓\n",
       "┃\u001b[1;35m \u001b[0m\u001b[1;35m \u001b[0m\u001b[1;35m \u001b[0m┃\u001b[1;35m \u001b[0m\u001b[1;35mName \u001b[0m\u001b[1;35m \u001b[0m┃\u001b[1;35m \u001b[0m\u001b[1;35mType         \u001b[0m\u001b[1;35m \u001b[0m┃\u001b[1;35m \u001b[0m\u001b[1;35mParams\u001b[0m\u001b[1;35m \u001b[0m┃\n",
       "┡━━━╇━━━━━━━╇━━━━━━━━━━━━━━━╇━━━━━━━━┩\n",
       "│\u001b[2m \u001b[0m\u001b[2m0\u001b[0m\u001b[2m \u001b[0m│ model │ ConvTTLSTMNet │ 13.1 K │\n",
       "└───┴───────┴───────────────┴────────┘\n"
      ]
     },
     "metadata": {},
     "output_type": "display_data"
    },
    {
     "data": {
      "text/html": [
       "<pre style=\"white-space:pre;overflow-x:auto;line-height:normal;font-family:Menlo,'DejaVu Sans Mono',consolas,'Courier New',monospace\"><span style=\"font-weight: bold\">Trainable params</span>: 13.1 K                                                                                           \n",
       "<span style=\"font-weight: bold\">Non-trainable params</span>: 0                                                                                            \n",
       "<span style=\"font-weight: bold\">Total params</span>: 13.1 K                                                                                               \n",
       "<span style=\"font-weight: bold\">Total estimated model params size (MB)</span>: 0                                                                          \n",
       "</pre>\n"
      ],
      "text/plain": [
       "\u001b[1mTrainable params\u001b[0m: 13.1 K                                                                                           \n",
       "\u001b[1mNon-trainable params\u001b[0m: 0                                                                                            \n",
       "\u001b[1mTotal params\u001b[0m: 13.1 K                                                                                               \n",
       "\u001b[1mTotal estimated model params size (MB)\u001b[0m: 0                                                                          \n"
      ]
     },
     "metadata": {},
     "output_type": "display_data"
    },
    {
     "data": {
      "application/vnd.jupyter.widget-view+json": {
       "model_id": "8cc7ad811c45479e958247249c3ed205",
       "version_major": 2,
       "version_minor": 0
      },
      "text/plain": [
       "Output()"
      ]
     },
     "metadata": {},
     "output_type": "display_data"
    },
    {
     "data": {
      "text/html": [
       "<pre style=\"white-space:pre;overflow-x:auto;line-height:normal;font-family:Menlo,'DejaVu Sans Mono',consolas,'Courier New',monospace\"></pre>\n"
      ],
      "text/plain": []
     },
     "metadata": {},
     "output_type": "display_data"
    },
    {
     "data": {
      "text/html": [
       "<pre style=\"white-space:pre;overflow-x:auto;line-height:normal;font-family:Menlo,'DejaVu Sans Mono',consolas,'Courier New',monospace\">\n",
       "</pre>\n"
      ],
      "text/plain": [
       "\n"
      ]
     },
     "metadata": {},
     "output_type": "display_data"
    },
    {
     "data": {
      "application/vnd.jupyter.widget-view+json": {
       "model_id": "3f06cf0599da4409b4e7b5df153bdc76",
       "version_major": 2,
       "version_minor": 0
      },
      "text/plain": [
       "Output()"
      ]
     },
     "metadata": {},
     "output_type": "display_data"
    },
    {
     "data": {
      "text/html": [
       "<pre style=\"white-space:pre;overflow-x:auto;line-height:normal;font-family:Menlo,'DejaVu Sans Mono',consolas,'Courier New',monospace\"></pre>\n"
      ],
      "text/plain": []
     },
     "metadata": {},
     "output_type": "display_data"
    },
    {
     "data": {
      "text/html": [
       "<pre style=\"white-space:pre;overflow-x:auto;line-height:normal;font-family:Menlo,'DejaVu Sans Mono',consolas,'Courier New',monospace\">\n",
       "</pre>\n"
      ],
      "text/plain": [
       "\n"
      ]
     },
     "metadata": {},
     "output_type": "display_data"
    },
    {
     "data": {
      "application/vnd.jupyter.widget-view+json": {
       "model_id": "ecb56125d33b4b5fa19293575bf0023a",
       "version_major": 2,
       "version_minor": 0
      },
      "text/plain": [
       "Output()"
      ]
     },
     "metadata": {},
     "output_type": "display_data"
    },
    {
     "data": {
      "text/html": [
       "<pre style=\"white-space:pre;overflow-x:auto;line-height:normal;font-family:Menlo,'DejaVu Sans Mono',consolas,'Courier New',monospace\"></pre>\n"
      ],
      "text/plain": []
     },
     "metadata": {},
     "output_type": "display_data"
    },
    {
     "data": {
      "text/html": [
       "<pre style=\"white-space:pre;overflow-x:auto;line-height:normal;font-family:Menlo,'DejaVu Sans Mono',consolas,'Courier New',monospace\">\n",
       "</pre>\n"
      ],
      "text/plain": [
       "\n"
      ]
     },
     "metadata": {},
     "output_type": "display_data"
    },
    {
     "data": {
      "application/vnd.jupyter.widget-view+json": {
       "model_id": "72f19e3333744121ade5f855892a8fc6",
       "version_major": 2,
       "version_minor": 0
      },
      "text/plain": [
       "Output()"
      ]
     },
     "metadata": {},
     "output_type": "display_data"
    },
    {
     "data": {
      "text/html": [
       "<pre style=\"white-space:pre;overflow-x:auto;line-height:normal;font-family:Menlo,'DejaVu Sans Mono',consolas,'Courier New',monospace\"></pre>\n"
      ],
      "text/plain": []
     },
     "metadata": {},
     "output_type": "display_data"
    },
    {
     "data": {
      "text/html": [
       "<pre style=\"white-space:pre;overflow-x:auto;line-height:normal;font-family:Menlo,'DejaVu Sans Mono',consolas,'Courier New',monospace\">\n",
       "</pre>\n"
      ],
      "text/plain": [
       "\n"
      ]
     },
     "metadata": {},
     "output_type": "display_data"
    },
    {
     "data": {
      "application/vnd.jupyter.widget-view+json": {
       "model_id": "8486a57e7ed14478a91a845f3c49a340",
       "version_major": 2,
       "version_minor": 0
      },
      "text/plain": [
       "Output()"
      ]
     },
     "metadata": {},
     "output_type": "display_data"
    },
    {
     "data": {
      "text/html": [
       "<pre style=\"white-space:pre;overflow-x:auto;line-height:normal;font-family:Menlo,'DejaVu Sans Mono',consolas,'Courier New',monospace\"></pre>\n"
      ],
      "text/plain": []
     },
     "metadata": {},
     "output_type": "display_data"
    },
    {
     "data": {
      "text/html": [
       "<pre style=\"white-space:pre;overflow-x:auto;line-height:normal;font-family:Menlo,'DejaVu Sans Mono',consolas,'Courier New',monospace\">\n",
       "</pre>\n"
      ],
      "text/plain": [
       "\n"
      ]
     },
     "metadata": {},
     "output_type": "display_data"
    },
    {
     "data": {
      "application/vnd.jupyter.widget-view+json": {
       "model_id": "f88670d4a7fa47489a0fb7a583698b31",
       "version_major": 2,
       "version_minor": 0
      },
      "text/plain": [
       "Output()"
      ]
     },
     "metadata": {},
     "output_type": "display_data"
    },
    {
     "data": {
      "text/html": [
       "<pre style=\"white-space:pre;overflow-x:auto;line-height:normal;font-family:Menlo,'DejaVu Sans Mono',consolas,'Courier New',monospace\"></pre>\n"
      ],
      "text/plain": []
     },
     "metadata": {},
     "output_type": "display_data"
    },
    {
     "data": {
      "text/html": [
       "<pre style=\"white-space:pre;overflow-x:auto;line-height:normal;font-family:Menlo,'DejaVu Sans Mono',consolas,'Courier New',monospace\">\n",
       "</pre>\n"
      ],
      "text/plain": [
       "\n"
      ]
     },
     "metadata": {},
     "output_type": "display_data"
    },
    {
     "data": {
      "application/vnd.jupyter.widget-view+json": {
       "model_id": "a19b432a9e474496bc52442779446fc2",
       "version_major": 2,
       "version_minor": 0
      },
      "text/plain": [
       "Output()"
      ]
     },
     "metadata": {},
     "output_type": "display_data"
    },
    {
     "data": {
      "text/html": [
       "<pre style=\"white-space:pre;overflow-x:auto;line-height:normal;font-family:Menlo,'DejaVu Sans Mono',consolas,'Courier New',monospace\"></pre>\n"
      ],
      "text/plain": []
     },
     "metadata": {},
     "output_type": "display_data"
    },
    {
     "data": {
      "text/html": [
       "<pre style=\"white-space:pre;overflow-x:auto;line-height:normal;font-family:Menlo,'DejaVu Sans Mono',consolas,'Courier New',monospace\">\n",
       "</pre>\n"
      ],
      "text/plain": [
       "\n"
      ]
     },
     "metadata": {},
     "output_type": "display_data"
    },
    {
     "data": {
      "application/vnd.jupyter.widget-view+json": {
       "model_id": "eb14a069372941d6a6f5b2ef2b4b2c5e",
       "version_major": 2,
       "version_minor": 0
      },
      "text/plain": [
       "Output()"
      ]
     },
     "metadata": {},
     "output_type": "display_data"
    },
    {
     "data": {
      "text/html": [
       "<pre style=\"white-space:pre;overflow-x:auto;line-height:normal;font-family:Menlo,'DejaVu Sans Mono',consolas,'Courier New',monospace\"></pre>\n"
      ],
      "text/plain": []
     },
     "metadata": {},
     "output_type": "display_data"
    },
    {
     "data": {
      "text/html": [
       "<pre style=\"white-space:pre;overflow-x:auto;line-height:normal;font-family:Menlo,'DejaVu Sans Mono',consolas,'Courier New',monospace\">\n",
       "</pre>\n"
      ],
      "text/plain": [
       "\n"
      ]
     },
     "metadata": {},
     "output_type": "display_data"
    },
    {
     "data": {
      "application/vnd.jupyter.widget-view+json": {
       "model_id": "aaa82892920d42d2b9fbce30150d6d5e",
       "version_major": 2,
       "version_minor": 0
      },
      "text/plain": [
       "Output()"
      ]
     },
     "metadata": {},
     "output_type": "display_data"
    },
    {
     "data": {
      "text/html": [
       "<pre style=\"white-space:pre;overflow-x:auto;line-height:normal;font-family:Menlo,'DejaVu Sans Mono',consolas,'Courier New',monospace\"></pre>\n"
      ],
      "text/plain": []
     },
     "metadata": {},
     "output_type": "display_data"
    },
    {
     "data": {
      "text/html": [
       "<pre style=\"white-space:pre;overflow-x:auto;line-height:normal;font-family:Menlo,'DejaVu Sans Mono',consolas,'Courier New',monospace\">\n",
       "</pre>\n"
      ],
      "text/plain": [
       "\n"
      ]
     },
     "metadata": {},
     "output_type": "display_data"
    },
    {
     "data": {
      "application/vnd.jupyter.widget-view+json": {
       "model_id": "55f856c54d8e4a22ae3cf1d10e73afcd",
       "version_major": 2,
       "version_minor": 0
      },
      "text/plain": [
       "Output()"
      ]
     },
     "metadata": {},
     "output_type": "display_data"
    },
    {
     "data": {
      "text/html": [
       "<pre style=\"white-space:pre;overflow-x:auto;line-height:normal;font-family:Menlo,'DejaVu Sans Mono',consolas,'Courier New',monospace\"></pre>\n"
      ],
      "text/plain": []
     },
     "metadata": {},
     "output_type": "display_data"
    },
    {
     "data": {
      "text/html": [
       "<pre style=\"white-space:pre;overflow-x:auto;line-height:normal;font-family:Menlo,'DejaVu Sans Mono',consolas,'Courier New',monospace\">\n",
       "</pre>\n"
      ],
      "text/plain": [
       "\n"
      ]
     },
     "metadata": {},
     "output_type": "display_data"
    },
    {
     "data": {
      "application/vnd.jupyter.widget-view+json": {
       "model_id": "7f976c172de4457b837bc1f79b23c15f",
       "version_major": 2,
       "version_minor": 0
      },
      "text/plain": [
       "Output()"
      ]
     },
     "metadata": {},
     "output_type": "display_data"
    },
    {
     "data": {
      "text/html": [
       "<pre style=\"white-space:pre;overflow-x:auto;line-height:normal;font-family:Menlo,'DejaVu Sans Mono',consolas,'Courier New',monospace\"></pre>\n"
      ],
      "text/plain": []
     },
     "metadata": {},
     "output_type": "display_data"
    },
    {
     "data": {
      "text/html": [
       "<pre style=\"white-space:pre;overflow-x:auto;line-height:normal;font-family:Menlo,'DejaVu Sans Mono',consolas,'Courier New',monospace\">\n",
       "</pre>\n"
      ],
      "text/plain": [
       "\n"
      ]
     },
     "metadata": {},
     "output_type": "display_data"
    },
    {
     "data": {
      "application/vnd.jupyter.widget-view+json": {
       "model_id": "bf448e0f77a8463e82d1d6051c30a028",
       "version_major": 2,
       "version_minor": 0
      },
      "text/plain": [
       "Output()"
      ]
     },
     "metadata": {},
     "output_type": "display_data"
    },
    {
     "data": {
      "text/html": [
       "<pre style=\"white-space:pre;overflow-x:auto;line-height:normal;font-family:Menlo,'DejaVu Sans Mono',consolas,'Courier New',monospace\"></pre>\n"
      ],
      "text/plain": []
     },
     "metadata": {},
     "output_type": "display_data"
    },
    {
     "data": {
      "text/html": [
       "<pre style=\"white-space:pre;overflow-x:auto;line-height:normal;font-family:Menlo,'DejaVu Sans Mono',consolas,'Courier New',monospace\">\n",
       "</pre>\n"
      ],
      "text/plain": [
       "\n"
      ]
     },
     "metadata": {},
     "output_type": "display_data"
    },
    {
     "data": {
      "application/vnd.jupyter.widget-view+json": {
       "model_id": "2302a3665d7f462e910b25f67d0ab860",
       "version_major": 2,
       "version_minor": 0
      },
      "text/plain": [
       "Output()"
      ]
     },
     "metadata": {},
     "output_type": "display_data"
    },
    {
     "data": {
      "text/html": [
       "<pre style=\"white-space:pre;overflow-x:auto;line-height:normal;font-family:Menlo,'DejaVu Sans Mono',consolas,'Courier New',monospace\"></pre>\n"
      ],
      "text/plain": []
     },
     "metadata": {},
     "output_type": "display_data"
    },
    {
     "data": {
      "text/html": [
       "<pre style=\"white-space:pre;overflow-x:auto;line-height:normal;font-family:Menlo,'DejaVu Sans Mono',consolas,'Courier New',monospace\">\n",
       "</pre>\n"
      ],
      "text/plain": [
       "\n"
      ]
     },
     "metadata": {},
     "output_type": "display_data"
    },
    {
     "data": {
      "application/vnd.jupyter.widget-view+json": {
       "model_id": "6f9a44aecfd241b39ef4d82ef132d97c",
       "version_major": 2,
       "version_minor": 0
      },
      "text/plain": [
       "Output()"
      ]
     },
     "metadata": {},
     "output_type": "display_data"
    },
    {
     "data": {
      "text/html": [
       "<pre style=\"white-space:pre;overflow-x:auto;line-height:normal;font-family:Menlo,'DejaVu Sans Mono',consolas,'Courier New',monospace\"></pre>\n"
      ],
      "text/plain": []
     },
     "metadata": {},
     "output_type": "display_data"
    },
    {
     "data": {
      "text/html": [
       "<pre style=\"white-space:pre;overflow-x:auto;line-height:normal;font-family:Menlo,'DejaVu Sans Mono',consolas,'Courier New',monospace\">\n",
       "</pre>\n"
      ],
      "text/plain": [
       "\n"
      ]
     },
     "metadata": {},
     "output_type": "display_data"
    },
    {
     "data": {
      "application/vnd.jupyter.widget-view+json": {
       "model_id": "b39002f92dfc472fab36737ddee86f72",
       "version_major": 2,
       "version_minor": 0
      },
      "text/plain": [
       "Output()"
      ]
     },
     "metadata": {},
     "output_type": "display_data"
    },
    {
     "data": {
      "text/html": [
       "<pre style=\"white-space:pre;overflow-x:auto;line-height:normal;font-family:Menlo,'DejaVu Sans Mono',consolas,'Courier New',monospace\"></pre>\n"
      ],
      "text/plain": []
     },
     "metadata": {},
     "output_type": "display_data"
    },
    {
     "data": {
      "text/html": [
       "<pre style=\"white-space:pre;overflow-x:auto;line-height:normal;font-family:Menlo,'DejaVu Sans Mono',consolas,'Courier New',monospace\">\n",
       "</pre>\n"
      ],
      "text/plain": [
       "\n"
      ]
     },
     "metadata": {},
     "output_type": "display_data"
    },
    {
     "data": {
      "application/vnd.jupyter.widget-view+json": {
       "model_id": "b73ff435031846cfb3c8f73ac6566691",
       "version_major": 2,
       "version_minor": 0
      },
      "text/plain": [
       "Output()"
      ]
     },
     "metadata": {},
     "output_type": "display_data"
    },
    {
     "data": {
      "text/html": [
       "<pre style=\"white-space:pre;overflow-x:auto;line-height:normal;font-family:Menlo,'DejaVu Sans Mono',consolas,'Courier New',monospace\"></pre>\n"
      ],
      "text/plain": []
     },
     "metadata": {},
     "output_type": "display_data"
    },
    {
     "data": {
      "text/html": [
       "<pre style=\"white-space:pre;overflow-x:auto;line-height:normal;font-family:Menlo,'DejaVu Sans Mono',consolas,'Courier New',monospace\">\n",
       "</pre>\n"
      ],
      "text/plain": [
       "\n"
      ]
     },
     "metadata": {},
     "output_type": "display_data"
    },
    {
     "data": {
      "application/vnd.jupyter.widget-view+json": {
       "model_id": "83504cd785e5404caeb9a74f3191aa5e",
       "version_major": 2,
       "version_minor": 0
      },
      "text/plain": [
       "Output()"
      ]
     },
     "metadata": {},
     "output_type": "display_data"
    },
    {
     "data": {
      "text/html": [
       "<pre style=\"white-space:pre;overflow-x:auto;line-height:normal;font-family:Menlo,'DejaVu Sans Mono',consolas,'Courier New',monospace\"></pre>\n"
      ],
      "text/plain": []
     },
     "metadata": {},
     "output_type": "display_data"
    },
    {
     "data": {
      "text/html": [
       "<pre style=\"white-space:pre;overflow-x:auto;line-height:normal;font-family:Menlo,'DejaVu Sans Mono',consolas,'Courier New',monospace\">\n",
       "</pre>\n"
      ],
      "text/plain": [
       "\n"
      ]
     },
     "metadata": {},
     "output_type": "display_data"
    }
   ],
   "source": [
    "trainer.fit(\n",
    "    model,\n",
    "    train_loader,\n",
    "    val_loader,\n",
    "    # ckpt_path=''\n",
    ")"
   ]
  },
  {
   "cell_type": "markdown",
   "id": "2ec3989b-4c21-43c9-8f48-05c106cfc274",
   "metadata": {},
   "source": [
    "### Testing"
   ]
  },
  {
   "cell_type": "code",
   "execution_count": 25,
   "id": "ce5ee9eb-4da1-47e4-9b99-00e0012174c2",
   "metadata": {},
   "outputs": [],
   "source": [
    "test_dataset = GeoFramesDataset(\n",
    "    x=denoised_stream,\n",
    "    indexes=test_indexes,\n",
    "    n_steps_past=N_STEPS_PAST,\n",
    "    horizon=HORIZON,\n",
    "    train=False,\n",
    "    half=False,\n",
    "    scaler=scaler\n",
    ")\n",
    "\n",
    "test_loader = DataLoader(test_dataset, batch_size=BATCH_SIZE, shuffle=False, num_workers=4)"
   ]
  },
  {
   "cell_type": "code",
   "execution_count": 26,
   "id": "93bb31dc-2e30-4376-9583-a05b926f3cd3",
   "metadata": {},
   "outputs": [
    {
     "name": "stderr",
     "output_type": "stream",
     "text": [
      "Restoring states from the checkpoint path at amman_convttlstm_logs/lightning_logs/version_0/checkpoints/epoch=8-step=828.ckpt\n",
      "Loaded model weights from the checkpoint at amman_convttlstm_logs/lightning_logs/version_0/checkpoints/epoch=8-step=828.ckpt\n"
     ]
    },
    {
     "data": {
      "application/vnd.jupyter.widget-view+json": {
       "model_id": "c8d75c3f81d34c8e8493b5eb744029a8",
       "version_major": 2,
       "version_minor": 0
      },
      "text/plain": [
       "Output()"
      ]
     },
     "metadata": {},
     "output_type": "display_data"
    },
    {
     "data": {
      "text/html": [
       "<pre style=\"white-space:pre;overflow-x:auto;line-height:normal;font-family:Menlo,'DejaVu Sans Mono',consolas,'Courier New',monospace\"></pre>\n"
      ],
      "text/plain": []
     },
     "metadata": {},
     "output_type": "display_data"
    },
    {
     "data": {
      "text/html": [
       "<pre style=\"white-space:pre;overflow-x:auto;line-height:normal;font-family:Menlo,'DejaVu Sans Mono',consolas,'Courier New',monospace\">\n",
       "</pre>\n"
      ],
      "text/plain": [
       "\n"
      ]
     },
     "metadata": {},
     "output_type": "display_data"
    }
   ],
   "source": [
    "preds = trainer.predict(model, test_loader, return_predictions=True, ckpt_path='best')"
   ]
  },
  {
   "cell_type": "code",
   "execution_count": 27,
   "id": "7c92bef8-f65e-424c-9849-fd2a860e4f92",
   "metadata": {},
   "outputs": [],
   "source": [
    "np_preds = np.squeeze(np.concatenate([x.numpy() for x in preds]))"
   ]
  },
  {
   "cell_type": "code",
   "execution_count": 28,
   "id": "067462dc-ab01-4e83-bbfc-c423c954738d",
   "metadata": {},
   "outputs": [
    {
     "data": {
      "text/plain": [
       "array([0.        , 0.        , 0.        , 0.1796608 , 2.399242  ,\n",
       "       1.6261603 , 1.0740548 , 4.2696953 , 1.2809063 , 0.        ,\n",
       "       0.51010025, 0.        , 0.        , 0.        , 0.        ,\n",
       "       0.        , 0.        , 0.        ], dtype=float32)"
      ]
     },
     "execution_count": 28,
     "metadata": {},
     "output_type": "execute_result"
    }
   ],
   "source": [
    "np_preds[0][3][9]"
   ]
  },
  {
   "cell_type": "markdown",
   "id": "004238be-4c15-4799-8a14-5bbab1f7ecf3",
   "metadata": {},
   "source": [
    "### Analysis"
   ]
  },
  {
   "cell_type": "code",
   "execution_count": 29,
   "id": "951cc59c-b9fe-4c92-9534-99df67653845",
   "metadata": {},
   "outputs": [],
   "source": [
    "def draw_series(data, denoised, preds, timesteps, ids, sample_i, sid): \n",
    "    y_hat = preds[sample_i]\n",
    "    tss = timesteps[sample_i:sample_i+N_STEPS_PAST+HORIZON]\n",
    "    \n",
    "    sub_df = data[(data.square_id == sid) & (data['ts'].isin(tss))]\n",
    "    sub_df['type'] = 'true'\n",
    "    \n",
    "    d_sub_df = denoised[(denoised.square_id == sid) & (denoised['ts'].isin(tss))]\n",
    "    d_sub_df['type'] = 'denoised'\n",
    "    \n",
    "    df_list = []\n",
    "\n",
    "    for i, ts in enumerate(timesteps[sample_i+N_STEPS_PAST:sample_i+N_STEPS_PAST+HORIZON]):\n",
    "        sub = pd.DataFrame({'square_id': ids.flatten(), 'intents': y_hat[i].flatten()})\n",
    "        sub['ts'] = ts\n",
    "        df_list.append(sub)\n",
    "\n",
    "    pred_df = pd.concat(df_list, ignore_index=True)\n",
    "    pred_df = pred_df[pred_df.square_id == sid]\n",
    "    pred_df['type'] = 'pred'\n",
    "    \n",
    "    df = pd.concat([\n",
    "        sub_df.iloc[-(HORIZON+24*4):], \n",
    "        d_sub_df.iloc[-(HORIZON+24*4):], \n",
    "        pred_df.iloc[-(HORIZON+24*4):]  \n",
    "    ]) \n",
    "    \n",
    "    df['ts'] = df['ts'].astype(str)\n",
    "    \n",
    "    plt.figure(figsize=(20, 6))\n",
    "    sns.lineplot(df, x='ts', y='intents', hue='type')\n",
    "    plt.xticks(fontsize=4, rotation=90)\n",
    "    plt.title(f'Timeline for square {sid}')"
   ]
  },
  {
   "cell_type": "code",
   "execution_count": 30,
   "id": "10e2c5da-910a-4c84-8542-080f0b0181df",
   "metadata": {},
   "outputs": [],
   "source": [
    "tt = time['ts'].values[test_indexes[0]-HORIZON:]\n",
    "test_data = data[data['ts'] >= tt[0]].copy()\n",
    "test_den_data = denoised_df[denoised_df['ts'] >= tt[0]].copy()"
   ]
  },
  {
   "cell_type": "code",
   "execution_count": 34,
   "id": "e2e53a18-514f-48df-9205-fc8b11658edc",
   "metadata": {},
   "outputs": [
    {
     "data": {
      "image/png": "[encoded data removed]",
      "text/plain": [
       "<Figure size 2000x600 with 1 Axes>"
      ]
     },
     "metadata": {},
     "output_type": "display_data"
    }
   ],
   "source": [
    "draw_series(test_data, test_den_data, np_preds, tt, ids, 2, 103)"
   ]
  },
  {
   "cell_type": "markdown",
   "id": "e0c27cf1-3df0-4261-a56e-150ff3d6bb5b",
   "metadata": {},
   "source": [
    "##### Aggregated"
   ]
  },
  {
   "cell_type": "code",
   "execution_count": 32,
   "id": "798eb80b-2ed7-4a37-9d7e-37296d6049a0",
   "metadata": {},
   "outputs": [],
   "source": [
    "INDEX = 0\n",
    "\n",
    "f = np_preds[INDEX]\n",
    "f = np.array([np.round(x).sum() for x in f])\n",
    "\n",
    "start_tt = time['ts'].values[test_indexes[INDEX]+INDEX+N_STEPS_PAST:test_indexes[INDEX]+INDEX+N_STEPS_PAST+HORIZON]\n",
    "\n",
    "data_agg = data[data['ts'].isin(start_tt)].copy()\n",
    "data_agg = data_agg[['ts', 'intents']].groupby('ts', as_index=False).sum()\n",
    "data_agg['type'] = 'true'\n",
    "\n",
    "ddata_agg = denoised_df[denoised_df['ts'].isin(start_tt)].copy()\n",
    "ddata_agg = ddata_agg[['ts', 'intents']].groupby('ts', as_index=False).sum()\n",
    "ddata_agg['type'] = 'denoised'\n",
    "\n",
    "preds_agg = pd.DataFrame({'ts': start_tt, 'intents': f})\n",
    "preds_agg['type'] = 'pred'\n",
    "\n",
    "agg = pd.concat([data_agg, ddata_agg, preds_agg], ignore_index=True)"
   ]
  },
  {
   "cell_type": "code",
   "execution_count": 33,
   "id": "35d7a5ec-62ed-4653-84e0-7b652e203bb2",
   "metadata": {},
   "outputs": [
    {
     "data": {
      "image/png": "[encoded data removed]",
      "text/plain": [
       "<Figure size 2000x600 with 1 Axes>"
      ]
     },
     "metadata": {},
     "output_type": "display_data"
    }
   ],
   "source": [
    "plt.figure(figsize=(20, 6))\n",
    "sns.lineplot(agg, x='ts', y='intents', hue='type')\n",
    "plt.xticks(fontsize=4, rotation=90)\n",
    "plt.show()"
   ]
  },
  {
   "cell_type": "code",
   "execution_count": 35,
   "id": "87c137cb-21dc-4563-a380-b2404ef21801",
   "metadata": {},
   "outputs": [],
   "source": [
    "from typing import Iterable"
   ]
  },
  {
   "cell_type": "code",
   "execution_count": 37,
   "id": "47b87756-ba18-480f-9272-32baf078ffd3",
   "metadata": {},
   "outputs": [],
   "source": [
    "a = set([1, 2, 3])"
   ]
  },
  {
   "cell_type": "code",
   "execution_count": 38,
   "id": "5c7f4ce0-a887-4cde-840f-d2a028f3909b",
   "metadata": {},
   "outputs": [
    {
     "data": {
      "text/plain": [
       "True"
      ]
     },
     "execution_count": 38,
     "metadata": {},
     "output_type": "execute_result"
    }
   ],
   "source": [
    "isinstance(a, Iterable)"
   ]
  },
  {
   "cell_type": "code",
   "execution_count": 39,
   "id": "66f831a0-c3dd-4d1e-93ba-194e2a3d85ae",
   "metadata": {},
   "outputs": [],
   "source": [
    "a = (1)"
   ]
  },
  {
   "cell_type": "code",
   "execution_count": 41,
   "id": "d83f47fc-9ce8-4da1-9734-60119a34fde8",
   "metadata": {},
   "outputs": [
    {
     "data": {
      "text/plain": [
       "int"
      ]
     },
     "execution_count": 41,
     "metadata": {},
     "output_type": "execute_result"
    }
   ],
   "source": [
    "type(a)"
   ]
  },
  {
   "cell_type": "code",
   "execution_count": null,
   "id": "d3cbdabf-20cb-4837-8c8f-929bea7a54df",
   "metadata": {},
   "outputs": [],
   "source": []
  }
 ],
 "metadata": {
  "kernelspec": {
   "display_name": "Python 3 (ipykernel)",
   "language": "python",
   "name": "python3"
  },
  "language_info": {
   "codemirror_mode": {
    "name": "ipython",
    "version": 3
   },
   "file_extension": ".py",
   "mimetype": "text/x-python",
   "name": "python",
   "nbconvert_exporter": "python",
   "pygments_lexer": "ipython3",
   "version": "3.10.9"
  }
 },
 "nbformat": 4,
 "nbformat_minor": 5
}
