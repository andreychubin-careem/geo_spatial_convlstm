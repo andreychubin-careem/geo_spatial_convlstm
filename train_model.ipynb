{
 "cells": [
  {
   "cell_type": "markdown",
   "id": "b9e53237-67b9-4fc5-ab08-0050c7527a49",
   "metadata": {
    "tags": []
   },
   "source": [
    "#### TODO:\n",
    "- pct change instead of real values\n",
    "- decomposition\n",
    "- features"
   ]
  },
  {
   "cell_type": "code",
   "execution_count": 1,
   "id": "29809555-eb64-4bf9-8a73-88e9950d9d11",
   "metadata": {},
   "outputs": [],
   "source": [
    "import os\n",
    "import warnings\n",
    "import multiprocessing\n",
    "\n",
    "import torch\n",
    "import numpy as np\n",
    "import pandas as pd\n",
    "import lightning as pl\n",
    "import matplotlib.pyplot as plt\n",
    "import seaborn as sns\n",
    "\n",
    "from tqdm import tqdm"
   ]
  },
  {
   "cell_type": "code",
   "execution_count": 2,
   "id": "92d88f2a-3bc2-4e72-8efb-ecf4c1a26b51",
   "metadata": {},
   "outputs": [
    {
     "data": {
      "text/plain": [
       "'2.0.1'"
      ]
     },
     "execution_count": 2,
     "metadata": {},
     "output_type": "execute_result"
    }
   ],
   "source": [
    "torch.__version__"
   ]
  },
  {
   "cell_type": "code",
   "execution_count": 3,
   "id": "a4022d1d-54c7-4bc1-900a-5d40013464bf",
   "metadata": {},
   "outputs": [],
   "source": [
    "warnings.filterwarnings('ignore')"
   ]
  },
  {
   "cell_type": "code",
   "execution_count": 4,
   "id": "45235264-db04-4762-a70c-fcf4a400c79c",
   "metadata": {},
   "outputs": [],
   "source": [
    "CPUS = (multiprocessing.cpu_count()//2) - 1\n",
    "BATCH_SIZE = 64\n",
    "N_STEPS_PAST = 7*24\n",
    "HORIZON = 1*24"
   ]
  },
  {
   "cell_type": "code",
   "execution_count": 5,
   "id": "1d7a16b6-c61b-445f-b76c-6c7b3fd7a52b",
   "metadata": {},
   "outputs": [
    {
     "name": "stdout",
     "output_type": "stream",
     "text": [
      "4\n"
     ]
    }
   ],
   "source": [
    "print(CPUS)"
   ]
  },
  {
   "cell_type": "markdown",
   "id": "4e96b19e-a09e-4e42-b657-f3c63ee129ac",
   "metadata": {},
   "source": [
    "### Preparing Data"
   ]
  },
  {
   "cell_type": "code",
   "execution_count": 6,
   "id": "d79cf5ba-6ac3-4468-bed2-2ce3e2f78ddf",
   "metadata": {},
   "outputs": [],
   "source": [
    "from st_forecasting.utils.functions import to_df, to_stream, denoise_by_square"
   ]
  },
  {
   "cell_type": "code",
   "execution_count": 7,
   "id": "ae182755-dab4-4703-a572-0ac091c1f0d4",
   "metadata": {},
   "outputs": [],
   "source": [
    "data = pd.read_parquet('data/amman_data.pq').sort_values(['square_id', 'ts'])\n",
    "pd_squares = pd.read_parquet('data/amman_squares.pq').assign(key=1)\n",
    "ids = np.load('data/amman_squares.npy')"
   ]
  },
  {
   "cell_type": "code",
   "execution_count": 8,
   "id": "e13e4e96-9550-466c-8f0c-0e4688c9698e",
   "metadata": {},
   "outputs": [],
   "source": [
    "time = pd.DataFrame({'ts': pd.date_range(start=data['ts'].min(), end=data['ts'].max(), freq='1H')}).assign(key=1)\n",
    "time['ts'] = time['ts'].astype(str)\n",
    "time_squares = pd_squares.merge(time, on='key', how='outer').drop('key', axis=1).sort_values(['ts', 'square_id'])\n",
    "data = time_squares.merge(data, on=['square_id', 'ts'], how='left')\n",
    "data['intents'] = data['intents'].fillna(0)"
   ]
  },
  {
   "cell_type": "raw",
   "id": "883a0e5c-f63c-4609-b9be-e14480857a77",
   "metadata": {},
   "source": [
    "sns.lineplot(data[data.square_id == 207].sort_values('ts').iloc[-100:].intents.values)"
   ]
  },
  {
   "cell_type": "raw",
   "id": "abe999e8-d268-4b96-8971-439572c0ffa5",
   "metadata": {},
   "source": [
    "sns.lineplot(\n",
    "    signal.savgol_filter(\n",
    "        data[data.square_id == 207].sort_values('ts').iloc[-100:].intents.values, window_length=4, polyorder=1\n",
    "    )\n",
    ")"
   ]
  },
  {
   "cell_type": "code",
   "execution_count": 9,
   "id": "e2137af7-35a6-42a2-a53e-aaca58609700",
   "metadata": {},
   "outputs": [
    {
     "name": "stderr",
     "output_type": "stream",
     "text": [
      "Denoising...: 100%|██████████████████████████| 324/324 [00:00<00:00, 384.32it/s]\n"
     ]
    }
   ],
   "source": [
    "denoised_df = denoise_by_square(data)"
   ]
  },
  {
   "cell_type": "code",
   "execution_count": 10,
   "id": "26e58480-6e7d-4e67-94f3-b3fc9ad668ba",
   "metadata": {},
   "outputs": [
    {
     "name": "stderr",
     "output_type": "stream",
     "text": [
      "Converting to stream...: 100%|████████████| 5328/5328 [00:05<00:00, 1051.37it/s]\n",
      "Converting to stream...: 100%|████████████| 5328/5328 [00:04<00:00, 1122.40it/s]\n"
     ]
    }
   ],
   "source": [
    "stream = to_stream(data, pd_squares)\n",
    "denoised_stream = to_stream(denoised_df, pd_squares)"
   ]
  },
  {
   "cell_type": "markdown",
   "id": "15b36c0a-d331-465a-8acf-edb9006c0c71",
   "metadata": {},
   "source": [
    "### Splitting Data"
   ]
  },
  {
   "cell_type": "code",
   "execution_count": 11,
   "id": "d0f36cc1-4e23-4803-bb64-ea196fa4573e",
   "metadata": {},
   "outputs": [
    {
     "name": "stdout",
     "output_type": "stream",
     "text": [
      "5136\n",
      " \n",
      "3595\n",
      "1027\n",
      "514\n"
     ]
    }
   ],
   "source": [
    "all_indexes = list(range(N_STEPS_PAST+HORIZON, stream.shape[0]))\n",
    "\n",
    "n = len(all_indexes)\n",
    "\n",
    "train_indexes = all_indexes[:int(n*0.7)]\n",
    "val_indexes = all_indexes[int(n*0.7):int(n*0.9)]\n",
    "test_indexes = all_indexes[int(n*0.9):]\n",
    "\n",
    "print(n)\n",
    "print(' ')\n",
    "print(len(train_indexes))\n",
    "print(len(val_indexes))\n",
    "print(len(test_indexes))"
   ]
  },
  {
   "cell_type": "markdown",
   "id": "78b30a85-2d8b-44cd-80a3-45d122ef665c",
   "metadata": {
    "tags": []
   },
   "source": [
    "### Scaler"
   ]
  },
  {
   "cell_type": "code",
   "execution_count": 12,
   "id": "75681e20-2416-4905-90f8-dce955b86b73",
   "metadata": {},
   "outputs": [],
   "source": [
    "from sklearn.preprocessing import StandardScaler"
   ]
  },
  {
   "cell_type": "code",
   "execution_count": 13,
   "id": "64151ba9-b770-4353-bfee-34ef0faeb134",
   "metadata": {},
   "outputs": [
    {
     "data": {
      "text/html": [
       "<style>#sk-container-id-1 {color: black;background-color: white;}#sk-container-id-1 pre{padding: 0;}#sk-container-id-1 div.sk-toggleable {background-color: white;}#sk-container-id-1 label.sk-toggleable__label {cursor: pointer;display: block;width: 100%;margin-bottom: 0;padding: 0.3em;box-sizing: border-box;text-align: center;}#sk-container-id-1 label.sk-toggleable__label-arrow:before {content: \"▸\";float: left;margin-right: 0.25em;color: #696969;}#sk-container-id-1 label.sk-toggleable__label-arrow:hover:before {color: black;}#sk-container-id-1 div.sk-estimator:hover label.sk-toggleable__label-arrow:before {color: black;}#sk-container-id-1 div.sk-toggleable__content {max-height: 0;max-width: 0;overflow: hidden;text-align: left;background-color: #f0f8ff;}#sk-container-id-1 div.sk-toggleable__content pre {margin: 0.2em;color: black;border-radius: 0.25em;background-color: #f0f8ff;}#sk-container-id-1 input.sk-toggleable__control:checked~div.sk-toggleable__content {max-height: 200px;max-width: 100%;overflow: auto;}#sk-container-id-1 input.sk-toggleable__control:checked~label.sk-toggleable__label-arrow:before {content: \"▾\";}#sk-container-id-1 div.sk-estimator input.sk-toggleable__control:checked~label.sk-toggleable__label {background-color: #d4ebff;}#sk-container-id-1 div.sk-label input.sk-toggleable__control:checked~label.sk-toggleable__label {background-color: #d4ebff;}#sk-container-id-1 input.sk-hidden--visually {border: 0;clip: rect(1px 1px 1px 1px);clip: rect(1px, 1px, 1px, 1px);height: 1px;margin: -1px;overflow: hidden;padding: 0;position: absolute;width: 1px;}#sk-container-id-1 div.sk-estimator {font-family: monospace;background-color: #f0f8ff;border: 1px dotted black;border-radius: 0.25em;box-sizing: border-box;margin-bottom: 0.5em;}#sk-container-id-1 div.sk-estimator:hover {background-color: #d4ebff;}#sk-container-id-1 div.sk-parallel-item::after {content: \"\";width: 100%;border-bottom: 1px solid gray;flex-grow: 1;}#sk-container-id-1 div.sk-label:hover label.sk-toggleable__label {background-color: #d4ebff;}#sk-container-id-1 div.sk-serial::before {content: \"\";position: absolute;border-left: 1px solid gray;box-sizing: border-box;top: 0;bottom: 0;left: 50%;z-index: 0;}#sk-container-id-1 div.sk-serial {display: flex;flex-direction: column;align-items: center;background-color: white;padding-right: 0.2em;padding-left: 0.2em;position: relative;}#sk-container-id-1 div.sk-item {position: relative;z-index: 1;}#sk-container-id-1 div.sk-parallel {display: flex;align-items: stretch;justify-content: center;background-color: white;position: relative;}#sk-container-id-1 div.sk-item::before, #sk-container-id-1 div.sk-parallel-item::before {content: \"\";position: absolute;border-left: 1px solid gray;box-sizing: border-box;top: 0;bottom: 0;left: 50%;z-index: -1;}#sk-container-id-1 div.sk-parallel-item {display: flex;flex-direction: column;z-index: 1;position: relative;background-color: white;}#sk-container-id-1 div.sk-parallel-item:first-child::after {align-self: flex-end;width: 50%;}#sk-container-id-1 div.sk-parallel-item:last-child::after {align-self: flex-start;width: 50%;}#sk-container-id-1 div.sk-parallel-item:only-child::after {width: 0;}#sk-container-id-1 div.sk-dashed-wrapped {border: 1px dashed gray;margin: 0 0.4em 0.5em 0.4em;box-sizing: border-box;padding-bottom: 0.4em;background-color: white;}#sk-container-id-1 div.sk-label label {font-family: monospace;font-weight: bold;display: inline-block;line-height: 1.2em;}#sk-container-id-1 div.sk-label-container {text-align: center;}#sk-container-id-1 div.sk-container {/* jupyter's `normalize.less` sets `[hidden] { display: none; }` but bootstrap.min.css set `[hidden] { display: none !important; }` so we also need the `!important` here to be able to override the default hidden behavior on the sphinx rendered scikit-learn.org. See: https://github.com/scikit-learn/scikit-learn/issues/21755 */display: inline-block !important;position: relative;}#sk-container-id-1 div.sk-text-repr-fallback {display: none;}</style><div id=\"sk-container-id-1\" class=\"sk-top-container\"><div class=\"sk-text-repr-fallback\"><pre>StandardScaler()</pre><b>In a Jupyter environment, please rerun this cell to show the HTML representation or trust the notebook. <br />On GitHub, the HTML representation is unable to render, please try loading this page with nbviewer.org.</b></div><div class=\"sk-container\" hidden><div class=\"sk-item\"><div class=\"sk-estimator sk-toggleable\"><input class=\"sk-toggleable__control sk-hidden--visually\" id=\"sk-estimator-id-1\" type=\"checkbox\" checked><label for=\"sk-estimator-id-1\" class=\"sk-toggleable__label sk-toggleable__label-arrow\">StandardScaler</label><div class=\"sk-toggleable__content\"><pre>StandardScaler()</pre></div></div></div></div></div>"
      ],
      "text/plain": [
       "StandardScaler()"
      ]
     },
     "execution_count": 13,
     "metadata": {},
     "output_type": "execute_result"
    }
   ],
   "source": [
    "scaler = StandardScaler()\n",
    "\n",
    "train_ds = denoised_df[denoised_df['ts'] > time['ts'].values[train_indexes[-1]]]['intents'].values.reshape(-1, 1)\n",
    "\n",
    "scaler.fit(train_ds)"
   ]
  },
  {
   "cell_type": "markdown",
   "id": "a61f8846-6394-4c5f-8af5-d52ee1d99717",
   "metadata": {},
   "source": [
    "### Training Data"
   ]
  },
  {
   "cell_type": "code",
   "execution_count": 18,
   "id": "9fa8c603-24c1-44ae-8223-4670e1af185f",
   "metadata": {},
   "outputs": [],
   "source": [
    "from torch.utils.data import DataLoader\n",
    "\n",
    "from st_forecasting.utils.dataset import GeoFramesDataset"
   ]
  },
  {
   "cell_type": "code",
   "execution_count": 19,
   "id": "fc307b48-e94c-47da-a47c-e07ee1d9c683",
   "metadata": {},
   "outputs": [],
   "source": [
    "train_dataset = GeoFramesDataset(\n",
    "    x=denoised_stream,\n",
    "    indexes=train_indexes,\n",
    "    n_steps_past=N_STEPS_PAST,\n",
    "    horizon=HORIZON,\n",
    "    half=False,\n",
    "    scaler=scaler\n",
    ")\n",
    "\n",
    "train_loader = DataLoader(\n",
    "    train_dataset,\n",
    "    batch_size=BATCH_SIZE,\n",
    "    shuffle=True,\n",
    "    num_workers=CPUS\n",
    ")"
   ]
  },
  {
   "cell_type": "code",
   "execution_count": 20,
   "id": "eea843de-3a40-4a77-8d87-8e74de6b219a",
   "metadata": {},
   "outputs": [],
   "source": [
    "val_dataset = GeoFramesDataset(\n",
    "    x=denoised_stream,\n",
    "    indexes=val_indexes,\n",
    "    n_steps_past=N_STEPS_PAST,\n",
    "    horizon=HORIZON,\n",
    "    half=False,\n",
    "    scaler=scaler\n",
    ")\n",
    "\n",
    "val_loader = DataLoader(\n",
    "    val_dataset,\n",
    "    batch_size=BATCH_SIZE,\n",
    "    shuffle=False,\n",
    "    num_workers=CPUS\n",
    ")"
   ]
  },
  {
   "cell_type": "code",
   "execution_count": 21,
   "id": "22f653cb-ca61-4254-9e7b-5729f97ad971",
   "metadata": {},
   "outputs": [
    {
     "data": {
      "text/plain": [
       "torch.float32"
      ]
     },
     "execution_count": 21,
     "metadata": {},
     "output_type": "execute_result"
    }
   ],
   "source": [
    "train_loader.dataset[0][0].dtype"
   ]
  },
  {
   "cell_type": "markdown",
   "id": "6eb424f4-3a91-49fe-88de-97f72d76644d",
   "metadata": {},
   "source": [
    "### Training"
   ]
  },
  {
   "cell_type": "code",
   "execution_count": 22,
   "id": "d5cc63f2-c5d9-457b-b8b8-4169c27fa544",
   "metadata": {},
   "outputs": [],
   "source": [
    "from torch.optim.lr_scheduler import ReduceLROnPlateau\n",
    "from torch.optim import Adam\n",
    "\n",
    "from st_forecasting.custom_callbacks import progress_bar, MetricsCallback, checkpoint_callback\n",
    "from st_forecasting.model import (\n",
    "    ConvLSTMCell,\n",
    "    ResNetLSTMCell,\n",
    "    ConvLSTMNet,\n",
    "    ConvGRUNet,\n",
    "    ConvTTLSTMNet,\n",
    "    ModelWrapper\n",
    ")"
   ]
  },
  {
   "cell_type": "raw",
   "id": "154bcf93-cd3b-4751-adac-22cbf3d86bfa",
   "metadata": {},
   "source": [
    "backbone = ConvGRUNet(\n",
    "    hidden_channels=4,\n",
    "    in_channels=1,\n",
    "    bias=False\n",
    ")"
   ]
  },
  {
   "cell_type": "raw",
   "id": "59a21282-7164-4f7e-bd29-7827eb95744d",
   "metadata": {},
   "source": [
    "backbone = ConvLSTMNet(\n",
    "    hidden_channels=16,\n",
    "    in_channels=1,\n",
    "    cell=ConvLSTMCell,\n",
    "    bias=True\n",
    ")"
   ]
  },
  {
   "cell_type": "code",
   "execution_count": 23,
   "id": "aadd78c1-20c6-44b2-a105-0f34f6752ba0",
   "metadata": {},
   "outputs": [],
   "source": [
    "cell_param = {'order': 3, 'steps': 6, 'ranks': 8}\n",
    "\n",
    "backbone = ConvTTLSTMNet(\n",
    "    input_channels=1,\n",
    "    layers_per_block=(1), \n",
    "    hidden_channels=(16),\n",
    "    cell_params=cell_param,\n",
    "    kernel_size=3,\n",
    "    bias=True\n",
    ")"
   ]
  },
  {
   "cell_type": "code",
   "execution_count": 24,
   "id": "f701a63e-961c-4796-9175-dee141836d28",
   "metadata": {},
   "outputs": [],
   "source": [
    "optimizer = Adam(backbone.parameters(), lr=3e-3, betas=(0.9, 0.999), eps=1e-08, weight_decay=0)\n",
    "scheduler = ReduceLROnPlateau(optimizer, factor=0.2, patience=3)\n",
    "\n",
    "pb = progress_bar()\n",
    "ck = checkpoint_callback()"
   ]
  },
  {
   "cell_type": "code",
   "execution_count": 25,
   "id": "5ed8e979-ab38-4110-a042-60bc75be9bf4",
   "metadata": {},
   "outputs": [],
   "source": [
    "model = ModelWrapper(\n",
    "    model=backbone,\n",
    "    optimizer=optimizer,\n",
    "    scheduler=scheduler,\n",
    "    horizon=HORIZON,\n",
    "    loss_fn_alias='mse',\n",
    "    loss_type='semi_masked',\n",
    "    include_masked_metrics=True,\n",
    "    masked_weight=0.3  # only for semi-masked loss\n",
    ")"
   ]
  },
  {
   "cell_type": "code",
   "execution_count": 26,
   "id": "242e7f07-f17e-4bf8-9838-abe36031d44e",
   "metadata": {},
   "outputs": [
    {
     "name": "stderr",
     "output_type": "stream",
     "text": [
      "GPU available: True (mps), used: True\n",
      "TPU available: False, using: 0 TPU cores\n",
      "IPU available: False, using: 0 IPUs\n",
      "HPU available: False, using: 0 HPUs\n"
     ]
    }
   ],
   "source": [
    "trainer = pl.Trainer(\n",
    "    default_root_dir='amman_1H_convttlstm_logs',\n",
    "    min_epochs=10,\n",
    "    max_epochs=20,\n",
    "    num_sanity_val_steps=0,\n",
    "    log_every_n_steps=1,\n",
    "    callbacks=[pb, MetricsCallback(), ck]\n",
    ")"
   ]
  },
  {
   "cell_type": "code",
   "execution_count": 27,
   "id": "1ca67818-7969-4bce-a409-20f6c20f2fb5",
   "metadata": {
    "tags": []
   },
   "outputs": [
    {
     "name": "stderr",
     "output_type": "stream",
     "text": [
      "Missing logger folder: amman_1H_convttlstm_logs/lightning_logs\n"
     ]
    },
    {
     "data": {
      "text/html": [
       "<pre style=\"white-space:pre;overflow-x:auto;line-height:normal;font-family:Menlo,'DejaVu Sans Mono',consolas,'Courier New',monospace\">┏━━━┳━━━━━━━┳━━━━━━━━━━━━━━━┳━━━━━━━━┓\n",
       "┃<span style=\"color: #800080; text-decoration-color: #800080; font-weight: bold\">   </span>┃<span style=\"color: #800080; text-decoration-color: #800080; font-weight: bold\"> Name  </span>┃<span style=\"color: #800080; text-decoration-color: #800080; font-weight: bold\"> Type          </span>┃<span style=\"color: #800080; text-decoration-color: #800080; font-weight: bold\"> Params </span>┃\n",
       "┡━━━╇━━━━━━━╇━━━━━━━━━━━━━━━╇━━━━━━━━┩\n",
       "│<span style=\"color: #7f7f7f; text-decoration-color: #7f7f7f\"> 0 </span>│ model │ ConvTTLSTMNet │ 20.3 K │\n",
       "└───┴───────┴───────────────┴────────┘\n",
       "</pre>\n"
      ],
      "text/plain": [
       "┏━━━┳━━━━━━━┳━━━━━━━━━━━━━━━┳━━━━━━━━┓\n",
       "┃\u001b[1;35m \u001b[0m\u001b[1;35m \u001b[0m\u001b[1;35m \u001b[0m┃\u001b[1;35m \u001b[0m\u001b[1;35mName \u001b[0m\u001b[1;35m \u001b[0m┃\u001b[1;35m \u001b[0m\u001b[1;35mType         \u001b[0m\u001b[1;35m \u001b[0m┃\u001b[1;35m \u001b[0m\u001b[1;35mParams\u001b[0m\u001b[1;35m \u001b[0m┃\n",
       "┡━━━╇━━━━━━━╇━━━━━━━━━━━━━━━╇━━━━━━━━┩\n",
       "│\u001b[2m \u001b[0m\u001b[2m0\u001b[0m\u001b[2m \u001b[0m│ model │ ConvTTLSTMNet │ 20.3 K │\n",
       "└───┴───────┴───────────────┴────────┘\n"
      ]
     },
     "metadata": {},
     "output_type": "display_data"
    },
    {
     "data": {
      "text/html": [
       "<pre style=\"white-space:pre;overflow-x:auto;line-height:normal;font-family:Menlo,'DejaVu Sans Mono',consolas,'Courier New',monospace\"><span style=\"font-weight: bold\">Trainable params</span>: 20.3 K                                                                                           \n",
       "<span style=\"font-weight: bold\">Non-trainable params</span>: 0                                                                                            \n",
       "<span style=\"font-weight: bold\">Total params</span>: 20.3 K                                                                                               \n",
       "<span style=\"font-weight: bold\">Total estimated model params size (MB)</span>: 0                                                                          \n",
       "</pre>\n"
      ],
      "text/plain": [
       "\u001b[1mTrainable params\u001b[0m: 20.3 K                                                                                           \n",
       "\u001b[1mNon-trainable params\u001b[0m: 0                                                                                            \n",
       "\u001b[1mTotal params\u001b[0m: 20.3 K                                                                                               \n",
       "\u001b[1mTotal estimated model params size (MB)\u001b[0m: 0                                                                          \n"
      ]
     },
     "metadata": {},
     "output_type": "display_data"
    },
    {
     "data": {
      "application/vnd.jupyter.widget-view+json": {
       "model_id": "92adea7fdf524ad9887c126193054705",
       "version_major": 2,
       "version_minor": 0
      },
      "text/plain": [
       "Output()"
      ]
     },
     "metadata": {},
     "output_type": "display_data"
    },
    {
     "data": {
      "text/html": [
       "<pre style=\"white-space:pre;overflow-x:auto;line-height:normal;font-family:Menlo,'DejaVu Sans Mono',consolas,'Courier New',monospace\"></pre>\n"
      ],
      "text/plain": []
     },
     "metadata": {},
     "output_type": "display_data"
    },
    {
     "data": {
      "text/html": [
       "<pre style=\"white-space:pre;overflow-x:auto;line-height:normal;font-family:Menlo,'DejaVu Sans Mono',consolas,'Courier New',monospace\">\n",
       "</pre>\n"
      ],
      "text/plain": [
       "\n"
      ]
     },
     "metadata": {},
     "output_type": "display_data"
    },
    {
     "data": {
      "application/vnd.jupyter.widget-view+json": {
       "model_id": "d5ac851bfcb6470aa8423bbbf480d316",
       "version_major": 2,
       "version_minor": 0
      },
      "text/plain": [
       "Output()"
      ]
     },
     "metadata": {},
     "output_type": "display_data"
    },
    {
     "data": {
      "text/html": [
       "<pre style=\"white-space:pre;overflow-x:auto;line-height:normal;font-family:Menlo,'DejaVu Sans Mono',consolas,'Courier New',monospace\"></pre>\n"
      ],
      "text/plain": []
     },
     "metadata": {},
     "output_type": "display_data"
    },
    {
     "data": {
      "text/html": [
       "<pre style=\"white-space:pre;overflow-x:auto;line-height:normal;font-family:Menlo,'DejaVu Sans Mono',consolas,'Courier New',monospace\">\n",
       "</pre>\n"
      ],
      "text/plain": [
       "\n"
      ]
     },
     "metadata": {},
     "output_type": "display_data"
    },
    {
     "data": {
      "application/vnd.jupyter.widget-view+json": {
       "model_id": "d32659110dec4567a9d73fdbd0614ec0",
       "version_major": 2,
       "version_minor": 0
      },
      "text/plain": [
       "Output()"
      ]
     },
     "metadata": {},
     "output_type": "display_data"
    },
    {
     "data": {
      "text/html": [
       "<pre style=\"white-space:pre;overflow-x:auto;line-height:normal;font-family:Menlo,'DejaVu Sans Mono',consolas,'Courier New',monospace\"></pre>\n"
      ],
      "text/plain": []
     },
     "metadata": {},
     "output_type": "display_data"
    },
    {
     "data": {
      "text/html": [
       "<pre style=\"white-space:pre;overflow-x:auto;line-height:normal;font-family:Menlo,'DejaVu Sans Mono',consolas,'Courier New',monospace\">\n",
       "</pre>\n"
      ],
      "text/plain": [
       "\n"
      ]
     },
     "metadata": {},
     "output_type": "display_data"
    },
    {
     "data": {
      "application/vnd.jupyter.widget-view+json": {
       "model_id": "d311e0824d7546c1a2cc86e96d8d408d",
       "version_major": 2,
       "version_minor": 0
      },
      "text/plain": [
       "Output()"
      ]
     },
     "metadata": {},
     "output_type": "display_data"
    },
    {
     "data": {
      "text/html": [
       "<pre style=\"white-space:pre;overflow-x:auto;line-height:normal;font-family:Menlo,'DejaVu Sans Mono',consolas,'Courier New',monospace\"></pre>\n"
      ],
      "text/plain": []
     },
     "metadata": {},
     "output_type": "display_data"
    },
    {
     "data": {
      "text/html": [
       "<pre style=\"white-space:pre;overflow-x:auto;line-height:normal;font-family:Menlo,'DejaVu Sans Mono',consolas,'Courier New',monospace\">\n",
       "</pre>\n"
      ],
      "text/plain": [
       "\n"
      ]
     },
     "metadata": {},
     "output_type": "display_data"
    },
    {
     "data": {
      "application/vnd.jupyter.widget-view+json": {
       "model_id": "847fb8b742924cb59d954fe15d64370c",
       "version_major": 2,
       "version_minor": 0
      },
      "text/plain": [
       "Output()"
      ]
     },
     "metadata": {},
     "output_type": "display_data"
    },
    {
     "data": {
      "text/html": [
       "<pre style=\"white-space:pre;overflow-x:auto;line-height:normal;font-family:Menlo,'DejaVu Sans Mono',consolas,'Courier New',monospace\"></pre>\n"
      ],
      "text/plain": []
     },
     "metadata": {},
     "output_type": "display_data"
    },
    {
     "data": {
      "text/html": [
       "<pre style=\"white-space:pre;overflow-x:auto;line-height:normal;font-family:Menlo,'DejaVu Sans Mono',consolas,'Courier New',monospace\">\n",
       "</pre>\n"
      ],
      "text/plain": [
       "\n"
      ]
     },
     "metadata": {},
     "output_type": "display_data"
    },
    {
     "data": {
      "application/vnd.jupyter.widget-view+json": {
       "model_id": "03b0b3c8ca3c4216b95d2aa7c6e440aa",
       "version_major": 2,
       "version_minor": 0
      },
      "text/plain": [
       "Output()"
      ]
     },
     "metadata": {},
     "output_type": "display_data"
    },
    {
     "data": {
      "text/html": [
       "<pre style=\"white-space:pre;overflow-x:auto;line-height:normal;font-family:Menlo,'DejaVu Sans Mono',consolas,'Courier New',monospace\"></pre>\n"
      ],
      "text/plain": []
     },
     "metadata": {},
     "output_type": "display_data"
    },
    {
     "data": {
      "text/html": [
       "<pre style=\"white-space:pre;overflow-x:auto;line-height:normal;font-family:Menlo,'DejaVu Sans Mono',consolas,'Courier New',monospace\">\n",
       "</pre>\n"
      ],
      "text/plain": [
       "\n"
      ]
     },
     "metadata": {},
     "output_type": "display_data"
    },
    {
     "data": {
      "application/vnd.jupyter.widget-view+json": {
       "model_id": "cffac2e36ccd418ea1e19daa58f67768",
       "version_major": 2,
       "version_minor": 0
      },
      "text/plain": [
       "Output()"
      ]
     },
     "metadata": {},
     "output_type": "display_data"
    },
    {
     "data": {
      "text/html": [
       "<pre style=\"white-space:pre;overflow-x:auto;line-height:normal;font-family:Menlo,'DejaVu Sans Mono',consolas,'Courier New',monospace\"></pre>\n"
      ],
      "text/plain": []
     },
     "metadata": {},
     "output_type": "display_data"
    },
    {
     "data": {
      "text/html": [
       "<pre style=\"white-space:pre;overflow-x:auto;line-height:normal;font-family:Menlo,'DejaVu Sans Mono',consolas,'Courier New',monospace\">\n",
       "</pre>\n"
      ],
      "text/plain": [
       "\n"
      ]
     },
     "metadata": {},
     "output_type": "display_data"
    },
    {
     "data": {
      "application/vnd.jupyter.widget-view+json": {
       "model_id": "b11157eabeac47088cce6bb1f83acf89",
       "version_major": 2,
       "version_minor": 0
      },
      "text/plain": [
       "Output()"
      ]
     },
     "metadata": {},
     "output_type": "display_data"
    },
    {
     "data": {
      "text/html": [
       "<pre style=\"white-space:pre;overflow-x:auto;line-height:normal;font-family:Menlo,'DejaVu Sans Mono',consolas,'Courier New',monospace\"></pre>\n"
      ],
      "text/plain": []
     },
     "metadata": {},
     "output_type": "display_data"
    },
    {
     "data": {
      "text/html": [
       "<pre style=\"white-space:pre;overflow-x:auto;line-height:normal;font-family:Menlo,'DejaVu Sans Mono',consolas,'Courier New',monospace\">\n",
       "</pre>\n"
      ],
      "text/plain": [
       "\n"
      ]
     },
     "metadata": {},
     "output_type": "display_data"
    },
    {
     "data": {
      "application/vnd.jupyter.widget-view+json": {
       "model_id": "8680cfc6f53d4599b0379d1a7ebc29fa",
       "version_major": 2,
       "version_minor": 0
      },
      "text/plain": [
       "Output()"
      ]
     },
     "metadata": {},
     "output_type": "display_data"
    },
    {
     "data": {
      "text/html": [
       "<pre style=\"white-space:pre;overflow-x:auto;line-height:normal;font-family:Menlo,'DejaVu Sans Mono',consolas,'Courier New',monospace\"></pre>\n"
      ],
      "text/plain": []
     },
     "metadata": {},
     "output_type": "display_data"
    },
    {
     "data": {
      "text/html": [
       "<pre style=\"white-space:pre;overflow-x:auto;line-height:normal;font-family:Menlo,'DejaVu Sans Mono',consolas,'Courier New',monospace\">\n",
       "</pre>\n"
      ],
      "text/plain": [
       "\n"
      ]
     },
     "metadata": {},
     "output_type": "display_data"
    },
    {
     "data": {
      "application/vnd.jupyter.widget-view+json": {
       "model_id": "94bb35ff822f481da5ba3d947772f728",
       "version_major": 2,
       "version_minor": 0
      },
      "text/plain": [
       "Output()"
      ]
     },
     "metadata": {},
     "output_type": "display_data"
    },
    {
     "data": {
      "text/html": [
       "<pre style=\"white-space:pre;overflow-x:auto;line-height:normal;font-family:Menlo,'DejaVu Sans Mono',consolas,'Courier New',monospace\"></pre>\n"
      ],
      "text/plain": []
     },
     "metadata": {},
     "output_type": "display_data"
    },
    {
     "data": {
      "text/html": [
       "<pre style=\"white-space:pre;overflow-x:auto;line-height:normal;font-family:Menlo,'DejaVu Sans Mono',consolas,'Courier New',monospace\">\n",
       "</pre>\n"
      ],
      "text/plain": [
       "\n"
      ]
     },
     "metadata": {},
     "output_type": "display_data"
    },
    {
     "data": {
      "application/vnd.jupyter.widget-view+json": {
       "model_id": "19a2811e7fd04039bdd9addfcfb824a2",
       "version_major": 2,
       "version_minor": 0
      },
      "text/plain": [
       "Output()"
      ]
     },
     "metadata": {},
     "output_type": "display_data"
    },
    {
     "data": {
      "text/html": [
       "<pre style=\"white-space:pre;overflow-x:auto;line-height:normal;font-family:Menlo,'DejaVu Sans Mono',consolas,'Courier New',monospace\"></pre>\n"
      ],
      "text/plain": []
     },
     "metadata": {},
     "output_type": "display_data"
    },
    {
     "data": {
      "text/html": [
       "<pre style=\"white-space:pre;overflow-x:auto;line-height:normal;font-family:Menlo,'DejaVu Sans Mono',consolas,'Courier New',monospace\">\n",
       "</pre>\n"
      ],
      "text/plain": [
       "\n"
      ]
     },
     "metadata": {},
     "output_type": "display_data"
    },
    {
     "data": {
      "application/vnd.jupyter.widget-view+json": {
       "model_id": "f285747a24bd4a39847c8cc1c54782d9",
       "version_major": 2,
       "version_minor": 0
      },
      "text/plain": [
       "Output()"
      ]
     },
     "metadata": {},
     "output_type": "display_data"
    },
    {
     "data": {
      "text/html": [
       "<pre style=\"white-space:pre;overflow-x:auto;line-height:normal;font-family:Menlo,'DejaVu Sans Mono',consolas,'Courier New',monospace\"></pre>\n"
      ],
      "text/plain": []
     },
     "metadata": {},
     "output_type": "display_data"
    },
    {
     "data": {
      "text/html": [
       "<pre style=\"white-space:pre;overflow-x:auto;line-height:normal;font-family:Menlo,'DejaVu Sans Mono',consolas,'Courier New',monospace\">\n",
       "</pre>\n"
      ],
      "text/plain": [
       "\n"
      ]
     },
     "metadata": {},
     "output_type": "display_data"
    },
    {
     "data": {
      "application/vnd.jupyter.widget-view+json": {
       "model_id": "54a8523b57c740f289db158150dfd4c9",
       "version_major": 2,
       "version_minor": 0
      },
      "text/plain": [
       "Output()"
      ]
     },
     "metadata": {},
     "output_type": "display_data"
    },
    {
     "data": {
      "text/html": [
       "<pre style=\"white-space:pre;overflow-x:auto;line-height:normal;font-family:Menlo,'DejaVu Sans Mono',consolas,'Courier New',monospace\"></pre>\n"
      ],
      "text/plain": []
     },
     "metadata": {},
     "output_type": "display_data"
    },
    {
     "data": {
      "text/html": [
       "<pre style=\"white-space:pre;overflow-x:auto;line-height:normal;font-family:Menlo,'DejaVu Sans Mono',consolas,'Courier New',monospace\">\n",
       "</pre>\n"
      ],
      "text/plain": [
       "\n"
      ]
     },
     "metadata": {},
     "output_type": "display_data"
    },
    {
     "data": {
      "application/vnd.jupyter.widget-view+json": {
       "model_id": "9b8117f1dae649378067581ca15bd497",
       "version_major": 2,
       "version_minor": 0
      },
      "text/plain": [
       "Output()"
      ]
     },
     "metadata": {},
     "output_type": "display_data"
    },
    {
     "data": {
      "text/html": [
       "<pre style=\"white-space:pre;overflow-x:auto;line-height:normal;font-family:Menlo,'DejaVu Sans Mono',consolas,'Courier New',monospace\"></pre>\n"
      ],
      "text/plain": []
     },
     "metadata": {},
     "output_type": "display_data"
    },
    {
     "data": {
      "text/html": [
       "<pre style=\"white-space:pre;overflow-x:auto;line-height:normal;font-family:Menlo,'DejaVu Sans Mono',consolas,'Courier New',monospace\">\n",
       "</pre>\n"
      ],
      "text/plain": [
       "\n"
      ]
     },
     "metadata": {},
     "output_type": "display_data"
    },
    {
     "data": {
      "application/vnd.jupyter.widget-view+json": {
       "model_id": "537be088f2ef45a9987e085a7f2cc1ab",
       "version_major": 2,
       "version_minor": 0
      },
      "text/plain": [
       "Output()"
      ]
     },
     "metadata": {},
     "output_type": "display_data"
    },
    {
     "data": {
      "text/html": [
       "<pre style=\"white-space:pre;overflow-x:auto;line-height:normal;font-family:Menlo,'DejaVu Sans Mono',consolas,'Courier New',monospace\"></pre>\n"
      ],
      "text/plain": []
     },
     "metadata": {},
     "output_type": "display_data"
    },
    {
     "data": {
      "text/html": [
       "<pre style=\"white-space:pre;overflow-x:auto;line-height:normal;font-family:Menlo,'DejaVu Sans Mono',consolas,'Courier New',monospace\">\n",
       "</pre>\n"
      ],
      "text/plain": [
       "\n"
      ]
     },
     "metadata": {},
     "output_type": "display_data"
    },
    {
     "data": {
      "application/vnd.jupyter.widget-view+json": {
       "model_id": "96aa096c6f4f44d8b498be29036946f8",
       "version_major": 2,
       "version_minor": 0
      },
      "text/plain": [
       "Output()"
      ]
     },
     "metadata": {},
     "output_type": "display_data"
    },
    {
     "data": {
      "text/html": [
       "<pre style=\"white-space:pre;overflow-x:auto;line-height:normal;font-family:Menlo,'DejaVu Sans Mono',consolas,'Courier New',monospace\"></pre>\n"
      ],
      "text/plain": []
     },
     "metadata": {},
     "output_type": "display_data"
    },
    {
     "data": {
      "text/html": [
       "<pre style=\"white-space:pre;overflow-x:auto;line-height:normal;font-family:Menlo,'DejaVu Sans Mono',consolas,'Courier New',monospace\">\n",
       "</pre>\n"
      ],
      "text/plain": [
       "\n"
      ]
     },
     "metadata": {},
     "output_type": "display_data"
    },
    {
     "data": {
      "application/vnd.jupyter.widget-view+json": {
       "model_id": "800cf16c39684c608e0f06cdd99f4fb2",
       "version_major": 2,
       "version_minor": 0
      },
      "text/plain": [
       "Output()"
      ]
     },
     "metadata": {},
     "output_type": "display_data"
    },
    {
     "data": {
      "text/html": [
       "<pre style=\"white-space:pre;overflow-x:auto;line-height:normal;font-family:Menlo,'DejaVu Sans Mono',consolas,'Courier New',monospace\"></pre>\n"
      ],
      "text/plain": []
     },
     "metadata": {},
     "output_type": "display_data"
    },
    {
     "data": {
      "text/html": [
       "<pre style=\"white-space:pre;overflow-x:auto;line-height:normal;font-family:Menlo,'DejaVu Sans Mono',consolas,'Courier New',monospace\">\n",
       "</pre>\n"
      ],
      "text/plain": [
       "\n"
      ]
     },
     "metadata": {},
     "output_type": "display_data"
    },
    {
     "data": {
      "application/vnd.jupyter.widget-view+json": {
       "model_id": "1f85813295e041dc9464aca725fa1116",
       "version_major": 2,
       "version_minor": 0
      },
      "text/plain": [
       "Output()"
      ]
     },
     "metadata": {},
     "output_type": "display_data"
    },
    {
     "data": {
      "text/html": [
       "<pre style=\"white-space:pre;overflow-x:auto;line-height:normal;font-family:Menlo,'DejaVu Sans Mono',consolas,'Courier New',monospace\"></pre>\n"
      ],
      "text/plain": []
     },
     "metadata": {},
     "output_type": "display_data"
    },
    {
     "data": {
      "text/html": [
       "<pre style=\"white-space:pre;overflow-x:auto;line-height:normal;font-family:Menlo,'DejaVu Sans Mono',consolas,'Courier New',monospace\">\n",
       "</pre>\n"
      ],
      "text/plain": [
       "\n"
      ]
     },
     "metadata": {},
     "output_type": "display_data"
    },
    {
     "data": {
      "application/vnd.jupyter.widget-view+json": {
       "model_id": "0b4aaddf00474f56902fe7bf7e8ec270",
       "version_major": 2,
       "version_minor": 0
      },
      "text/plain": [
       "Output()"
      ]
     },
     "metadata": {},
     "output_type": "display_data"
    },
    {
     "data": {
      "text/html": [
       "<pre style=\"white-space:pre;overflow-x:auto;line-height:normal;font-family:Menlo,'DejaVu Sans Mono',consolas,'Courier New',monospace\"></pre>\n"
      ],
      "text/plain": []
     },
     "metadata": {},
     "output_type": "display_data"
    },
    {
     "data": {
      "text/html": [
       "<pre style=\"white-space:pre;overflow-x:auto;line-height:normal;font-family:Menlo,'DejaVu Sans Mono',consolas,'Courier New',monospace\">\n",
       "</pre>\n"
      ],
      "text/plain": [
       "\n"
      ]
     },
     "metadata": {},
     "output_type": "display_data"
    },
    {
     "data": {
      "application/vnd.jupyter.widget-view+json": {
       "model_id": "21d1553a63de42e09d0f8ecc9cd0b3ea",
       "version_major": 2,
       "version_minor": 0
      },
      "text/plain": [
       "Output()"
      ]
     },
     "metadata": {},
     "output_type": "display_data"
    },
    {
     "name": "stderr",
     "output_type": "stream",
     "text": [
      "`Trainer.fit` stopped: `max_epochs=20` reached.\n"
     ]
    },
    {
     "data": {
      "text/html": [
       "<pre style=\"white-space:pre;overflow-x:auto;line-height:normal;font-family:Menlo,'DejaVu Sans Mono',consolas,'Courier New',monospace\"></pre>\n"
      ],
      "text/plain": []
     },
     "metadata": {},
     "output_type": "display_data"
    },
    {
     "data": {
      "text/html": [
       "<pre style=\"white-space:pre;overflow-x:auto;line-height:normal;font-family:Menlo,'DejaVu Sans Mono',consolas,'Courier New',monospace\">\n",
       "</pre>\n"
      ],
      "text/plain": [
       "\n"
      ]
     },
     "metadata": {},
     "output_type": "display_data"
    }
   ],
   "source": [
    "trainer.fit(\n",
    "    model,\n",
    "    train_loader,\n",
    "    val_loader,\n",
    "    # ckpt_path=''\n",
    ")"
   ]
  },
  {
   "cell_type": "markdown",
   "id": "2ec3989b-4c21-43c9-8f48-05c106cfc274",
   "metadata": {},
   "source": [
    "### Testing"
   ]
  },
  {
   "cell_type": "code",
   "execution_count": 28,
   "id": "ce5ee9eb-4da1-47e4-9b99-00e0012174c2",
   "metadata": {},
   "outputs": [],
   "source": [
    "test_dataset = GeoFramesDataset(\n",
    "    x=denoised_stream,\n",
    "    indexes=test_indexes,\n",
    "    n_steps_past=N_STEPS_PAST,\n",
    "    horizon=HORIZON,\n",
    "    train=False,\n",
    "    half=False,\n",
    "    scaler=scaler\n",
    ")\n",
    "\n",
    "test_loader = DataLoader(test_dataset, batch_size=BATCH_SIZE, shuffle=False, num_workers=4)"
   ]
  },
  {
   "cell_type": "code",
   "execution_count": 29,
   "id": "93bb31dc-2e30-4376-9583-a05b926f3cd3",
   "metadata": {},
   "outputs": [
    {
     "name": "stderr",
     "output_type": "stream",
     "text": [
      "Restoring states from the checkpoint path at amman_1H_convttlstm_logs/lightning_logs/version_0/checkpoints/epoch=17-step=1026.ckpt\n",
      "Loaded model weights from the checkpoint at amman_1H_convttlstm_logs/lightning_logs/version_0/checkpoints/epoch=17-step=1026.ckpt\n"
     ]
    },
    {
     "data": {
      "application/vnd.jupyter.widget-view+json": {
       "model_id": "d82a923615914baaa0222dde3ddccb44",
       "version_major": 2,
       "version_minor": 0
      },
      "text/plain": [
       "Output()"
      ]
     },
     "metadata": {},
     "output_type": "display_data"
    },
    {
     "data": {
      "text/html": [
       "<pre style=\"white-space:pre;overflow-x:auto;line-height:normal;font-family:Menlo,'DejaVu Sans Mono',consolas,'Courier New',monospace\"></pre>\n"
      ],
      "text/plain": []
     },
     "metadata": {},
     "output_type": "display_data"
    },
    {
     "data": {
      "text/html": [
       "<pre style=\"white-space:pre;overflow-x:auto;line-height:normal;font-family:Menlo,'DejaVu Sans Mono',consolas,'Courier New',monospace\">\n",
       "</pre>\n"
      ],
      "text/plain": [
       "\n"
      ]
     },
     "metadata": {},
     "output_type": "display_data"
    }
   ],
   "source": [
    "preds = trainer.predict(model, test_loader, return_predictions=True, ckpt_path='best')"
   ]
  },
  {
   "cell_type": "code",
   "execution_count": 30,
   "id": "7c92bef8-f65e-424c-9849-fd2a860e4f92",
   "metadata": {},
   "outputs": [],
   "source": [
    "np_preds = np.squeeze(np.concatenate([x.numpy() for x in preds]))"
   ]
  },
  {
   "cell_type": "code",
   "execution_count": 31,
   "id": "067462dc-ab01-4e83-bbfc-c423c954738d",
   "metadata": {},
   "outputs": [
    {
     "data": {
      "text/plain": [
       "array([0.       , 0.       , 0.       , 0.       , 3.0255783, 2.7959378,\n",
       "       2.0176651, 7.6256146, 2.5165381, 0.       , 0.       , 0.       ,\n",
       "       0.       , 0.       , 0.       , 0.       , 0.       , 0.       ],\n",
       "      dtype=float32)"
      ]
     },
     "execution_count": 31,
     "metadata": {},
     "output_type": "execute_result"
    }
   ],
   "source": [
    "np_preds[0][3][9]"
   ]
  },
  {
   "cell_type": "markdown",
   "id": "004238be-4c15-4799-8a14-5bbab1f7ecf3",
   "metadata": {},
   "source": [
    "### Analysis"
   ]
  },
  {
   "cell_type": "markdown",
   "id": "bb0c4706-6f23-48d1-b658-447e584f6b84",
   "metadata": {},
   "source": [
    "##### Per Square"
   ]
  },
  {
   "cell_type": "code",
   "execution_count": 32,
   "id": "951cc59c-b9fe-4c92-9534-99df67653845",
   "metadata": {},
   "outputs": [],
   "source": [
    "def draw_series(\n",
    "    data: pd.DataFrame,\n",
    "    denoised: pd.DataFrame,\n",
    "    preds: np.ndarray,\n",
    "    timesteps: np.ndarray,\n",
    "    ids: np.ndarray,\n",
    "    sample_i: int,\n",
    "    sid: int\n",
    ") -> pd.DataFrame:\n",
    "    \n",
    "    y_hat = preds[sample_i]\n",
    "    tss = timesteps[sample_i:sample_i+N_STEPS_PAST+HORIZON]\n",
    "    \n",
    "    sub_df = data[(data.square_id == sid) & (data['ts'].isin(tss))].drop('geometry', axis=1)\n",
    "    sub_df['type'] = 'true'\n",
    "    \n",
    "    d_sub_df = denoised[(denoised.square_id == sid) & (denoised['ts'].isin(tss))].drop('geometry', axis=1)\n",
    "    d_sub_df['type'] = 'denoised'\n",
    "    \n",
    "    df_list = []\n",
    "\n",
    "    for i, ts in enumerate(timesteps[sample_i+N_STEPS_PAST:sample_i+N_STEPS_PAST+HORIZON]):\n",
    "        sub = pd.DataFrame({'square_id': ids.flatten(), 'intents': y_hat[i].flatten()})\n",
    "        sub['ts'] = ts\n",
    "        df_list.append(sub)\n",
    "\n",
    "    pred_df = pd.concat(df_list, ignore_index=True)\n",
    "    pred_df = pred_df[pred_df.square_id == sid]\n",
    "    pred_df['type'] = 'pred'\n",
    "    \n",
    "    df = pd.concat([\n",
    "        sub_df.iloc[-(HORIZON+24*4):], \n",
    "        d_sub_df.iloc[-(HORIZON+24*4):], \n",
    "        pred_df.iloc[-(HORIZON+24*4):]  \n",
    "    ]) \n",
    "    \n",
    "    df['ts'] = df['ts'].astype(str)\n",
    "    \n",
    "    plt.figure(figsize=(20, 6))\n",
    "    sns.lineplot(df, x='ts', y='intents', hue='type')\n",
    "    plt.xticks(fontsize=4, rotation=90)\n",
    "    plt.title(f'Timeline for square {sid}')\n",
    "    plt.show()"
   ]
  },
  {
   "cell_type": "code",
   "execution_count": 33,
   "id": "10e2c5da-910a-4c84-8542-080f0b0181df",
   "metadata": {},
   "outputs": [],
   "source": [
    "tt = time['ts'].values[test_indexes[0]-HORIZON:]\n",
    "test_data = data[data['ts'] >= tt[0]].copy()\n",
    "test_den_data = denoised_df[denoised_df['ts'] >= tt[0]].copy()"
   ]
  },
  {
   "cell_type": "code",
   "execution_count": 57,
   "id": "e2e53a18-514f-48df-9205-fc8b11658edc",
   "metadata": {},
   "outputs": [
    {
     "data": {
      "image/png": "[encoded data removed]",
      "text/plain": [
       "<Figure size 2000x600 with 1 Axes>"
      ]
     },
     "metadata": {},
     "output_type": "display_data"
    }
   ],
   "source": [
    "draw_series(test_data, test_den_data, np_preds, tt, ids, 0, 120)"
   ]
  },
  {
   "cell_type": "markdown",
   "id": "e0c27cf1-3df0-4261-a56e-150ff3d6bb5b",
   "metadata": {},
   "source": [
    "##### Aggregated"
   ]
  },
  {
   "cell_type": "code",
   "execution_count": 71,
   "id": "798eb80b-2ed7-4a37-9d7e-37296d6049a0",
   "metadata": {},
   "outputs": [],
   "source": [
    "INDEX = 0\n",
    "\n",
    "f = np_preds[INDEX]\n",
    "f = np.array([np.round(x).sum() for x in f])\n",
    "\n",
    "start_tt = time['ts'].values[test_indexes[INDEX]+N_STEPS_PAST:test_indexes[INDEX]+N_STEPS_PAST+HORIZON]\n",
    "\n",
    "data_agg = data[data['ts'].isin(start_tt)].copy()\n",
    "data_agg = data_agg[['ts', 'intents']].groupby('ts', as_index=False).sum()\n",
    "data_agg['type'] = 'true'\n",
    "\n",
    "ddata_agg = denoised_df[denoised_df['ts'].isin(start_tt)].copy()\n",
    "ddata_agg = ddata_agg[['ts', 'intents']].groupby('ts', as_index=False).sum()\n",
    "ddata_agg['type'] = 'denoised'\n",
    "\n",
    "preds_agg = pd.DataFrame({'ts': start_tt, 'intents': f})\n",
    "preds_agg['type'] = 'pred'\n",
    "\n",
    "agg = pd.concat([data_agg, ddata_agg, preds_agg], ignore_index=True)"
   ]
  },
  {
   "cell_type": "code",
   "execution_count": 72,
   "id": "35d7a5ec-62ed-4653-84e0-7b652e203bb2",
   "metadata": {},
   "outputs": [
    {
     "data": {
      "image/png": "[encoded data removed]",
      "text/plain": [
       "<Figure size 2000x600 with 1 Axes>"
      ]
     },
     "metadata": {},
     "output_type": "display_data"
    }
   ],
   "source": [
    "plt.figure(figsize=(20, 6))\n",
    "sns.lineplot(agg, x='ts', y='intents', hue='type')\n",
    "plt.xticks(fontsize=8, rotation=60)\n",
    "plt.show()"
   ]
  },
  {
   "cell_type": "markdown",
   "id": "bca2832b-c30f-4db7-8915-e922eb021760",
   "metadata": {
    "jp-MarkdownHeadingCollapsed": true,
    "tags": []
   },
   "source": [
    "### Data for Boosting"
   ]
  },
  {
   "cell_type": "code",
   "execution_count": 61,
   "id": "94cee3dd-5fc6-4d40-a31e-e709e21896c0",
   "metadata": {},
   "outputs": [],
   "source": [
    "def get_preds_data(\n",
    "    preds: np.ndarray,\n",
    "    timesteps: np.ndarray,\n",
    "    ids: np.ndarray,\n",
    "    sample_i: int\n",
    ") -> pd.DataFrame: \n",
    "    y_hat = preds[sample_i]\n",
    "    tss = timesteps[sample_i:sample_i+N_STEPS_PAST+HORIZON]\n",
    "    \n",
    "    df_list = []\n",
    "\n",
    "    for i, ts in enumerate(timesteps[sample_i+N_STEPS_PAST:sample_i+N_STEPS_PAST+HORIZON]):\n",
    "        sub = pd.DataFrame({'square_id': ids.flatten(), 'intents': y_hat[i].flatten()})\n",
    "        sub['ts'] = ts\n",
    "        df_list.append(sub)\n",
    "\n",
    "    pred_df = pd.concat(df_list, ignore_index=True)\n",
    "    \n",
    "    return pred_df"
   ]
  },
  {
   "cell_type": "code",
   "execution_count": 62,
   "id": "18874d90-43d9-4034-9497-d6bad5e84c8b",
   "metadata": {},
   "outputs": [],
   "source": [
    "def to_dataset(data, denoised, np_preds, timesteps):\n",
    "    df_list = []\n",
    "\n",
    "    for i in tqdm(range(len(timesteps) - (N_STEPS_PAST+HORIZON) + 1)):\n",
    "        df = get_preds_data(np_preds, timesteps, ids, i)\n",
    "        df['pred_index'] = i\n",
    "        df_list.append(df)\n",
    "\n",
    "    df = pd.concat(df_list, ignore_index=True)\n",
    "    df = df.rename(columns={'intents': 'y_hat'})\n",
    "    \n",
    "    sub_df = data[data['ts'].isin(df.ts.unique())].drop('geometry', axis=1)\n",
    "    sub_df = sub_df.rename(columns={'intents': 'target'})\n",
    "\n",
    "    d_sub_df = denoised[denoised['ts'].isin(df.ts.unique())].drop('geometry', axis=1)\n",
    "    d_sub_df = d_sub_df.rename(columns={'intents': 'denoised'})\n",
    "    \n",
    "    df = df.merge(sub_df, on=['square_id', 'ts'], how='left')\n",
    "    df = df.merge(d_sub_df, on=['square_id', 'ts'], how='left')\n",
    "    \n",
    "    return df"
   ]
  },
  {
   "cell_type": "markdown",
   "id": "20bdd06b-e466-4375-8d48-4b16e9d592bd",
   "metadata": {},
   "source": [
    "##### Val"
   ]
  },
  {
   "cell_type": "code",
   "execution_count": 63,
   "id": "5d15115d-7d5b-4921-939d-0d95d0fac95a",
   "metadata": {},
   "outputs": [],
   "source": [
    "val_ds = GeoFramesDataset(\n",
    "    x=denoised_stream,\n",
    "    indexes=val_indexes,\n",
    "    n_steps_past=N_STEPS_PAST,\n",
    "    horizon=HORIZON,\n",
    "    train=False,\n",
    "    half=False,\n",
    "    # scaler=scaler\n",
    ")\n",
    "\n",
    "val_ds_loader = DataLoader(val_ds, batch_size=BATCH_SIZE, shuffle=False, num_workers=4)"
   ]
  },
  {
   "cell_type": "code",
   "execution_count": 64,
   "id": "90c838c6-e728-4680-8fd6-4a9399e58edd",
   "metadata": {},
   "outputs": [
    {
     "name": "stderr",
     "output_type": "stream",
     "text": [
      "Restoring states from the checkpoint path at amman_1H_convttlstm_logs/lightning_logs/version_0/checkpoints/epoch=17-step=1026.ckpt\n",
      "Loaded model weights from the checkpoint at amman_1H_convttlstm_logs/lightning_logs/version_0/checkpoints/epoch=17-step=1026.ckpt\n"
     ]
    },
    {
     "data": {
      "application/vnd.jupyter.widget-view+json": {
       "model_id": "4069f69e3c04499fa9d87134dd0bcb14",
       "version_major": 2,
       "version_minor": 0
      },
      "text/plain": [
       "Output()"
      ]
     },
     "metadata": {},
     "output_type": "display_data"
    },
    {
     "data": {
      "text/html": [
       "<pre style=\"white-space:pre;overflow-x:auto;line-height:normal;font-family:Menlo,'DejaVu Sans Mono',consolas,'Courier New',monospace\"></pre>\n"
      ],
      "text/plain": []
     },
     "metadata": {},
     "output_type": "display_data"
    },
    {
     "data": {
      "text/html": [
       "<pre style=\"white-space:pre;overflow-x:auto;line-height:normal;font-family:Menlo,'DejaVu Sans Mono',consolas,'Courier New',monospace\">\n",
       "</pre>\n"
      ],
      "text/plain": [
       "\n"
      ]
     },
     "metadata": {},
     "output_type": "display_data"
    }
   ],
   "source": [
    "val_preds = trainer.predict(model, val_ds_loader, return_predictions=True, ckpt_path='best')"
   ]
  },
  {
   "cell_type": "code",
   "execution_count": 65,
   "id": "284e1c74-7666-4d15-8e5d-a696c08dba7f",
   "metadata": {},
   "outputs": [],
   "source": [
    "val_np_preds = np.squeeze(np.concatenate([x.numpy() for x in val_preds]))"
   ]
  },
  {
   "cell_type": "code",
   "execution_count": 66,
   "id": "c60ef8de-c205-4317-b055-439ff7119d00",
   "metadata": {},
   "outputs": [],
   "source": [
    "val_tt = time['ts'].values[val_indexes[0]-HORIZON:val_indexes[-1]-HORIZON+1]\n",
    "val_data = data[data['ts'] >= val_tt[0]].copy()\n",
    "val_den_data = denoised_df[denoised_df['ts'] >= val_tt[0]].copy()"
   ]
  },
  {
   "cell_type": "code",
   "execution_count": 67,
   "id": "4622660a-1eb0-48ee-b91f-731b97bcd0da",
   "metadata": {},
   "outputs": [
    {
     "name": "stderr",
     "output_type": "stream",
     "text": [
      "100%|████████████████████████████████████████| 836/836 [00:02<00:00, 307.11it/s]\n"
     ]
    }
   ],
   "source": [
    "val_df = to_dataset(val_data, val_den_data, val_np_preds, val_tt)"
   ]
  },
  {
   "cell_type": "code",
   "execution_count": 68,
   "id": "519f6b26-3d6e-4731-aa22-94b3e5be16d7",
   "metadata": {},
   "outputs": [],
   "source": [
    "val_df.to_parquet('data/amman_boosting_train.pq')"
   ]
  },
  {
   "cell_type": "markdown",
   "id": "91c152b2-7c16-4d10-8196-4054094e024a",
   "metadata": {},
   "source": [
    "##### Test"
   ]
  },
  {
   "cell_type": "code",
   "execution_count": 69,
   "id": "cb3a9b7e-abc3-4451-9f28-952f6f431ff6",
   "metadata": {},
   "outputs": [
    {
     "name": "stderr",
     "output_type": "stream",
     "text": [
      "100%|████████████████████████████████████████| 347/347 [00:01<00:00, 308.08it/s]\n"
     ]
    }
   ],
   "source": [
    "test_df = to_dataset(test_data, test_den_data, np_preds, tt)"
   ]
  },
  {
   "cell_type": "code",
   "execution_count": 70,
   "id": "f573cf25-8044-4790-a4a8-148a37ad959d",
   "metadata": {},
   "outputs": [],
   "source": [
    "test_df.to_parquet('data/amman_boosting_test.pq')"
   ]
  },
  {
   "cell_type": "code",
   "execution_count": null,
   "id": "391e7526-784e-4faa-9139-9a3ba9c688e4",
   "metadata": {},
   "outputs": [],
   "source": []
  }
 ],
 "metadata": {
  "kernelspec": {
   "display_name": "Python 3 (ipykernel)",
   "language": "python",
   "name": "python3"
  },
  "language_info": {
   "codemirror_mode": {
    "name": "ipython",
    "version": 3
   },
   "file_extension": ".py",
   "mimetype": "text/x-python",
   "name": "python",
   "nbconvert_exporter": "python",
   "pygments_lexer": "ipython3",
   "version": "3.10.9"
  }
 },
 "nbformat": 4,
 "nbformat_minor": 5
}
