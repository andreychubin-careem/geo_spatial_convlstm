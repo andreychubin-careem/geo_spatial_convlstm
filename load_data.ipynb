{
 "cells": [
  {
   "cell_type": "code",
   "execution_count": 1,
   "id": "c4bccb20-fb62-4ed4-9faa-3680abdf4a74",
   "metadata": {},
   "outputs": [],
   "source": [
    "import gc\n",
    "import warnings\n",
    "import numpy as np\n",
    "import pandas as pd\n",
    "import geopandas as gpd\n",
    "from tqdm import tqdm\n",
    "\n",
    "from pyhive import presto"
   ]
  },
  {
   "cell_type": "code",
   "execution_count": 2,
   "id": "a34247e3-3b77-4be5-8f97-910adbec0e20",
   "metadata": {},
   "outputs": [],
   "source": [
    "warnings.filterwarnings('ignore')"
   ]
  },
  {
   "cell_type": "markdown",
   "id": "d35de6e8-14c2-4c52-9571-3a6747f10813",
   "metadata": {
    "jp-MarkdownHeadingCollapsed": true,
    "tags": []
   },
   "source": [
    "## Riyadh (MOP, RH intents)"
   ]
  },
  {
   "cell_type": "markdown",
   "id": "cab5fac1-b409-4c42-9258-ba6d668ec8d7",
   "metadata": {
    "tags": []
   },
   "source": [
    "### Create Shape"
   ]
  },
  {
   "cell_type": "code",
   "execution_count": null,
   "id": "92e22f90-60a2-47d8-94cb-6ebc5aba29f3",
   "metadata": {},
   "outputs": [],
   "source": [
    "from geo_tool import create_polygons\n",
    "from geo_tool.preprocess import GeoAggregator"
   ]
  },
  {
   "cell_type": "code",
   "execution_count": null,
   "id": "65dbe94e-4f63-4505-9e4e-98d4d60e1246",
   "metadata": {},
   "outputs": [],
   "source": [
    "# not the settings that were used initially\n",
    "\n",
    "setup = {\n",
    "    'lat_min': 24.4,# 24.322995193443617,\n",
    "    'lon_min': 46.4, # 46.31937651439429,\n",
    "    'lat_max': 25.102463220881223,\n",
    "    'lon_max': 47.08501151812489\n",
    "}"
   ]
  },
  {
   "cell_type": "code",
   "execution_count": null,
   "id": "0cfa7e2a-3ae7-49ae-a5ee-c7b5f58de0d1",
   "metadata": {},
   "outputs": [],
   "source": [
    "squares = create_polygons(\n",
    "    setup['lat_min'],\n",
    "    setup['lon_min'],\n",
    "    4000,\n",
    "    36//2\n",
    ")"
   ]
  },
  {
   "cell_type": "code",
   "execution_count": null,
   "id": "707009b5-cc3d-48fe-b43b-32ce3f740de8",
   "metadata": {},
   "outputs": [],
   "source": [
    "squares.geometry.iloc[-1].wkt"
   ]
  },
  {
   "cell_type": "code",
   "execution_count": null,
   "id": "f5cef729-842f-4a9c-8f9c-0b86b4973096",
   "metadata": {},
   "outputs": [],
   "source": [
    "# Starting point is left low\n",
    "\n",
    "squares.explore()"
   ]
  },
  {
   "cell_type": "code",
   "execution_count": null,
   "id": "a9a61056-2b59-4956-8911-4fd75a55e0a9",
   "metadata": {},
   "outputs": [],
   "source": [
    "squares.to_parquet('data/riyadh_squares.pq')"
   ]
  },
  {
   "cell_type": "code",
   "execution_count": null,
   "id": "0a60aacb-c6ea-4a92-af98-6ebd28e9e414",
   "metadata": {},
   "outputs": [],
   "source": [
    "n = int(np.sqrt(len(squares)))\n",
    "\n",
    "ids_mat = np.rot90(squares.square_id.values.reshape(n, n))"
   ]
  },
  {
   "cell_type": "code",
   "execution_count": null,
   "id": "ff816791-4b82-4fe3-9a38-7b3b204b9a81",
   "metadata": {},
   "outputs": [],
   "source": [
    "ids_mat"
   ]
  },
  {
   "cell_type": "code",
   "execution_count": null,
   "id": "66822e1f-719c-4718-b93e-fce4ee802e3d",
   "metadata": {},
   "outputs": [],
   "source": [
    "with open('data/riyadh_squares.npy', 'wb') as file:\n",
    "    np.save(file, ids_mat)"
   ]
  },
  {
   "cell_type": "code",
   "execution_count": null,
   "id": "7c616489-d6f2-4a5b-96ed-e65e590020d5",
   "metadata": {},
   "outputs": [],
   "source": [
    "pd_squares = pd.DataFrame({'square_id': squares.square_id.values})"
   ]
  },
  {
   "cell_type": "code",
   "execution_count": null,
   "id": "414b88da-869f-4b8e-adac-f5e11e831a00",
   "metadata": {},
   "outputs": [],
   "source": [
    "pd_squares.to_parquet('data/pd_squares.pq')"
   ]
  },
  {
   "cell_type": "markdown",
   "id": "c04f4d05-bda9-42a8-b785-5bef1e74cec5",
   "metadata": {},
   "source": [
    "### Load Data"
   ]
  },
  {
   "cell_type": "markdown",
   "id": "5f568ac1-1e0a-4325-9bcc-3ac0bc2b7c39",
   "metadata": {},
   "source": [
    "Warning: this takes a lot of time!"
   ]
  },
  {
   "cell_type": "code",
   "execution_count": null,
   "id": "e2558acd-32f5-4a93-86c3-bd9349f9457e",
   "metadata": {},
   "outputs": [],
   "source": [
    "from queries import get_locations_data"
   ]
  },
  {
   "cell_type": "code",
   "execution_count": null,
   "id": "5fc07060-3315-4721-ae5b-25c2b53153c9",
   "metadata": {},
   "outputs": [],
   "source": [
    "conn = presto.connect(\n",
    "    host='presto-python-r-script-cluster.careem-engineering.com',\n",
    "    username='presto_python_r',\n",
    "    port=8080\n",
    ")"
   ]
  },
  {
   "cell_type": "code",
   "execution_count": null,
   "id": "3960e306-e237-4311-97f8-a6d5e1d39666",
   "metadata": {},
   "outputs": [],
   "source": [
    "date_range = [str(x).split(' ')[0] for x in pd.date_range(start='2023-05-01', end='2023-05-01', freq='D')]  # start='2022-09-01'\n",
    "\n",
    "len(date_range)"
   ]
  },
  {
   "cell_type": "code",
   "execution_count": null,
   "id": "011fccab-a2f4-46e2-898a-6a9cc04e4be6",
   "metadata": {},
   "outputs": [],
   "source": [
    "df_list = []\n",
    "intents_list = []\n",
    "orders_geo_agg = GeoAggregator(squares, setup)\n",
    "\n",
    "\n",
    "\n",
    "for date in tqdm(date_range):\n",
    "    sub = pd.read_sql(sql=get_locations_data(date, 3), con=conn)\n",
    "    intents_list.append(sub)\n",
    "    sub = orders_geo_agg.preprocess(sub, resampling_window='1H')\n",
    "    df_list.append(sub)\n",
    "\n",
    "intents_df = pd.concat(intents_list, ignore_index=True)\n",
    "snapshots = pd.concat(df_list, ignore_index=True).sort_values(['ts', 'square_id']).reset_index(drop=True)\n",
    "\n",
    "\n",
    "del sub\n",
    "del df_list\n",
    "del intents_list\n",
    "\n",
    "_ = gc.collect()"
   ]
  },
  {
   "cell_type": "code",
   "execution_count": null,
   "id": "cd786339-afdb-4f15-b225-8a8c4916bfdf",
   "metadata": {},
   "outputs": [],
   "source": [
    "len(snapshots)"
   ]
  },
  {
   "cell_type": "code",
   "execution_count": null,
   "id": "b319ce48-8219-4fa8-bf8e-9479ec88d77b",
   "metadata": {},
   "outputs": [],
   "source": [
    "snapshots.head(20)"
   ]
  },
  {
   "cell_type": "code",
   "execution_count": null,
   "id": "b14058b3-4b63-4645-8d1a-6daa9f7e8049",
   "metadata": {},
   "outputs": [],
   "source": [
    "intents_df.to_parquet('data/riyadh_data_med.pq')\n",
    "snapshots.to_parquet('data/riyadh_snap_med.pq')"
   ]
  },
  {
   "cell_type": "markdown",
   "id": "651b34e3-a026-4c73-847d-2ac7634f17ac",
   "metadata": {},
   "source": [
    "## Amman (MOT, Food orders)"
   ]
  },
  {
   "cell_type": "markdown",
   "id": "3ee7c65f-eb22-4a4a-a9d2-d03444aea5b8",
   "metadata": {
    "tags": []
   },
   "source": [
    "#### Squares"
   ]
  },
  {
   "cell_type": "code",
   "execution_count": 3,
   "id": "03012b3b-bdd5-459d-86ee-baa403cf6bea",
   "metadata": {},
   "outputs": [],
   "source": [
    "from geo_tool import create_polygons\n",
    "from geo_tool.preprocess import GeoAggregator"
   ]
  },
  {
   "cell_type": "code",
   "execution_count": 4,
   "id": "9930f275-3044-431a-8677-69e773df4569",
   "metadata": {},
   "outputs": [],
   "source": [
    "# alligned with current tiles through valid starting point\n",
    "\n",
    "setup = {\n",
    "    'lat_min': 31.866163,\n",
    "    'lon_min': 35.839814,\n",
    "    'lat_max': 32.1,\n",
    "    'lon_max': 36.05\n",
    "}"
   ]
  },
  {
   "cell_type": "raw",
   "id": "2ebda689-b2a5-47cd-ad2f-5bf9807a81be",
   "metadata": {},
   "source": [
    "squares = create_polygons(setup['lat_min'], setup['lon_min'], 2000, 10)"
   ]
  },
  {
   "cell_type": "code",
   "execution_count": 5,
   "id": "23d98295-1691-4091-a4e4-3b3d1b7e7770",
   "metadata": {},
   "outputs": [],
   "source": [
    "squares = gpd.read_parquet('data/valid_amman_poly.pq')[['square_id', 'geometry']]"
   ]
  },
  {
   "cell_type": "code",
   "execution_count": 6,
   "id": "de31ff52-fe76-4f06-81f6-33fcb6ae090c",
   "metadata": {},
   "outputs": [
    {
     "data": {
      "text/html": [
       "<div style=\"width:100%;\"><div style=\"position:relative;width:100%;height:0;padding-bottom:60%;\"><span style=\"color:#565656\">Make this Notebook Trusted to load map: File -> Trust Notebook</span><iframe srcdoc=\"&lt;!DOCTYPE html&gt;\n",
       "&lt;html&gt;\n",
       "&lt;head&gt;\n",
       "    \n",
       "    &lt;meta http-equiv=&quot;content-type&quot; content=&quot;text/html; charset=UTF-8&quot; /&gt;\n",
       "    \n",
       "        &lt;script&gt;\n",
       "            L_NO_TOUCH = false;\n",
       "            L_DISABLE_3D = false;\n",
       "        &lt;/script&gt;\n",
       "    \n",
       "    &lt;style&gt;html, body {width: 100%;height: 100%;margin: 0;padding: 0;}&lt;/style&gt;\n",
       "    &lt;style&gt;#map {position:absolute;top:0;bottom:0;right:0;left:0;}&lt;/style&gt;\n",
       "    &lt;script src=&quot;https://cdn.jsdelivr.net/npm/leaflet@1.9.3/dist/leaflet.js&quot;&gt;&lt;/script&gt;\n",
       "    &lt;script src=&quot;https://code.jquery.com/jquery-1.12.4.min.js&quot;&gt;&lt;/script&gt;\n",
       "    &lt;script src=&quot;https://cdn.jsdelivr.net/npm/bootstrap@5.2.2/dist/js/bootstrap.bundle.min.js&quot;&gt;&lt;/script&gt;\n",
       "    &lt;script src=&quot;https://cdnjs.cloudflare.com/ajax/libs/Leaflet.awesome-markers/2.0.2/leaflet.awesome-markers.js&quot;&gt;&lt;/script&gt;\n",
       "    &lt;link rel=&quot;stylesheet&quot; href=&quot;https://cdn.jsdelivr.net/npm/leaflet@1.9.3/dist/leaflet.css&quot;/&gt;\n",
       "    &lt;link rel=&quot;stylesheet&quot; href=&quot;https://cdn.jsdelivr.net/npm/bootstrap@5.2.2/dist/css/bootstrap.min.css&quot;/&gt;\n",
       "    &lt;link rel=&quot;stylesheet&quot; href=&quot;https://netdna.bootstrapcdn.com/bootstrap/3.0.0/css/bootstrap.min.css&quot;/&gt;\n",
       "    &lt;link rel=&quot;stylesheet&quot; href=&quot;https://cdn.jsdelivr.net/npm/@fortawesome/fontawesome-free@6.2.0/css/all.min.css&quot;/&gt;\n",
       "    &lt;link rel=&quot;stylesheet&quot; href=&quot;https://cdnjs.cloudflare.com/ajax/libs/Leaflet.awesome-markers/2.0.2/leaflet.awesome-markers.css&quot;/&gt;\n",
       "    &lt;link rel=&quot;stylesheet&quot; href=&quot;https://cdn.jsdelivr.net/gh/python-visualization/folium/folium/templates/leaflet.awesome.rotate.min.css&quot;/&gt;\n",
       "    \n",
       "            &lt;meta name=&quot;viewport&quot; content=&quot;width=device-width,\n",
       "                initial-scale=1.0, maximum-scale=1.0, user-scalable=no&quot; /&gt;\n",
       "            &lt;style&gt;\n",
       "                #map_3b9a424debfb244537d08edcd9b17a2c {\n",
       "                    position: relative;\n",
       "                    width: 100.0%;\n",
       "                    height: 100.0%;\n",
       "                    left: 0.0%;\n",
       "                    top: 0.0%;\n",
       "                }\n",
       "                .leaflet-container { font-size: 1rem; }\n",
       "            &lt;/style&gt;\n",
       "        \n",
       "    \n",
       "                    &lt;style&gt;\n",
       "                        .foliumtooltip {\n",
       "                            \n",
       "                        }\n",
       "                       .foliumtooltip table{\n",
       "                            margin: auto;\n",
       "                        }\n",
       "                        .foliumtooltip tr{\n",
       "                            text-align: left;\n",
       "                        }\n",
       "                        .foliumtooltip th{\n",
       "                            padding: 2px; padding-right: 8px;\n",
       "                        }\n",
       "                    &lt;/style&gt;\n",
       "            \n",
       "&lt;/head&gt;\n",
       "&lt;body&gt;\n",
       "    \n",
       "    \n",
       "            &lt;div class=&quot;folium-map&quot; id=&quot;map_3b9a424debfb244537d08edcd9b17a2c&quot; &gt;&lt;/div&gt;\n",
       "        \n",
       "&lt;/body&gt;\n",
       "&lt;script&gt;\n",
       "    \n",
       "    \n",
       "            var map_3b9a424debfb244537d08edcd9b17a2c = L.map(\n",
       "                &quot;map_3b9a424debfb244537d08edcd9b17a2c&quot;,\n",
       "                {\n",
       "                    center: [31.9566, 35.92452463394132],\n",
       "                    crs: L.CRS.EPSG3857,\n",
       "                    zoom: 10,\n",
       "                    zoomControl: true,\n",
       "                    preferCanvas: false,\n",
       "                }\n",
       "            );\n",
       "            L.control.scale().addTo(map_3b9a424debfb244537d08edcd9b17a2c);\n",
       "\n",
       "            \n",
       "\n",
       "        \n",
       "    \n",
       "            var tile_layer_5fa60e703068e601493bd53e7b7468fb = L.tileLayer(\n",
       "                &quot;https://{s}.tile.openstreetmap.org/{z}/{x}/{y}.png&quot;,\n",
       "                {&quot;attribution&quot;: &quot;Data by \\u0026copy; \\u003ca target=\\&quot;_blank\\&quot; href=\\&quot;http://openstreetmap.org\\&quot;\\u003eOpenStreetMap\\u003c/a\\u003e, under \\u003ca target=\\&quot;_blank\\&quot; href=\\&quot;http://www.openstreetmap.org/copyright\\&quot;\\u003eODbL\\u003c/a\\u003e.&quot;, &quot;detectRetina&quot;: false, &quot;maxNativeZoom&quot;: 18, &quot;maxZoom&quot;: 18, &quot;minZoom&quot;: 0, &quot;noWrap&quot;: false, &quot;opacity&quot;: 1, &quot;subdomains&quot;: &quot;abc&quot;, &quot;tms&quot;: false}\n",
       "            ).addTo(map_3b9a424debfb244537d08edcd9b17a2c);\n",
       "        \n",
       "    \n",
       "            map_3b9a424debfb244537d08edcd9b17a2c.fitBounds(\n",
       "                [[31.86616282670429, 35.81863840199382], [32.04703717329571, 36.03041086588882]],\n",
       "                {}\n",
       "            );\n",
       "        \n",
       "    \n",
       "        function geo_json_1bde2fc2fb117d6bca7409e411771e37_styler(feature) {\n",
       "            switch(feature.id) {\n",
       "                default:\n",
       "                    return {&quot;fillOpacity&quot;: 0.5, &quot;weight&quot;: 2};\n",
       "            }\n",
       "        }\n",
       "        function geo_json_1bde2fc2fb117d6bca7409e411771e37_highlighter(feature) {\n",
       "            switch(feature.id) {\n",
       "                default:\n",
       "                    return {&quot;fillOpacity&quot;: 0.75};\n",
       "            }\n",
       "        }\n",
       "        function geo_json_1bde2fc2fb117d6bca7409e411771e37_pointToLayer(feature, latlng) {\n",
       "            var opts = {&quot;bubblingMouseEvents&quot;: true, &quot;color&quot;: &quot;#3388ff&quot;, &quot;dashArray&quot;: null, &quot;dashOffset&quot;: null, &quot;fill&quot;: true, &quot;fillColor&quot;: &quot;#3388ff&quot;, &quot;fillOpacity&quot;: 0.2, &quot;fillRule&quot;: &quot;evenodd&quot;, &quot;lineCap&quot;: &quot;round&quot;, &quot;lineJoin&quot;: &quot;round&quot;, &quot;opacity&quot;: 1.0, &quot;radius&quot;: 2, &quot;stroke&quot;: true, &quot;weight&quot;: 3};\n",
       "            \n",
       "            let style = geo_json_1bde2fc2fb117d6bca7409e411771e37_styler(feature)\n",
       "            Object.assign(opts, style)\n",
       "            \n",
       "            return new L.CircleMarker(latlng, opts)\n",
       "        }\n",
       "\n",
       "        function geo_json_1bde2fc2fb117d6bca7409e411771e37_onEachFeature(feature, layer) {\n",
       "            layer.on({\n",
       "                mouseout: function(e) {\n",
       "                    if(typeof e.target.setStyle === &quot;function&quot;){\n",
       "                        geo_json_1bde2fc2fb117d6bca7409e411771e37.resetStyle(e.target);\n",
       "                    }\n",
       "                },\n",
       "                mouseover: function(e) {\n",
       "                    if(typeof e.target.setStyle === &quot;function&quot;){\n",
       "                        const highlightStyle = geo_json_1bde2fc2fb117d6bca7409e411771e37_highlighter(e.target.feature)\n",
       "                        e.target.setStyle(highlightStyle);\n",
       "                    }\n",
       "                },\n",
       "            });\n",
       "        };\n",
       "        var geo_json_1bde2fc2fb117d6bca7409e411771e37 = L.geoJson(null, {\n",
       "                onEachFeature: geo_json_1bde2fc2fb117d6bca7409e411771e37_onEachFeature,\n",
       "            \n",
       "                style: geo_json_1bde2fc2fb117d6bca7409e411771e37_styler,\n",
       "                pointToLayer: geo_json_1bde2fc2fb117d6bca7409e411771e37_pointToLayer\n",
       "        });\n",
       "\n",
       "        function geo_json_1bde2fc2fb117d6bca7409e411771e37_add (data) {\n",
       "            geo_json_1bde2fc2fb117d6bca7409e411771e37\n",
       "                .addData(data)\n",
       "                .addTo(map_3b9a424debfb244537d08edcd9b17a2c);\n",
       "        }\n",
       "            geo_json_1bde2fc2fb117d6bca7409e411771e37_add({&quot;bbox&quot;: [35.81863840199382, 31.86616282670429, 36.03041086588882, 32.04703717329571], &quot;features&quot;: [{&quot;bbox&quot;: [35.818657167305886, 31.86616282670429, 35.83981380604861, 31.884250261363434], &quot;geometry&quot;: {&quot;coordinates&quot;: [[[35.818657167305886, 31.86616282670429], [35.818657167305886, 31.884250261363434], [35.83981380604861, 31.884250261363434], [35.83981380604861, 31.86616282670429], [35.818657167305886, 31.86616282670429]]], &quot;type&quot;: &quot;Polygon&quot;}, &quot;id&quot;: &quot;0&quot;, &quot;properties&quot;: {&quot;square_id&quot;: 0}, &quot;type&quot;: &quot;Feature&quot;}, {&quot;bbox&quot;: [35.818655089769514, 31.88425026136343, 35.83981588358498, 31.902337696022574], &quot;geometry&quot;: {&quot;coordinates&quot;: [[[35.818655089769514, 31.88425026136343], [35.818655089769514, 31.902337696022574], [35.83981588358498, 31.902337696022574], [35.83981588358498, 31.88425026136343], [35.818655089769514, 31.88425026136343]]], &quot;type&quot;: &quot;Polygon&quot;}, &quot;id&quot;: &quot;1&quot;, &quot;properties&quot;: {&quot;square_id&quot;: 1}, &quot;type&quot;: &quot;Feature&quot;}, {&quot;bbox&quot;: [35.81865301036211, 31.902337696022574, 35.839817962992385, 31.920425130681718], &quot;geometry&quot;: {&quot;coordinates&quot;: [[[35.81865301036211, 31.902337696022574], [35.81865301036211, 31.920425130681718], [35.839817962992385, 31.920425130681718], [35.839817962992385, 31.902337696022574], [35.81865301036211, 31.902337696022574]]], &quot;type&quot;: &quot;Polygon&quot;}, &quot;id&quot;: &quot;2&quot;, &quot;properties&quot;: {&quot;square_id&quot;: 2}, &quot;type&quot;: &quot;Feature&quot;}, {&quot;bbox&quot;: [35.81865092908217, 31.920425130681714, 35.83982004427233, 31.938512565340858], &quot;geometry&quot;: {&quot;coordinates&quot;: [[[35.81865092908217, 31.920425130681714], [35.81865092908217, 31.938512565340858], [35.83982004427233, 31.938512565340858], [35.83982004427233, 31.920425130681714], [35.81865092908217, 31.920425130681714]]], &quot;type&quot;: &quot;Polygon&quot;}, &quot;id&quot;: &quot;3&quot;, &quot;properties&quot;: {&quot;square_id&quot;: 3}, &quot;type&quot;: &quot;Feature&quot;}, {&quot;bbox&quot;: [35.81864884592816, 31.938512565340858, 35.83982212742634, 31.9566], &quot;geometry&quot;: {&quot;coordinates&quot;: [[[35.81864884592816, 31.938512565340858], [35.81864884592816, 31.9566], [35.83982212742634, 31.9566], [35.83982212742634, 31.938512565340858], [35.81864884592816, 31.938512565340858]]], &quot;type&quot;: &quot;Polygon&quot;}, &quot;id&quot;: &quot;4&quot;, &quot;properties&quot;: {&quot;square_id&quot;: 4}, &quot;type&quot;: &quot;Feature&quot;}, {&quot;bbox&quot;: [35.81864676089857, 31.9566, 35.83982421245593, 31.974687434659145], &quot;geometry&quot;: {&quot;coordinates&quot;: [[[35.81864676089857, 31.9566], [35.81864676089857, 31.974687434659145], [35.83982421245593, 31.974687434659145], [35.83982421245593, 31.9566], [35.81864676089857, 31.9566]]], &quot;type&quot;: &quot;Polygon&quot;}, &quot;id&quot;: &quot;5&quot;, &quot;properties&quot;: {&quot;square_id&quot;: 5}, &quot;type&quot;: &quot;Feature&quot;}, {&quot;bbox&quot;: [35.81864467399186, 31.974687434659145, 35.839826299362635, 31.99277486931829], &quot;geometry&quot;: {&quot;coordinates&quot;: [[[35.81864467399186, 31.974687434659145], [35.81864467399186, 31.99277486931829], [35.839826299362635, 31.99277486931829], [35.839826299362635, 31.974687434659145], [35.81864467399186, 31.974687434659145]]], &quot;type&quot;: &quot;Polygon&quot;}, &quot;id&quot;: &quot;6&quot;, &quot;properties&quot;: {&quot;square_id&quot;: 6}, &quot;type&quot;: &quot;Feature&quot;}, {&quot;bbox&quot;: [35.818642585206526, 31.992774869318286, 35.83982838814797, 32.010862303977426], &quot;geometry&quot;: {&quot;coordinates&quot;: [[[35.818642585206526, 31.992774869318286], [35.818642585206526, 32.010862303977426], [35.83982838814797, 32.010862303977426], [35.83982838814797, 31.992774869318286], [35.818642585206526, 31.992774869318286]]], &quot;type&quot;: &quot;Polygon&quot;}, &quot;id&quot;: &quot;7&quot;, &quot;properties&quot;: {&quot;square_id&quot;: 7}, &quot;type&quot;: &quot;Feature&quot;}, {&quot;bbox&quot;: [35.81864049454102, 32.010862303977426, 35.839830478813475, 32.02894973863656], &quot;geometry&quot;: {&quot;coordinates&quot;: [[[35.81864049454102, 32.010862303977426], [35.81864049454102, 32.02894973863656], [35.839830478813475, 32.02894973863656], [35.839830478813475, 32.010862303977426], [35.81864049454102, 32.010862303977426]]], &quot;type&quot;: &quot;Polygon&quot;}, &quot;id&quot;: &quot;8&quot;, &quot;properties&quot;: {&quot;square_id&quot;: 8}, &quot;type&quot;: &quot;Feature&quot;}, {&quot;bbox&quot;: [35.81863840199382, 32.02894973863658, 35.839832571360674, 32.04703717329571], &quot;geometry&quot;: {&quot;coordinates&quot;: [[[35.81863840199382, 32.02894973863658], [35.81863840199382, 32.04703717329571], [35.839832571360674, 32.04703717329571], [35.839832571360674, 32.02894973863658], [35.81863840199382, 32.02894973863658]]], &quot;type&quot;: &quot;Polygon&quot;}, &quot;id&quot;: &quot;9&quot;, &quot;properties&quot;: {&quot;square_id&quot;: 9}, &quot;type&quot;: &quot;Feature&quot;}, {&quot;bbox&quot;: [35.83983253336457, 31.86616282670429, 35.860989172107296, 31.884250261363434], &quot;geometry&quot;: {&quot;coordinates&quot;: [[[35.83983253336457, 31.86616282670429], [35.83983253336457, 31.884250261363434], [35.860989172107296, 31.884250261363434], [35.860989172107296, 31.86616282670429], [35.83983253336457, 31.86616282670429]]], &quot;type&quot;: &quot;Polygon&quot;}, &quot;id&quot;: &quot;10&quot;, &quot;properties&quot;: {&quot;square_id&quot;: 10}, &quot;type&quot;: &quot;Feature&quot;}, {&quot;bbox&quot;: [35.8398304558282, 31.88425026136343, 35.86099124964367, 31.902337696022574], &quot;geometry&quot;: {&quot;coordinates&quot;: [[[35.8398304558282, 31.88425026136343], [35.8398304558282, 31.902337696022574], [35.86099124964367, 31.902337696022574], [35.86099124964367, 31.88425026136343], [35.8398304558282, 31.88425026136343]]], &quot;type&quot;: &quot;Polygon&quot;}, &quot;id&quot;: &quot;11&quot;, &quot;properties&quot;: {&quot;square_id&quot;: 11}, &quot;type&quot;: &quot;Feature&quot;}, {&quot;bbox&quot;: [35.8398283764208, 31.902337696022574, 35.86099332905107, 31.920425130681718], &quot;geometry&quot;: {&quot;coordinates&quot;: [[[35.8398283764208, 31.902337696022574], [35.8398283764208, 31.920425130681718], [35.86099332905107, 31.920425130681718], [35.86099332905107, 31.902337696022574], [35.8398283764208, 31.902337696022574]]], &quot;type&quot;: &quot;Polygon&quot;}, &quot;id&quot;: &quot;12&quot;, &quot;properties&quot;: {&quot;square_id&quot;: 12}, &quot;type&quot;: &quot;Feature&quot;}, {&quot;bbox&quot;: [35.83982629514085, 31.920425130681714, 35.860995410331014, 31.938512565340858], &quot;geometry&quot;: {&quot;coordinates&quot;: [[[35.83982629514085, 31.920425130681714], [35.83982629514085, 31.938512565340858], [35.860995410331014, 31.938512565340858], [35.860995410331014, 31.920425130681714], [35.83982629514085, 31.920425130681714]]], &quot;type&quot;: &quot;Polygon&quot;}, &quot;id&quot;: &quot;13&quot;, &quot;properties&quot;: {&quot;square_id&quot;: 13}, &quot;type&quot;: &quot;Feature&quot;}, {&quot;bbox&quot;: [35.839824211986844, 31.938512565340858, 35.86099749348502, 31.9566], &quot;geometry&quot;: {&quot;coordinates&quot;: [[[35.839824211986844, 31.938512565340858], [35.839824211986844, 31.9566], [35.86099749348502, 31.9566], [35.86099749348502, 31.938512565340858], [35.839824211986844, 31.938512565340858]]], &quot;type&quot;: &quot;Polygon&quot;}, &quot;id&quot;: &quot;14&quot;, &quot;properties&quot;: {&quot;square_id&quot;: 14}, &quot;type&quot;: &quot;Feature&quot;}, {&quot;bbox&quot;: [35.83982212695725, 31.9566, 35.860999578514615, 31.974687434659145], &quot;geometry&quot;: {&quot;coordinates&quot;: [[[35.83982212695725, 31.9566], [35.83982212695725, 31.974687434659145], [35.860999578514615, 31.974687434659145], [35.860999578514615, 31.9566], [35.83982212695725, 31.9566]]], &quot;type&quot;: &quot;Polygon&quot;}, &quot;id&quot;: &quot;15&quot;, &quot;properties&quot;: {&quot;square_id&quot;: 15}, &quot;type&quot;: &quot;Feature&quot;}, {&quot;bbox&quot;: [35.83982004005055, 31.974687434659145, 35.86100166542132, 31.99277486931829], &quot;geometry&quot;: {&quot;coordinates&quot;: [[[35.83982004005055, 31.974687434659145], [35.83982004005055, 31.99277486931829], [35.86100166542132, 31.99277486931829], [35.86100166542132, 31.974687434659145], [35.83982004005055, 31.974687434659145]]], &quot;type&quot;: &quot;Polygon&quot;}, &quot;id&quot;: &quot;16&quot;, &quot;properties&quot;: {&quot;square_id&quot;: 16}, &quot;type&quot;: &quot;Feature&quot;}, {&quot;bbox&quot;: [35.83981795126521, 31.992774869318286, 35.861003754206656, 32.010862303977426], &quot;geometry&quot;: {&quot;coordinates&quot;: [[[35.83981795126521, 31.992774869318286], [35.83981795126521, 32.010862303977426], [35.861003754206656, 32.010862303977426], [35.861003754206656, 31.992774869318286], [35.83981795126521, 31.992774869318286]]], &quot;type&quot;: &quot;Polygon&quot;}, &quot;id&quot;: &quot;17&quot;, &quot;properties&quot;: {&quot;square_id&quot;: 17}, &quot;type&quot;: &quot;Feature&quot;}, {&quot;bbox&quot;: [35.83981586059971, 32.010862303977426, 35.86100584487216, 32.02894973863656], &quot;geometry&quot;: {&quot;coordinates&quot;: [[[35.83981586059971, 32.010862303977426], [35.83981586059971, 32.02894973863656], [35.86100584487216, 32.02894973863656], [35.86100584487216, 32.010862303977426], [35.83981586059971, 32.010862303977426]]], &quot;type&quot;: &quot;Polygon&quot;}, &quot;id&quot;: &quot;18&quot;, &quot;properties&quot;: {&quot;square_id&quot;: 18}, &quot;type&quot;: &quot;Feature&quot;}, {&quot;bbox&quot;: [35.83981376805251, 32.02894973863658, 35.86100793741936, 32.04703717329571], &quot;geometry&quot;: {&quot;coordinates&quot;: [[[35.83981376805251, 32.02894973863658], [35.83981376805251, 32.04703717329571], [35.86100793741936, 32.04703717329571], [35.86100793741936, 32.02894973863658], [35.83981376805251, 32.02894973863658]]], &quot;type&quot;: &quot;Polygon&quot;}, &quot;id&quot;: &quot;19&quot;, &quot;properties&quot;: {&quot;square_id&quot;: 19}, &quot;type&quot;: &quot;Feature&quot;}, {&quot;bbox&quot;: [35.86100789942325, 31.86616282670429, 35.88216453816597, 31.884250261363434], &quot;geometry&quot;: {&quot;coordinates&quot;: [[[35.86100789942325, 31.86616282670429], [35.86100789942325, 31.884250261363434], [35.88216453816597, 31.884250261363434], [35.88216453816597, 31.86616282670429], [35.86100789942325, 31.86616282670429]]], &quot;type&quot;: &quot;Polygon&quot;}, &quot;id&quot;: &quot;20&quot;, &quot;properties&quot;: {&quot;square_id&quot;: 20}, &quot;type&quot;: &quot;Feature&quot;}, {&quot;bbox&quot;: [35.86100582188688, 31.88425026136343, 35.882166615702346, 31.902337696022574], &quot;geometry&quot;: {&quot;coordinates&quot;: [[[35.86100582188688, 31.88425026136343], [35.86100582188688, 31.902337696022574], [35.882166615702346, 31.902337696022574], [35.882166615702346, 31.88425026136343], [35.86100582188688, 31.88425026136343]]], &quot;type&quot;: &quot;Polygon&quot;}, &quot;id&quot;: &quot;21&quot;, &quot;properties&quot;: {&quot;square_id&quot;: 21}, &quot;type&quot;: &quot;Feature&quot;}, {&quot;bbox&quot;: [35.861003742479475, 31.902337696022574, 35.88216869510975, 31.920425130681718], &quot;geometry&quot;: {&quot;coordinates&quot;: [[[35.861003742479475, 31.902337696022574], [35.861003742479475, 31.920425130681718], [35.88216869510975, 31.920425130681718], [35.88216869510975, 31.902337696022574], [35.861003742479475, 31.902337696022574]]], &quot;type&quot;: &quot;Polygon&quot;}, &quot;id&quot;: &quot;22&quot;, &quot;properties&quot;: {&quot;square_id&quot;: 22}, &quot;type&quot;: &quot;Feature&quot;}, {&quot;bbox&quot;: [35.86100166119953, 31.920425130681714, 35.88217077638969, 31.938512565340858], &quot;geometry&quot;: {&quot;coordinates&quot;: [[[35.86100166119953, 31.920425130681714], [35.86100166119953, 31.938512565340858], [35.88217077638969, 31.938512565340858], [35.88217077638969, 31.920425130681714], [35.86100166119953, 31.920425130681714]]], &quot;type&quot;: &quot;Polygon&quot;}, &quot;id&quot;: &quot;23&quot;, &quot;properties&quot;: {&quot;square_id&quot;: 23}, &quot;type&quot;: &quot;Feature&quot;}, {&quot;bbox&quot;: [35.86099957804552, 31.938512565340858, 35.8821728595437, 31.9566], &quot;geometry&quot;: {&quot;coordinates&quot;: [[[35.86099957804552, 31.938512565340858], [35.86099957804552, 31.9566], [35.8821728595437, 31.9566], [35.8821728595437, 31.938512565340858], [35.86099957804552, 31.938512565340858]]], &quot;type&quot;: &quot;Polygon&quot;}, &quot;id&quot;: &quot;24&quot;, &quot;properties&quot;: {&quot;square_id&quot;: 24}, &quot;type&quot;: &quot;Feature&quot;}, {&quot;bbox&quot;: [35.86099749301593, 31.9566, 35.88217494457329, 31.974687434659145], &quot;geometry&quot;: {&quot;coordinates&quot;: [[[35.86099749301593, 31.9566], [35.86099749301593, 31.974687434659145], [35.88217494457329, 31.974687434659145], [35.88217494457329, 31.9566], [35.86099749301593, 31.9566]]], &quot;type&quot;: &quot;Polygon&quot;}, &quot;id&quot;: &quot;25&quot;, &quot;properties&quot;: {&quot;square_id&quot;: 25}, &quot;type&quot;: &quot;Feature&quot;}, {&quot;bbox&quot;: [35.860995406109225, 31.974687434659145, 35.88217703148, 31.99277486931829], &quot;geometry&quot;: {&quot;coordinates&quot;: [[[35.860995406109225, 31.974687434659145], [35.860995406109225, 31.99277486931829], [35.88217703148, 31.99277486931829], [35.88217703148, 31.974687434659145], [35.860995406109225, 31.974687434659145]]], &quot;type&quot;: &quot;Polygon&quot;}, &quot;id&quot;: &quot;26&quot;, &quot;properties&quot;: {&quot;square_id&quot;: 26}, &quot;type&quot;: &quot;Feature&quot;}, {&quot;bbox&quot;: [35.86099331732389, 31.992774869318286, 35.882179120265334, 32.010862303977426], &quot;geometry&quot;: {&quot;coordinates&quot;: [[[35.86099331732389, 31.992774869318286], [35.86099331732389, 32.010862303977426], [35.882179120265334, 32.010862303977426], [35.882179120265334, 31.992774869318286], [35.86099331732389, 31.992774869318286]]], &quot;type&quot;: &quot;Polygon&quot;}, &quot;id&quot;: &quot;27&quot;, &quot;properties&quot;: {&quot;square_id&quot;: 27}, &quot;type&quot;: &quot;Feature&quot;}, {&quot;bbox&quot;: [35.860991226658385, 32.010862303977426, 35.88218121093084, 32.02894973863656], &quot;geometry&quot;: {&quot;coordinates&quot;: [[[35.860991226658385, 32.010862303977426], [35.860991226658385, 32.02894973863656], [35.88218121093084, 32.02894973863656], [35.88218121093084, 32.010862303977426], [35.860991226658385, 32.010862303977426]]], &quot;type&quot;: &quot;Polygon&quot;}, &quot;id&quot;: &quot;28&quot;, &quot;properties&quot;: {&quot;square_id&quot;: 28}, &quot;type&quot;: &quot;Feature&quot;}, {&quot;bbox&quot;: [35.860989134111186, 32.02894973863658, 35.88218330347804, 32.04703717329571], &quot;geometry&quot;: {&quot;coordinates&quot;: [[[35.860989134111186, 32.02894973863658], [35.860989134111186, 32.04703717329571], [35.88218330347804, 32.04703717329571], [35.88218330347804, 32.02894973863658], [35.860989134111186, 32.02894973863658]]], &quot;type&quot;: &quot;Polygon&quot;}, &quot;id&quot;: &quot;29&quot;, &quot;properties&quot;: {&quot;square_id&quot;: 29}, &quot;type&quot;: &quot;Feature&quot;}, {&quot;bbox&quot;: [35.882183265481935, 31.86616282670429, 35.90333990422466, 31.884250261363434], &quot;geometry&quot;: {&quot;coordinates&quot;: [[[35.882183265481935, 31.86616282670429], [35.882183265481935, 31.884250261363434], [35.90333990422466, 31.884250261363434], [35.90333990422466, 31.86616282670429], [35.882183265481935, 31.86616282670429]]], &quot;type&quot;: &quot;Polygon&quot;}, &quot;id&quot;: &quot;30&quot;, &quot;properties&quot;: {&quot;square_id&quot;: 30}, &quot;type&quot;: &quot;Feature&quot;}, {&quot;bbox&quot;: [35.88218118794556, 31.88425026136343, 35.90334198176103, 31.902337696022574], &quot;geometry&quot;: {&quot;coordinates&quot;: [[[35.88218118794556, 31.88425026136343], [35.88218118794556, 31.902337696022574], [35.90334198176103, 31.902337696022574], [35.90334198176103, 31.88425026136343], [35.88218118794556, 31.88425026136343]]], &quot;type&quot;: &quot;Polygon&quot;}, &quot;id&quot;: &quot;31&quot;, &quot;properties&quot;: {&quot;square_id&quot;: 31}, &quot;type&quot;: &quot;Feature&quot;}, {&quot;bbox&quot;: [35.88217910853816, 31.902337696022574, 35.90334406116843, 31.920425130681718], &quot;geometry&quot;: {&quot;coordinates&quot;: [[[35.88217910853816, 31.902337696022574], [35.88217910853816, 31.920425130681718], [35.90334406116843, 31.920425130681718], [35.90334406116843, 31.902337696022574], [35.88217910853816, 31.902337696022574]]], &quot;type&quot;: &quot;Polygon&quot;}, &quot;id&quot;: &quot;32&quot;, &quot;properties&quot;: {&quot;square_id&quot;: 32}, &quot;type&quot;: &quot;Feature&quot;}, {&quot;bbox&quot;: [35.882177027258216, 31.920425130681714, 35.90334614244838, 31.938512565340858], &quot;geometry&quot;: {&quot;coordinates&quot;: [[[35.882177027258216, 31.920425130681714], [35.882177027258216, 31.938512565340858], [35.90334614244838, 31.938512565340858], [35.90334614244838, 31.920425130681714], [35.882177027258216, 31.920425130681714]]], &quot;type&quot;: &quot;Polygon&quot;}, &quot;id&quot;: &quot;33&quot;, &quot;properties&quot;: {&quot;square_id&quot;: 33}, &quot;type&quot;: &quot;Feature&quot;}, {&quot;bbox&quot;: [35.88217494410421, 31.938512565340858, 35.903348225602386, 31.9566], &quot;geometry&quot;: {&quot;coordinates&quot;: [[[35.88217494410421, 31.938512565340858], [35.88217494410421, 31.9566], [35.903348225602386, 31.9566], [35.903348225602386, 31.938512565340858], [35.88217494410421, 31.938512565340858]]], &quot;type&quot;: &quot;Polygon&quot;}, &quot;id&quot;: &quot;34&quot;, &quot;properties&quot;: {&quot;square_id&quot;: 34}, &quot;type&quot;: &quot;Feature&quot;}, {&quot;bbox&quot;: [35.882172859074615, 31.9566, 35.90335031063198, 31.974687434659145], &quot;geometry&quot;: {&quot;coordinates&quot;: [[[35.882172859074615, 31.9566], [35.882172859074615, 31.974687434659145], [35.90335031063198, 31.974687434659145], [35.90335031063198, 31.9566], [35.882172859074615, 31.9566]]], &quot;type&quot;: &quot;Polygon&quot;}, &quot;id&quot;: &quot;35&quot;, &quot;properties&quot;: {&quot;square_id&quot;: 35}, &quot;type&quot;: &quot;Feature&quot;}, {&quot;bbox&quot;: [35.88217077216791, 31.974687434659145, 35.90335239753868, 31.99277486931829], &quot;geometry&quot;: {&quot;coordinates&quot;: [[[35.88217077216791, 31.974687434659145], [35.88217077216791, 31.99277486931829], [35.90335239753868, 31.99277486931829], [35.90335239753868, 31.974687434659145], [35.88217077216791, 31.974687434659145]]], &quot;type&quot;: &quot;Polygon&quot;}, &quot;id&quot;: &quot;36&quot;, &quot;properties&quot;: {&quot;square_id&quot;: 36}, &quot;type&quot;: &quot;Feature&quot;}, {&quot;bbox&quot;: [35.882168683382574, 31.992774869318286, 35.90335448632402, 32.010862303977426], &quot;geometry&quot;: {&quot;coordinates&quot;: [[[35.882168683382574, 31.992774869318286], [35.882168683382574, 32.010862303977426], [35.90335448632402, 32.010862303977426], [35.90335448632402, 31.992774869318286], [35.882168683382574, 31.992774869318286]]], &quot;type&quot;: &quot;Polygon&quot;}, &quot;id&quot;: &quot;37&quot;, &quot;properties&quot;: {&quot;square_id&quot;: 37}, &quot;type&quot;: &quot;Feature&quot;}, {&quot;bbox&quot;: [35.88216659271707, 32.010862303977426, 35.90335657698952, 32.02894973863656], &quot;geometry&quot;: {&quot;coordinates&quot;: [[[35.88216659271707, 32.010862303977426], [35.88216659271707, 32.02894973863656], [35.90335657698952, 32.02894973863656], [35.90335657698952, 32.010862303977426], [35.88216659271707, 32.010862303977426]]], &quot;type&quot;: &quot;Polygon&quot;}, &quot;id&quot;: &quot;38&quot;, &quot;properties&quot;: {&quot;square_id&quot;: 38}, &quot;type&quot;: &quot;Feature&quot;}, {&quot;bbox&quot;: [35.88216450016987, 32.02894973863658, 35.90335866953672, 32.04703717329571], &quot;geometry&quot;: {&quot;coordinates&quot;: [[[35.88216450016987, 32.02894973863658], [35.88216450016987, 32.04703717329571], [35.90335866953672, 32.04703717329571], [35.90335866953672, 32.02894973863658], [35.88216450016987, 32.02894973863658]]], &quot;type&quot;: &quot;Polygon&quot;}, &quot;id&quot;: &quot;39&quot;, &quot;properties&quot;: {&quot;square_id&quot;: 39}, &quot;type&quot;: &quot;Feature&quot;}, {&quot;bbox&quot;: [35.90335863154061, 31.86616282670429, 35.92451527028334, 31.884250261363434], &quot;geometry&quot;: {&quot;coordinates&quot;: [[[35.90335863154061, 31.86616282670429], [35.90335863154061, 31.884250261363434], [35.92451527028334, 31.884250261363434], [35.92451527028334, 31.86616282670429], [35.90335863154061, 31.86616282670429]]], &quot;type&quot;: &quot;Polygon&quot;}, &quot;id&quot;: &quot;40&quot;, &quot;properties&quot;: {&quot;square_id&quot;: 40}, &quot;type&quot;: &quot;Feature&quot;}, {&quot;bbox&quot;: [35.90335655400424, 31.88425026136343, 35.92451734781971, 31.902337696022574], &quot;geometry&quot;: {&quot;coordinates&quot;: [[[35.90335655400424, 31.88425026136343], [35.90335655400424, 31.902337696022574], [35.92451734781971, 31.902337696022574], [35.92451734781971, 31.88425026136343], [35.90335655400424, 31.88425026136343]]], &quot;type&quot;: &quot;Polygon&quot;}, &quot;id&quot;: &quot;41&quot;, &quot;properties&quot;: {&quot;square_id&quot;: 41}, &quot;type&quot;: &quot;Feature&quot;}, {&quot;bbox&quot;: [35.90335447459684, 31.902337696022574, 35.92451942722711, 31.920425130681718], &quot;geometry&quot;: {&quot;coordinates&quot;: [[[35.90335447459684, 31.902337696022574], [35.90335447459684, 31.920425130681718], [35.92451942722711, 31.920425130681718], [35.92451942722711, 31.902337696022574], [35.90335447459684, 31.902337696022574]]], &quot;type&quot;: &quot;Polygon&quot;}, &quot;id&quot;: &quot;42&quot;, &quot;properties&quot;: {&quot;square_id&quot;: 42}, &quot;type&quot;: &quot;Feature&quot;}, {&quot;bbox&quot;: [35.903352393316894, 31.920425130681714, 35.924521508507056, 31.938512565340858], &quot;geometry&quot;: {&quot;coordinates&quot;: [[[35.903352393316894, 31.920425130681714], [35.903352393316894, 31.938512565340858], [35.924521508507056, 31.938512565340858], [35.924521508507056, 31.920425130681714], [35.903352393316894, 31.920425130681714]]], &quot;type&quot;: &quot;Polygon&quot;}, &quot;id&quot;: &quot;43&quot;, &quot;properties&quot;: {&quot;square_id&quot;: 43}, &quot;type&quot;: &quot;Feature&quot;}, {&quot;bbox&quot;: [35.903350310162885, 31.938512565340858, 35.924523591661064, 31.9566], &quot;geometry&quot;: {&quot;coordinates&quot;: [[[35.903350310162885, 31.938512565340858], [35.903350310162885, 31.9566], [35.924523591661064, 31.9566], [35.924523591661064, 31.938512565340858], [35.903350310162885, 31.938512565340858]]], &quot;type&quot;: &quot;Polygon&quot;}, &quot;id&quot;: &quot;44&quot;, &quot;properties&quot;: {&quot;square_id&quot;: 44}, &quot;type&quot;: &quot;Feature&quot;}, {&quot;bbox&quot;: [35.90334822513329, 31.9566, 35.924525676690656, 31.974687434659145], &quot;geometry&quot;: {&quot;coordinates&quot;: [[[35.90334822513329, 31.9566], [35.90334822513329, 31.974687434659145], [35.924525676690656, 31.974687434659145], [35.924525676690656, 31.9566], [35.90334822513329, 31.9566]]], &quot;type&quot;: &quot;Polygon&quot;}, &quot;id&quot;: &quot;45&quot;, &quot;properties&quot;: {&quot;square_id&quot;: 45}, &quot;type&quot;: &quot;Feature&quot;}, {&quot;bbox&quot;: [35.90334613822659, 31.974687434659145, 35.92452776359736, 31.99277486931829], &quot;geometry&quot;: {&quot;coordinates&quot;: [[[35.90334613822659, 31.974687434659145], [35.90334613822659, 31.99277486931829], [35.92452776359736, 31.99277486931829], [35.92452776359736, 31.974687434659145], [35.90334613822659, 31.974687434659145]]], &quot;type&quot;: &quot;Polygon&quot;}, &quot;id&quot;: &quot;46&quot;, &quot;properties&quot;: {&quot;square_id&quot;: 46}, &quot;type&quot;: &quot;Feature&quot;}, {&quot;bbox&quot;: [35.90334404944125, 31.992774869318286, 35.9245298523827, 32.010862303977426], &quot;geometry&quot;: {&quot;coordinates&quot;: [[[35.90334404944125, 31.992774869318286], [35.90334404944125, 32.010862303977426], [35.9245298523827, 32.010862303977426], [35.9245298523827, 31.992774869318286], [35.90334404944125, 31.992774869318286]]], &quot;type&quot;: &quot;Polygon&quot;}, &quot;id&quot;: &quot;47&quot;, &quot;properties&quot;: {&quot;square_id&quot;: 47}, &quot;type&quot;: &quot;Feature&quot;}, {&quot;bbox&quot;: [35.90334195877575, 32.010862303977426, 35.9245319430482, 32.02894973863656], &quot;geometry&quot;: {&quot;coordinates&quot;: [[[35.90334195877575, 32.010862303977426], [35.90334195877575, 32.02894973863656], [35.9245319430482, 32.02894973863656], [35.9245319430482, 32.010862303977426], [35.90334195877575, 32.010862303977426]]], &quot;type&quot;: &quot;Polygon&quot;}, &quot;id&quot;: &quot;48&quot;, &quot;properties&quot;: {&quot;square_id&quot;: 48}, &quot;type&quot;: &quot;Feature&quot;}, {&quot;bbox&quot;: [35.90333986622855, 32.02894973863658, 35.9245340355954, 32.04703717329571], &quot;geometry&quot;: {&quot;coordinates&quot;: [[[35.90333986622855, 32.02894973863658], [35.90333986622855, 32.04703717329571], [35.9245340355954, 32.04703717329571], [35.9245340355954, 32.02894973863658], [35.90333986622855, 32.02894973863658]]], &quot;type&quot;: &quot;Polygon&quot;}, &quot;id&quot;: &quot;49&quot;, &quot;properties&quot;: {&quot;square_id&quot;: 49}, &quot;type&quot;: &quot;Feature&quot;}, {&quot;bbox&quot;: [35.9245339975993, 31.86616282670429, 35.94569063634202, 31.884250261363434], &quot;geometry&quot;: {&quot;coordinates&quot;: [[[35.9245339975993, 31.86616282670429], [35.9245339975993, 31.884250261363434], [35.94569063634202, 31.884250261363434], [35.94569063634202, 31.86616282670429], [35.9245339975993, 31.86616282670429]]], &quot;type&quot;: &quot;Polygon&quot;}, &quot;id&quot;: &quot;50&quot;, &quot;properties&quot;: {&quot;square_id&quot;: 50}, &quot;type&quot;: &quot;Feature&quot;}, {&quot;bbox&quot;: [35.924531920062925, 31.88425026136343, 35.945692713878394, 31.902337696022574], &quot;geometry&quot;: {&quot;coordinates&quot;: [[[35.924531920062925, 31.88425026136343], [35.924531920062925, 31.902337696022574], [35.945692713878394, 31.902337696022574], [35.945692713878394, 31.88425026136343], [35.924531920062925, 31.88425026136343]]], &quot;type&quot;: &quot;Polygon&quot;}, &quot;id&quot;: &quot;51&quot;, &quot;properties&quot;: {&quot;square_id&quot;: 51}, &quot;type&quot;: &quot;Feature&quot;}, {&quot;bbox&quot;: [35.924529840655524, 31.902337696022574, 35.945694793285796, 31.920425130681718], &quot;geometry&quot;: {&quot;coordinates&quot;: [[[35.924529840655524, 31.902337696022574], [35.924529840655524, 31.920425130681718], [35.945694793285796, 31.920425130681718], [35.945694793285796, 31.902337696022574], [35.924529840655524, 31.902337696022574]]], &quot;type&quot;: &quot;Polygon&quot;}, &quot;id&quot;: &quot;52&quot;, &quot;properties&quot;: {&quot;square_id&quot;: 52}, &quot;type&quot;: &quot;Feature&quot;}, {&quot;bbox&quot;: [35.92452775937558, 31.920425130681714, 35.94569687456574, 31.938512565340858], &quot;geometry&quot;: {&quot;coordinates&quot;: [[[35.92452775937558, 31.920425130681714], [35.92452775937558, 31.938512565340858], [35.94569687456574, 31.938512565340858], [35.94569687456574, 31.920425130681714], [35.92452775937558, 31.920425130681714]]], &quot;type&quot;: &quot;Polygon&quot;}, &quot;id&quot;: &quot;53&quot;, &quot;properties&quot;: {&quot;square_id&quot;: 53}, &quot;type&quot;: &quot;Feature&quot;}, {&quot;bbox&quot;: [35.92452567622157, 31.938512565340858, 35.94569895771975, 31.9566], &quot;geometry&quot;: {&quot;coordinates&quot;: [[[35.92452567622157, 31.938512565340858], [35.92452567622157, 31.9566], [35.94569895771975, 31.9566], [35.94569895771975, 31.938512565340858], [35.92452567622157, 31.938512565340858]]], &quot;type&quot;: &quot;Polygon&quot;}, &quot;id&quot;: &quot;54&quot;, &quot;properties&quot;: {&quot;square_id&quot;: 54}, &quot;type&quot;: &quot;Feature&quot;}, {&quot;bbox&quot;: [35.92452359119198, 31.9566, 35.94570104274934, 31.974687434659145], &quot;geometry&quot;: {&quot;coordinates&quot;: [[[35.92452359119198, 31.9566], [35.92452359119198, 31.974687434659145], [35.94570104274934, 31.974687434659145], [35.94570104274934, 31.9566], [35.92452359119198, 31.9566]]], &quot;type&quot;: &quot;Polygon&quot;}, &quot;id&quot;: &quot;55&quot;, &quot;properties&quot;: {&quot;square_id&quot;: 55}, &quot;type&quot;: &quot;Feature&quot;}, {&quot;bbox&quot;: [35.92452150428527, 31.974687434659145, 35.945703129656046, 31.99277486931829], &quot;geometry&quot;: {&quot;coordinates&quot;: [[[35.92452150428527, 31.974687434659145], [35.92452150428527, 31.99277486931829], [35.945703129656046, 31.99277486931829], [35.945703129656046, 31.974687434659145], [35.92452150428527, 31.974687434659145]]], &quot;type&quot;: &quot;Polygon&quot;}, &quot;id&quot;: &quot;56&quot;, &quot;properties&quot;: {&quot;square_id&quot;: 56}, &quot;type&quot;: &quot;Feature&quot;}, {&quot;bbox&quot;: [35.92451941549994, 31.992774869318286, 35.94570521844138, 32.010862303977426], &quot;geometry&quot;: {&quot;coordinates&quot;: [[[35.92451941549994, 31.992774869318286], [35.92451941549994, 32.010862303977426], [35.94570521844138, 32.010862303977426], [35.94570521844138, 31.992774869318286], [35.92451941549994, 31.992774869318286]]], &quot;type&quot;: &quot;Polygon&quot;}, &quot;id&quot;: &quot;57&quot;, &quot;properties&quot;: {&quot;square_id&quot;: 57}, &quot;type&quot;: &quot;Feature&quot;}, {&quot;bbox&quot;: [35.92451732483443, 32.010862303977426, 35.945707309106886, 32.02894973863656], &quot;geometry&quot;: {&quot;coordinates&quot;: [[[35.92451732483443, 32.010862303977426], [35.92451732483443, 32.02894973863656], [35.945707309106886, 32.02894973863656], [35.945707309106886, 32.010862303977426], [35.92451732483443, 32.010862303977426]]], &quot;type&quot;: &quot;Polygon&quot;}, &quot;id&quot;: &quot;58&quot;, &quot;properties&quot;: {&quot;square_id&quot;: 58}, &quot;type&quot;: &quot;Feature&quot;}, {&quot;bbox&quot;: [35.924515232287234, 32.02894973863658, 35.945709401654085, 32.04703717329571], &quot;geometry&quot;: {&quot;coordinates&quot;: [[[35.924515232287234, 32.02894973863658], [35.924515232287234, 32.04703717329571], [35.945709401654085, 32.04703717329571], [35.945709401654085, 32.02894973863658], [35.924515232287234, 32.02894973863658]]], &quot;type&quot;: &quot;Polygon&quot;}, &quot;id&quot;: &quot;59&quot;, &quot;properties&quot;: {&quot;square_id&quot;: 59}, &quot;type&quot;: &quot;Feature&quot;}, {&quot;bbox&quot;: [35.94570936365798, 31.86616282670429, 35.96686600240071, 31.884250261363434], &quot;geometry&quot;: {&quot;coordinates&quot;: [[[35.94570936365798, 31.86616282670429], [35.94570936365798, 31.884250261363434], [35.96686600240071, 31.884250261363434], [35.96686600240071, 31.86616282670429], [35.94570936365798, 31.86616282670429]]], &quot;type&quot;: &quot;Polygon&quot;}, &quot;id&quot;: &quot;60&quot;, &quot;properties&quot;: {&quot;square_id&quot;: 60}, &quot;type&quot;: &quot;Feature&quot;}, {&quot;bbox&quot;: [35.94570728612161, 31.88425026136343, 35.96686807993708, 31.902337696022574], &quot;geometry&quot;: {&quot;coordinates&quot;: [[[35.94570728612161, 31.88425026136343], [35.94570728612161, 31.902337696022574], [35.96686807993708, 31.902337696022574], [35.96686807993708, 31.88425026136343], [35.94570728612161, 31.88425026136343]]], &quot;type&quot;: &quot;Polygon&quot;}, &quot;id&quot;: &quot;61&quot;, &quot;properties&quot;: {&quot;square_id&quot;: 61}, &quot;type&quot;: &quot;Feature&quot;}, {&quot;bbox&quot;: [35.94570520671421, 31.902337696022574, 35.96687015934448, 31.920425130681718], &quot;geometry&quot;: {&quot;coordinates&quot;: [[[35.94570520671421, 31.902337696022574], [35.94570520671421, 31.920425130681718], [35.96687015934448, 31.920425130681718], [35.96687015934448, 31.902337696022574], [35.94570520671421, 31.902337696022574]]], &quot;type&quot;: &quot;Polygon&quot;}, &quot;id&quot;: &quot;62&quot;, &quot;properties&quot;: {&quot;square_id&quot;: 62}, &quot;type&quot;: &quot;Feature&quot;}, {&quot;bbox&quot;: [35.945703125434264, 31.920425130681714, 35.966872240624426, 31.938512565340858], &quot;geometry&quot;: {&quot;coordinates&quot;: [[[35.945703125434264, 31.920425130681714], [35.945703125434264, 31.938512565340858], [35.966872240624426, 31.938512565340858], [35.966872240624426, 31.920425130681714], [35.945703125434264, 31.920425130681714]]], &quot;type&quot;: &quot;Polygon&quot;}, &quot;id&quot;: &quot;63&quot;, &quot;properties&quot;: {&quot;square_id&quot;: 63}, &quot;type&quot;: &quot;Feature&quot;}, {&quot;bbox&quot;: [35.945701042280255, 31.938512565340858, 35.966874323778434, 31.9566], &quot;geometry&quot;: {&quot;coordinates&quot;: [[[35.945701042280255, 31.938512565340858], [35.945701042280255, 31.9566], [35.966874323778434, 31.9566], [35.966874323778434, 31.938512565340858], [35.945701042280255, 31.938512565340858]]], &quot;type&quot;: &quot;Polygon&quot;}, &quot;id&quot;: &quot;64&quot;, &quot;properties&quot;: {&quot;square_id&quot;: 64}, &quot;type&quot;: &quot;Feature&quot;}, {&quot;bbox&quot;: [35.94569895725066, 31.9566, 35.96687640880803, 31.974687434659145], &quot;geometry&quot;: {&quot;coordinates&quot;: [[[35.94569895725066, 31.9566], [35.94569895725066, 31.974687434659145], [35.96687640880803, 31.974687434659145], [35.96687640880803, 31.9566], [35.94569895725066, 31.9566]]], &quot;type&quot;: &quot;Polygon&quot;}, &quot;id&quot;: &quot;65&quot;, &quot;properties&quot;: {&quot;square_id&quot;: 65}, &quot;type&quot;: &quot;Feature&quot;}, {&quot;bbox&quot;: [35.94569687034396, 31.974687434659145, 35.96687849571473, 31.99277486931829], &quot;geometry&quot;: {&quot;coordinates&quot;: [[[35.94569687034396, 31.974687434659145], [35.94569687034396, 31.99277486931829], [35.96687849571473, 31.99277486931829], [35.96687849571473, 31.974687434659145], [35.94569687034396, 31.974687434659145]]], &quot;type&quot;: &quot;Polygon&quot;}, &quot;id&quot;: &quot;66&quot;, &quot;properties&quot;: {&quot;square_id&quot;: 66}, &quot;type&quot;: &quot;Feature&quot;}, {&quot;bbox&quot;: [35.94569478155862, 31.992774869318286, 35.96688058450007, 32.010862303977426], &quot;geometry&quot;: {&quot;coordinates&quot;: [[[35.94569478155862, 31.992774869318286], [35.94569478155862, 32.010862303977426], [35.96688058450007, 32.010862303977426], [35.96688058450007, 31.992774869318286], [35.94569478155862, 31.992774869318286]]], &quot;type&quot;: &quot;Polygon&quot;}, &quot;id&quot;: &quot;67&quot;, &quot;properties&quot;: {&quot;square_id&quot;: 67}, &quot;type&quot;: &quot;Feature&quot;}, {&quot;bbox&quot;: [35.94569269089312, 32.010862303977426, 35.96688267516557, 32.02894973863656], &quot;geometry&quot;: {&quot;coordinates&quot;: [[[35.94569269089312, 32.010862303977426], [35.94569269089312, 32.02894973863656], [35.96688267516557, 32.02894973863656], [35.96688267516557, 32.010862303977426], [35.94569269089312, 32.010862303977426]]], &quot;type&quot;: &quot;Polygon&quot;}, &quot;id&quot;: &quot;68&quot;, &quot;properties&quot;: {&quot;square_id&quot;: 68}, &quot;type&quot;: &quot;Feature&quot;}, {&quot;bbox&quot;: [35.94569059834592, 32.02894973863658, 35.96688476771277, 32.04703717329571], &quot;geometry&quot;: {&quot;coordinates&quot;: [[[35.94569059834592, 32.02894973863658], [35.94569059834592, 32.04703717329571], [35.96688476771277, 32.04703717329571], [35.96688476771277, 32.02894973863658], [35.94569059834592, 32.02894973863658]]], &quot;type&quot;: &quot;Polygon&quot;}, &quot;id&quot;: &quot;69&quot;, &quot;properties&quot;: {&quot;square_id&quot;: 69}, &quot;type&quot;: &quot;Feature&quot;}, {&quot;bbox&quot;: [35.96688472971667, 31.86616282670429, 35.98804136845939, 31.884250261363434], &quot;geometry&quot;: {&quot;coordinates&quot;: [[[35.96688472971667, 31.86616282670429], [35.96688472971667, 31.884250261363434], [35.98804136845939, 31.884250261363434], [35.98804136845939, 31.86616282670429], [35.96688472971667, 31.86616282670429]]], &quot;type&quot;: &quot;Polygon&quot;}, &quot;id&quot;: &quot;70&quot;, &quot;properties&quot;: {&quot;square_id&quot;: 70}, &quot;type&quot;: &quot;Feature&quot;}, {&quot;bbox&quot;: [35.966882652180296, 31.88425026136343, 35.988043445995764, 31.902337696022574], &quot;geometry&quot;: {&quot;coordinates&quot;: [[[35.966882652180296, 31.88425026136343], [35.966882652180296, 31.902337696022574], [35.988043445995764, 31.902337696022574], [35.988043445995764, 31.88425026136343], [35.966882652180296, 31.88425026136343]]], &quot;type&quot;: &quot;Polygon&quot;}, &quot;id&quot;: &quot;71&quot;, &quot;properties&quot;: {&quot;square_id&quot;: 71}, &quot;type&quot;: &quot;Feature&quot;}, {&quot;bbox&quot;: [35.966880572772894, 31.902337696022574, 35.988045525403166, 31.920425130681718], &quot;geometry&quot;: {&quot;coordinates&quot;: [[[35.966880572772894, 31.902337696022574], [35.966880572772894, 31.920425130681718], [35.988045525403166, 31.920425130681718], [35.988045525403166, 31.902337696022574], [35.966880572772894, 31.902337696022574]]], &quot;type&quot;: &quot;Polygon&quot;}, &quot;id&quot;: &quot;72&quot;, &quot;properties&quot;: {&quot;square_id&quot;: 72}, &quot;type&quot;: &quot;Feature&quot;}, {&quot;bbox&quot;: [35.96687849149295, 31.920425130681714, 35.98804760668311, 31.938512565340858], &quot;geometry&quot;: {&quot;coordinates&quot;: [[[35.96687849149295, 31.920425130681714], [35.96687849149295, 31.938512565340858], [35.98804760668311, 31.938512565340858], [35.98804760668311, 31.920425130681714], [35.96687849149295, 31.920425130681714]]], &quot;type&quot;: &quot;Polygon&quot;}, &quot;id&quot;: &quot;73&quot;, &quot;properties&quot;: {&quot;square_id&quot;: 73}, &quot;type&quot;: &quot;Feature&quot;}, {&quot;bbox&quot;: [35.96687640833894, 31.938512565340858, 35.98804968983712, 31.9566], &quot;geometry&quot;: {&quot;coordinates&quot;: [[[35.96687640833894, 31.938512565340858], [35.96687640833894, 31.9566], [35.98804968983712, 31.9566], [35.98804968983712, 31.938512565340858], [35.96687640833894, 31.938512565340858]]], &quot;type&quot;: &quot;Polygon&quot;}, &quot;id&quot;: &quot;74&quot;, &quot;properties&quot;: {&quot;square_id&quot;: 74}, &quot;type&quot;: &quot;Feature&quot;}, {&quot;bbox&quot;: [35.96687432330935, 31.9566, 35.98805177486671, 31.974687434659145], &quot;geometry&quot;: {&quot;coordinates&quot;: [[[35.96687432330935, 31.9566], [35.96687432330935, 31.974687434659145], [35.98805177486671, 31.974687434659145], [35.98805177486671, 31.9566], [35.96687432330935, 31.9566]]], &quot;type&quot;: &quot;Polygon&quot;}, &quot;id&quot;: &quot;75&quot;, &quot;properties&quot;: {&quot;square_id&quot;: 75}, &quot;type&quot;: &quot;Feature&quot;}, {&quot;bbox&quot;: [35.966872236402644, 31.974687434659145, 35.988053861773416, 31.99277486931829], &quot;geometry&quot;: {&quot;coordinates&quot;: [[[35.966872236402644, 31.974687434659145], [35.966872236402644, 31.99277486931829], [35.988053861773416, 31.99277486931829], [35.988053861773416, 31.974687434659145], [35.966872236402644, 31.974687434659145]]], &quot;type&quot;: &quot;Polygon&quot;}, &quot;id&quot;: &quot;76&quot;, &quot;properties&quot;: {&quot;square_id&quot;: 76}, &quot;type&quot;: &quot;Feature&quot;}, {&quot;bbox&quot;: [35.96687014761731, 31.992774869318286, 35.98805595055875, 32.010862303977426], &quot;geometry&quot;: {&quot;coordinates&quot;: [[[35.96687014761731, 31.992774869318286], [35.96687014761731, 32.010862303977426], [35.98805595055875, 32.010862303977426], [35.98805595055875, 31.992774869318286], [35.96687014761731, 31.992774869318286]]], &quot;type&quot;: &quot;Polygon&quot;}, &quot;id&quot;: &quot;77&quot;, &quot;properties&quot;: {&quot;square_id&quot;: 77}, &quot;type&quot;: &quot;Feature&quot;}, {&quot;bbox&quot;: [35.9668680569518, 32.010862303977426, 35.98805804122426, 32.02894973863656], &quot;geometry&quot;: {&quot;coordinates&quot;: [[[35.9668680569518, 32.010862303977426], [35.9668680569518, 32.02894973863656], [35.98805804122426, 32.02894973863656], [35.98805804122426, 32.010862303977426], [35.9668680569518, 32.010862303977426]]], &quot;type&quot;: &quot;Polygon&quot;}, &quot;id&quot;: &quot;78&quot;, &quot;properties&quot;: {&quot;square_id&quot;: 78}, &quot;type&quot;: &quot;Feature&quot;}, {&quot;bbox&quot;: [35.966865964404604, 32.02894973863658, 35.988060133771455, 32.04703717329571], &quot;geometry&quot;: {&quot;coordinates&quot;: [[[35.966865964404604, 32.02894973863658], [35.966865964404604, 32.04703717329571], [35.988060133771455, 32.04703717329571], [35.988060133771455, 32.02894973863658], [35.966865964404604, 32.02894973863658]]], &quot;type&quot;: &quot;Polygon&quot;}, &quot;id&quot;: &quot;79&quot;, &quot;properties&quot;: {&quot;square_id&quot;: 79}, &quot;type&quot;: &quot;Feature&quot;}, {&quot;bbox&quot;: [35.988060095775346, 31.86616282670429, 36.00921673451807, 31.884250261363434], &quot;geometry&quot;: {&quot;coordinates&quot;: [[[35.988060095775346, 31.86616282670429], [35.988060095775346, 31.884250261363434], [36.00921673451807, 31.884250261363434], [36.00921673451807, 31.86616282670429], [35.988060095775346, 31.86616282670429]]], &quot;type&quot;: &quot;Polygon&quot;}, &quot;id&quot;: &quot;80&quot;, &quot;properties&quot;: {&quot;square_id&quot;: 80}, &quot;type&quot;: &quot;Feature&quot;}, {&quot;bbox&quot;: [35.98805801823897, 31.88425026136343, 36.00921881205444, 31.902337696022574], &quot;geometry&quot;: {&quot;coordinates&quot;: [[[35.98805801823897, 31.88425026136343], [35.98805801823897, 31.902337696022574], [36.00921881205444, 31.902337696022574], [36.00921881205444, 31.88425026136343], [35.98805801823897, 31.88425026136343]]], &quot;type&quot;: &quot;Polygon&quot;}, &quot;id&quot;: &quot;81&quot;, &quot;properties&quot;: {&quot;square_id&quot;: 81}, &quot;type&quot;: &quot;Feature&quot;}, {&quot;bbox&quot;: [35.98805593883157, 31.902337696022574, 36.009220891461844, 31.920425130681718], &quot;geometry&quot;: {&quot;coordinates&quot;: [[[35.98805593883157, 31.902337696022574], [35.98805593883157, 31.920425130681718], [36.009220891461844, 31.920425130681718], [36.009220891461844, 31.902337696022574], [35.98805593883157, 31.902337696022574]]], &quot;type&quot;: &quot;Polygon&quot;}, &quot;id&quot;: &quot;82&quot;, &quot;properties&quot;: {&quot;square_id&quot;: 82}, &quot;type&quot;: &quot;Feature&quot;}, {&quot;bbox&quot;: [35.98805385755163, 31.920425130681714, 36.00922297274179, 31.938512565340858], &quot;geometry&quot;: {&quot;coordinates&quot;: [[[35.98805385755163, 31.920425130681714], [35.98805385755163, 31.938512565340858], [36.00922297274179, 31.938512565340858], [36.00922297274179, 31.920425130681714], [35.98805385755163, 31.920425130681714]]], &quot;type&quot;: &quot;Polygon&quot;}, &quot;id&quot;: &quot;83&quot;, &quot;properties&quot;: {&quot;square_id&quot;: 83}, &quot;type&quot;: &quot;Feature&quot;}, {&quot;bbox&quot;: [35.98805177439762, 31.938512565340858, 36.0092250558958, 31.9566], &quot;geometry&quot;: {&quot;coordinates&quot;: [[[35.98805177439762, 31.938512565340858], [35.98805177439762, 31.9566], [36.0092250558958, 31.9566], [36.0092250558958, 31.938512565340858], [35.98805177439762, 31.938512565340858]]], &quot;type&quot;: &quot;Polygon&quot;}, &quot;id&quot;: &quot;84&quot;, &quot;properties&quot;: {&quot;square_id&quot;: 84}, &quot;type&quot;: &quot;Feature&quot;}, {&quot;bbox&quot;: [35.988049689368026, 31.9566, 36.00922714092539, 31.974687434659145], &quot;geometry&quot;: {&quot;coordinates&quot;: [[[35.988049689368026, 31.9566], [35.988049689368026, 31.974687434659145], [36.00922714092539, 31.974687434659145], [36.00922714092539, 31.9566], [35.988049689368026, 31.9566]]], &quot;type&quot;: &quot;Polygon&quot;}, &quot;id&quot;: &quot;85&quot;, &quot;properties&quot;: {&quot;square_id&quot;: 85}, &quot;type&quot;: &quot;Feature&quot;}, {&quot;bbox&quot;: [35.98804760246132, 31.974687434659145, 36.009229227832094, 31.99277486931829], &quot;geometry&quot;: {&quot;coordinates&quot;: [[[35.98804760246132, 31.974687434659145], [35.98804760246132, 31.99277486931829], [36.009229227832094, 31.99277486931829], [36.009229227832094, 31.974687434659145], [35.98804760246132, 31.974687434659145]]], &quot;type&quot;: &quot;Polygon&quot;}, &quot;id&quot;: &quot;86&quot;, &quot;properties&quot;: {&quot;square_id&quot;: 86}, &quot;type&quot;: &quot;Feature&quot;}, {&quot;bbox&quot;: [35.988045513675985, 31.992774869318286, 36.00923131661743, 32.010862303977426], &quot;geometry&quot;: {&quot;coordinates&quot;: [[[35.988045513675985, 31.992774869318286], [35.988045513675985, 32.010862303977426], [36.00923131661743, 32.010862303977426], [36.00923131661743, 31.992774869318286], [35.988045513675985, 31.992774869318286]]], &quot;type&quot;: &quot;Polygon&quot;}, &quot;id&quot;: &quot;87&quot;, &quot;properties&quot;: {&quot;square_id&quot;: 87}, &quot;type&quot;: &quot;Feature&quot;}, {&quot;bbox&quot;: [35.98804342301048, 32.010862303977426, 36.009233407282935, 32.02894973863656], &quot;geometry&quot;: {&quot;coordinates&quot;: [[[35.98804342301048, 32.010862303977426], [35.98804342301048, 32.02894973863656], [36.009233407282935, 32.02894973863656], [36.009233407282935, 32.010862303977426], [35.98804342301048, 32.010862303977426]]], &quot;type&quot;: &quot;Polygon&quot;}, &quot;id&quot;: &quot;88&quot;, &quot;properties&quot;: {&quot;square_id&quot;: 88}, &quot;type&quot;: &quot;Feature&quot;}, {&quot;bbox&quot;: [35.98804133046328, 32.02894973863658, 36.00923549983013, 32.04703717329571], &quot;geometry&quot;: {&quot;coordinates&quot;: [[[35.98804133046328, 32.02894973863658], [35.98804133046328, 32.04703717329571], [36.00923549983013, 32.04703717329571], [36.00923549983013, 32.02894973863658], [35.98804133046328, 32.02894973863658]]], &quot;type&quot;: &quot;Polygon&quot;}, &quot;id&quot;: &quot;89&quot;, &quot;properties&quot;: {&quot;square_id&quot;: 89}, &quot;type&quot;: &quot;Feature&quot;}, {&quot;bbox&quot;: [36.00923546183403, 31.86616282670429, 36.030392100576755, 31.884250261363434], &quot;geometry&quot;: {&quot;coordinates&quot;: [[[36.00923546183403, 31.86616282670429], [36.00923546183403, 31.884250261363434], [36.030392100576755, 31.884250261363434], [36.030392100576755, 31.86616282670429], [36.00923546183403, 31.86616282670429]]], &quot;type&quot;: &quot;Polygon&quot;}, &quot;id&quot;: &quot;90&quot;, &quot;properties&quot;: {&quot;square_id&quot;: 90}, &quot;type&quot;: &quot;Feature&quot;}, {&quot;bbox&quot;: [36.00923338429766, 31.88425026136343, 36.03039417811313, 31.902337696022574], &quot;geometry&quot;: {&quot;coordinates&quot;: [[[36.00923338429766, 31.88425026136343], [36.00923338429766, 31.902337696022574], [36.03039417811313, 31.902337696022574], [36.03039417811313, 31.88425026136343], [36.00923338429766, 31.88425026136343]]], &quot;type&quot;: &quot;Polygon&quot;}, &quot;id&quot;: &quot;91&quot;, &quot;properties&quot;: {&quot;square_id&quot;: 91}, &quot;type&quot;: &quot;Feature&quot;}, {&quot;bbox&quot;: [36.00923130489026, 31.902337696022574, 36.03039625752053, 31.920425130681718], &quot;geometry&quot;: {&quot;coordinates&quot;: [[[36.00923130489026, 31.902337696022574], [36.00923130489026, 31.920425130681718], [36.03039625752053, 31.920425130681718], [36.03039625752053, 31.902337696022574], [36.00923130489026, 31.902337696022574]]], &quot;type&quot;: &quot;Polygon&quot;}, &quot;id&quot;: &quot;92&quot;, &quot;properties&quot;: {&quot;square_id&quot;: 92}, &quot;type&quot;: &quot;Feature&quot;}, {&quot;bbox&quot;: [36.00922922361031, 31.920425130681714, 36.030398338800474, 31.938512565340858], &quot;geometry&quot;: {&quot;coordinates&quot;: [[[36.00922922361031, 31.920425130681714], [36.00922922361031, 31.938512565340858], [36.030398338800474, 31.938512565340858], [36.030398338800474, 31.920425130681714], [36.00922922361031, 31.920425130681714]]], &quot;type&quot;: &quot;Polygon&quot;}, &quot;id&quot;: &quot;93&quot;, &quot;properties&quot;: {&quot;square_id&quot;: 93}, &quot;type&quot;: &quot;Feature&quot;}, {&quot;bbox&quot;: [36.009227140456304, 31.938512565340858, 36.03040042195448, 31.9566], &quot;geometry&quot;: {&quot;coordinates&quot;: [[[36.009227140456304, 31.938512565340858], [36.009227140456304, 31.9566], [36.03040042195448, 31.9566], [36.03040042195448, 31.938512565340858], [36.009227140456304, 31.938512565340858]]], &quot;type&quot;: &quot;Polygon&quot;}, &quot;id&quot;: &quot;94&quot;, &quot;properties&quot;: {&quot;square_id&quot;: 94}, &quot;type&quot;: &quot;Feature&quot;}, {&quot;bbox&quot;: [36.00922505542671, 31.9566, 36.030402506984075, 31.974687434659145], &quot;geometry&quot;: {&quot;coordinates&quot;: [[[36.00922505542671, 31.9566], [36.00922505542671, 31.974687434659145], [36.030402506984075, 31.974687434659145], [36.030402506984075, 31.9566], [36.00922505542671, 31.9566]]], &quot;type&quot;: &quot;Polygon&quot;}, &quot;id&quot;: &quot;95&quot;, &quot;properties&quot;: {&quot;square_id&quot;: 95}, &quot;type&quot;: &quot;Feature&quot;}, {&quot;bbox&quot;: [36.00922296852001, 31.974687434659145, 36.03040459389078, 31.99277486931829], &quot;geometry&quot;: {&quot;coordinates&quot;: [[[36.00922296852001, 31.974687434659145], [36.00922296852001, 31.99277486931829], [36.03040459389078, 31.99277486931829], [36.03040459389078, 31.974687434659145], [36.00922296852001, 31.974687434659145]]], &quot;type&quot;: &quot;Polygon&quot;}, &quot;id&quot;: &quot;96&quot;, &quot;properties&quot;: {&quot;square_id&quot;: 96}, &quot;type&quot;: &quot;Feature&quot;}, {&quot;bbox&quot;: [36.00922087973467, 31.992774869318286, 36.030406682676116, 32.010862303977426], &quot;geometry&quot;: {&quot;coordinates&quot;: [[[36.00922087973467, 31.992774869318286], [36.00922087973467, 32.010862303977426], [36.030406682676116, 32.010862303977426], [36.030406682676116, 31.992774869318286], [36.00922087973467, 31.992774869318286]]], &quot;type&quot;: &quot;Polygon&quot;}, &quot;id&quot;: &quot;97&quot;, &quot;properties&quot;: {&quot;square_id&quot;: 97}, &quot;type&quot;: &quot;Feature&quot;}, {&quot;bbox&quot;: [36.009218789069166, 32.010862303977426, 36.03040877334162, 32.02894973863656], &quot;geometry&quot;: {&quot;coordinates&quot;: [[[36.009218789069166, 32.010862303977426], [36.009218789069166, 32.02894973863656], [36.03040877334162, 32.02894973863656], [36.03040877334162, 32.010862303977426], [36.009218789069166, 32.010862303977426]]], &quot;type&quot;: &quot;Polygon&quot;}, &quot;id&quot;: &quot;98&quot;, &quot;properties&quot;: {&quot;square_id&quot;: 98}, &quot;type&quot;: &quot;Feature&quot;}, {&quot;bbox&quot;: [36.00921669652197, 32.02894973863658, 36.03041086588882, 32.04703717329571], &quot;geometry&quot;: {&quot;coordinates&quot;: [[[36.00921669652197, 32.02894973863658], [36.00921669652197, 32.04703717329571], [36.03041086588882, 32.04703717329571], [36.03041086588882, 32.02894973863658], [36.00921669652197, 32.02894973863658]]], &quot;type&quot;: &quot;Polygon&quot;}, &quot;id&quot;: &quot;99&quot;, &quot;properties&quot;: {&quot;square_id&quot;: 99}, &quot;type&quot;: &quot;Feature&quot;}], &quot;type&quot;: &quot;FeatureCollection&quot;});\n",
       "\n",
       "        \n",
       "    \n",
       "    geo_json_1bde2fc2fb117d6bca7409e411771e37.bindTooltip(\n",
       "    function(layer){\n",
       "    let div = L.DomUtil.create(&#x27;div&#x27;);\n",
       "    \n",
       "    let handleObject = feature=&gt;typeof(feature)==&#x27;object&#x27; ? JSON.stringify(feature) : feature;\n",
       "    let fields = [&quot;square_id&quot;];\n",
       "    let aliases = [&quot;square_id&quot;];\n",
       "    let table = &#x27;&lt;table&gt;&#x27; +\n",
       "        String(\n",
       "        fields.map(\n",
       "        (v,i)=&gt;\n",
       "        `&lt;tr&gt;\n",
       "            &lt;th&gt;${aliases[i]}&lt;/th&gt;\n",
       "            \n",
       "            &lt;td&gt;${handleObject(layer.feature.properties[v])}&lt;/td&gt;\n",
       "        &lt;/tr&gt;`).join(&#x27;&#x27;))\n",
       "    +&#x27;&lt;/table&gt;&#x27;;\n",
       "    div.innerHTML=table;\n",
       "    \n",
       "    return div\n",
       "    }\n",
       "    ,{&quot;className&quot;: &quot;foliumtooltip&quot;, &quot;sticky&quot;: true});\n",
       "                     \n",
       "&lt;/script&gt;\n",
       "&lt;/html&gt;\" style=\"position:absolute;width:100%;height:100%;left:0;top:0;border:none !important;\" allowfullscreen webkitallowfullscreen mozallowfullscreen></iframe></div></div>"
      ],
      "text/plain": [
       "<folium.folium.Map at 0x14b9c6350>"
      ]
     },
     "execution_count": 6,
     "metadata": {},
     "output_type": "execute_result"
    }
   ],
   "source": [
    "squares.explore()"
   ]
  },
  {
   "cell_type": "code",
   "execution_count": 7,
   "id": "7d98011c-5f71-4bf6-97e8-601140efab6f",
   "metadata": {},
   "outputs": [
    {
     "data": {
      "text/plain": [
       "'POLYGON ((36.00921669652197 32.02894973863658, 36.00921669652197 32.04703717329571, 36.03041086588882 32.04703717329571, 36.03041086588882 32.02894973863658, 36.00921669652197 32.02894973863658))'"
      ]
     },
     "execution_count": 7,
     "metadata": {},
     "output_type": "execute_result"
    }
   ],
   "source": [
    "squares.geometry.iloc[-1].wkt"
   ]
  },
  {
   "cell_type": "code",
   "execution_count": 8,
   "id": "8237366c-0fe6-446f-8787-c4ed6dbaa6a9",
   "metadata": {},
   "outputs": [],
   "source": [
    "squares.to_parquet('data/amman_squares.pq')"
   ]
  },
  {
   "cell_type": "code",
   "execution_count": 9,
   "id": "b309eb6c-ae1d-41c1-93fe-b9e87f6671c3",
   "metadata": {},
   "outputs": [],
   "source": [
    "n = int(np.sqrt(len(squares)))\n",
    "ids_mat = np.rot90(squares.square_id.values.reshape(n, n))\n",
    "\n",
    "with open('data/amman_squares.npy', 'wb') as file:\n",
    "    np.save(file, ids_mat)"
   ]
  },
  {
   "cell_type": "markdown",
   "id": "218b6c05-a9dd-4076-be3a-9a03be63b31f",
   "metadata": {
    "jp-MarkdownHeadingCollapsed": true,
    "tags": []
   },
   "source": [
    "#### Load Data"
   ]
  },
  {
   "cell_type": "code",
   "execution_count": null,
   "id": "1dad4f23-4201-4d2d-acc5-a29e1ccf4392",
   "metadata": {},
   "outputs": [],
   "source": [
    "from queries import get_food_demand"
   ]
  },
  {
   "cell_type": "code",
   "execution_count": null,
   "id": "fcfdd352-1513-4db8-8f89-4f2fe1380044",
   "metadata": {},
   "outputs": [],
   "source": [
    "conn = presto.connect(\n",
    "    host='presto-python-r-script-cluster.careem-engineering.com',\n",
    "    username='presto_python_r',\n",
    "    port=8080\n",
    ")"
   ]
  },
  {
   "cell_type": "code",
   "execution_count": null,
   "id": "f1dca9f7-6180-4417-91fc-137812c06ef5",
   "metadata": {},
   "outputs": [],
   "source": [
    "data = pd.read_sql(sql=get_food_demand('2022-11-01', '2023-06-10', 47), con=conn)"
   ]
  },
  {
   "cell_type": "code",
   "execution_count": null,
   "id": "b2e9e7d2-7451-48b2-819d-7c39285a22ff",
   "metadata": {},
   "outputs": [],
   "source": [
    "data = (\n",
    "    data[\n",
    "        (data.pickup_latitude > 0) &\n",
    "        (data.pickup_longitude > 0 ) &\n",
    "        (data.drop_off_latitude > 0) &\n",
    "        (data.drop_off_longitude > 0)\n",
    "    ]\n",
    ")"
   ]
  },
  {
   "cell_type": "code",
   "execution_count": null,
   "id": "bdea55d5-1086-42ff-877e-dbacc119670e",
   "metadata": {},
   "outputs": [],
   "source": [
    "data.to_parquet('data/amman.pq')"
   ]
  },
  {
   "cell_type": "markdown",
   "id": "356ebbcc-709e-4858-99e8-becefcafd1d0",
   "metadata": {},
   "source": [
    "#### Preloaded"
   ]
  },
  {
   "cell_type": "code",
   "execution_count": 10,
   "id": "3dfe3176-6a77-4122-a7d9-2fbd72ab8d6e",
   "metadata": {},
   "outputs": [],
   "source": [
    "data = pd.read_parquet('data/amman.pq')"
   ]
  },
  {
   "cell_type": "code",
   "execution_count": 11,
   "id": "73479517-5630-42b4-adfb-2d47d4df1996",
   "metadata": {},
   "outputs": [],
   "source": [
    "df = data[(data.order_type == 'food') & (data.order_status == 'delivered')].copy()\n",
    "df = df[['ts', 'customer_id', 'pickup_latitude', 'pickup_longitude']]\\\n",
    "    .rename(columns={'pickup_latitude': 'latitude', 'pickup_longitude': 'longitude'})\\\n",
    "    .assign(orders=1)\\\n",
    "    .dropna(how='any')"
   ]
  },
  {
   "cell_type": "code",
   "execution_count": 12,
   "id": "6f49c429-d9c3-4a78-bdda-6015b37b1740",
   "metadata": {},
   "outputs": [],
   "source": [
    "orders_geo_agg = GeoAggregator(squares, setup, 'customer_id', 'orders')\n",
    "df_agg = orders_geo_agg.preprocess(df, resampling_window='1H')"
   ]
  },
  {
   "cell_type": "code",
   "execution_count": 13,
   "id": "9debb74a-eb56-4f5e-b35b-78d41f5eca34",
   "metadata": {},
   "outputs": [],
   "source": [
    "df_agg.rename(columns={'orders': 'intents'})\\\n",
    "    .sort_values(['ts', 'square_id'])\\\n",
    "    .to_parquet('data/amman_data.pq')"
   ]
  },
  {
   "cell_type": "code",
   "execution_count": null,
   "id": "3d7580c3-1860-4f6d-a6cb-eb89e40ca86c",
   "metadata": {},
   "outputs": [],
   "source": []
  }
 ],
 "metadata": {
  "kernelspec": {
   "display_name": "Python [conda env:pytorch-geo] *",
   "language": "python",
   "name": "conda-env-pytorch-geo-py"
  },
  "language_info": {
   "codemirror_mode": {
    "name": "ipython",
    "version": 3
   },
   "file_extension": ".py",
   "mimetype": "text/x-python",
   "name": "python",
   "nbconvert_exporter": "python",
   "pygments_lexer": "ipython3",
   "version": "3.10.9"
  }
 },
 "nbformat": 4,
 "nbformat_minor": 5
}
