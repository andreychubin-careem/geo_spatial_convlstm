{
 "cells": [
  {
   "cell_type": "markdown",
   "id": "f8514c7a-28b7-46b5-b94d-a1553e308d9d",
   "metadata": {},
   "source": [
    "TODO: debud this shit\n",
    "\n",
    "1. Squares might be overlapping"
   ]
  },
  {
   "cell_type": "code",
   "execution_count": null,
   "id": "c4bccb20-fb62-4ed4-9faa-3680abdf4a74",
   "metadata": {},
   "outputs": [],
   "source": [
    "import gc\n",
    "import warnings\n",
    "import numpy as np\n",
    "import pandas as pd\n",
    "import geopandas as gpd\n",
    "from tqdm import tqdm"
   ]
  },
  {
   "cell_type": "code",
   "execution_count": null,
   "id": "a34247e3-3b77-4be5-8f97-910adbec0e20",
   "metadata": {},
   "outputs": [],
   "source": [
    "warnings.filterwarnings('ignore')"
   ]
  },
  {
   "cell_type": "markdown",
   "id": "cab5fac1-b409-4c42-9258-ba6d668ec8d7",
   "metadata": {},
   "source": [
    "### Create Shape"
   ]
  },
  {
   "cell_type": "code",
   "execution_count": null,
   "id": "92e22f90-60a2-47d8-94cb-6ebc5aba29f3",
   "metadata": {},
   "outputs": [],
   "source": [
    "from st_forecasting.utils.geo import create_polygons"
   ]
  },
  {
   "cell_type": "code",
   "execution_count": null,
   "id": "65dbe94e-4f63-4505-9e4e-98d4d60e1246",
   "metadata": {},
   "outputs": [],
   "source": [
    "# not the settings that were used initially\n",
    "\n",
    "setup = {\n",
    "    'lat_min': 24.4,# 24.322995193443617,\n",
    "    'lon_min': 46.4, # 46.31937651439429,\n",
    "    'lat_max': 25.102463220881223,\n",
    "    'lon_max': 47.08501151812489\n",
    "}"
   ]
  },
  {
   "cell_type": "code",
   "execution_count": null,
   "id": "0cfa7e2a-3ae7-49ae-a5ee-c7b5f58de0d1",
   "metadata": {},
   "outputs": [],
   "source": [
    "squares = create_polygons(\n",
    "    setup['lat_min'],\n",
    "    setup['lon_min'],\n",
    "    4000,\n",
    "    36//2\n",
    ")"
   ]
  },
  {
   "cell_type": "code",
   "execution_count": null,
   "id": "707009b5-cc3d-48fe-b43b-32ce3f740de8",
   "metadata": {},
   "outputs": [],
   "source": [
    "squares.geometry.iloc[-1].wkt"
   ]
  },
  {
   "cell_type": "code",
   "execution_count": null,
   "id": "f5cef729-842f-4a9c-8f9c-0b86b4973096",
   "metadata": {},
   "outputs": [],
   "source": [
    "# Starting point is left low\n",
    "\n",
    "squares.explore()"
   ]
  },
  {
   "cell_type": "code",
   "execution_count": null,
   "id": "a9a61056-2b59-4956-8911-4fd75a55e0a9",
   "metadata": {},
   "outputs": [],
   "source": [
    "squares.to_parquet('data/riyadh_squares.pq')"
   ]
  },
  {
   "cell_type": "code",
   "execution_count": null,
   "id": "0a60aacb-c6ea-4a92-af98-6ebd28e9e414",
   "metadata": {},
   "outputs": [],
   "source": [
    "n = int(np.sqrt(len(squares)))\n",
    "\n",
    "ids_mat = np.rot90(squares.square_id.values.reshape(n, n))"
   ]
  },
  {
   "cell_type": "code",
   "execution_count": null,
   "id": "ff816791-4b82-4fe3-9a38-7b3b204b9a81",
   "metadata": {},
   "outputs": [],
   "source": [
    "ids_mat"
   ]
  },
  {
   "cell_type": "code",
   "execution_count": null,
   "id": "66822e1f-719c-4718-b93e-fce4ee802e3d",
   "metadata": {},
   "outputs": [],
   "source": [
    "with open('data/riyadh_squares.npy', 'wb') as file:\n",
    "    np.save(file, ids_mat)"
   ]
  },
  {
   "cell_type": "code",
   "execution_count": null,
   "id": "7c616489-d6f2-4a5b-96ed-e65e590020d5",
   "metadata": {},
   "outputs": [],
   "source": [
    "pd_squares = pd.DataFrame({'square_id': squares.square_id.values})"
   ]
  },
  {
   "cell_type": "code",
   "execution_count": null,
   "id": "414b88da-869f-4b8e-adac-f5e11e831a00",
   "metadata": {},
   "outputs": [],
   "source": [
    "pd_squares.to_parquet('data/pd_squares.pq')"
   ]
  },
  {
   "cell_type": "markdown",
   "id": "c04f4d05-bda9-42a8-b785-5bef1e74cec5",
   "metadata": {},
   "source": [
    "### Load Data"
   ]
  },
  {
   "cell_type": "markdown",
   "id": "5f568ac1-1e0a-4325-9bcc-3ac0bc2b7c39",
   "metadata": {},
   "source": [
    "Warning: this takes a lot of time!"
   ]
  },
  {
   "cell_type": "code",
   "execution_count": null,
   "id": "e2558acd-32f5-4a93-86c3-bd9349f9457e",
   "metadata": {},
   "outputs": [],
   "source": [
    "from pyhive import presto\n",
    "\n",
    "from st_forecasting.utils.geo import preprocess\n",
    "from queries import get_locations_data"
   ]
  },
  {
   "cell_type": "code",
   "execution_count": null,
   "id": "5fc07060-3315-4721-ae5b-25c2b53153c9",
   "metadata": {},
   "outputs": [],
   "source": [
    "conn = presto.connect(\n",
    "    host='presto-python-r-script-cluster.careem-engineering.com',\n",
    "    username='presto_python_r',\n",
    "    port=8080\n",
    ")"
   ]
  },
  {
   "cell_type": "code",
   "execution_count": null,
   "id": "3960e306-e237-4311-97f8-a6d5e1d39666",
   "metadata": {},
   "outputs": [],
   "source": [
    "date_range = [str(x).split(' ')[0] for x in pd.date_range(start='2023-05-01', end='2023-05-01', freq='D')]  # start='2022-09-01'\n",
    "\n",
    "len(date_range)"
   ]
  },
  {
   "cell_type": "code",
   "execution_count": null,
   "id": "011fccab-a2f4-46e2-898a-6a9cc04e4be6",
   "metadata": {},
   "outputs": [],
   "source": [
    "df_list = []\n",
    "intents_list = []\n",
    "\n",
    "\n",
    "for date in tqdm(date_range):\n",
    "    sub = pd.read_sql(sql=get_locations_data(date, 3), con=conn)\n",
    "    intents_list.append(sub)\n",
    "    sub = preprocess(sub, squares, setup)\n",
    "    df_list.append(sub)\n",
    "\n",
    "intents_df = pd.concat(intents_list, ignore_index=True)\n",
    "snapshots = pd.concat(df_list, ignore_index=True).sort_values(['ts', 'square_id']).reset_index(drop=True)\n",
    "\n",
    "\n",
    "del sub\n",
    "del df_list\n",
    "del intents_list\n",
    "\n",
    "_ = gc.collect()"
   ]
  },
  {
   "cell_type": "code",
   "execution_count": null,
   "id": "cd786339-afdb-4f15-b225-8a8c4916bfdf",
   "metadata": {},
   "outputs": [],
   "source": [
    "len(snapshots)"
   ]
  },
  {
   "cell_type": "code",
   "execution_count": null,
   "id": "b319ce48-8219-4fa8-bf8e-9479ec88d77b",
   "metadata": {},
   "outputs": [],
   "source": [
    "snapshots.head(20)"
   ]
  },
  {
   "cell_type": "code",
   "execution_count": null,
   "id": "b14058b3-4b63-4645-8d1a-6daa9f7e8049",
   "metadata": {},
   "outputs": [],
   "source": [
    "intents_df.to_parquet('data/riyadh_data_med.pq')\n",
    "snapshots.to_parquet('data/riyadh_snap_med.pq')"
   ]
  },
  {
   "cell_type": "code",
   "execution_count": null,
   "id": "4937b5b4-9a6b-43e4-81f4-f7a0f7739059",
   "metadata": {},
   "outputs": [],
   "source": []
  }
 ],
 "metadata": {
  "kernelspec": {
   "display_name": "Python [conda env:pytorch-geo] *",
   "language": "python",
   "name": "conda-env-pytorch-geo-py"
  },
  "language_info": {
   "codemirror_mode": {
    "name": "ipython",
    "version": 3
   },
   "file_extension": ".py",
   "mimetype": "text/x-python",
   "name": "python",
   "nbconvert_exporter": "python",
   "pygments_lexer": "ipython3",
   "version": "3.10.9"
  }
 },
 "nbformat": 4,
 "nbformat_minor": 5
}
